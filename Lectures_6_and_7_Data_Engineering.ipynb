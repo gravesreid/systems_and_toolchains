{
 "cells": [
  {
   "cell_type": "markdown",
   "metadata": {
    "slideshow": {
     "slide_type": "slide"
    }
   },
   "source": [
    "<center><h1>Data Engineering</h1></center>"
   ]
  },
  {
   "cell_type": "markdown",
   "metadata": {
    "slideshow": {
     "slide_type": "slide"
    }
   },
   "source": [
    "<h2>Overview</h2>"
   ]
  },
  {
   "cell_type": "markdown",
   "metadata": {
    "slideshow": {
     "slide_type": "fragment"
    }
   },
   "source": [
    "<ul>\n",
    "<li>The Machine Learning Process</li>\n",
    "<li>Connecting Spark with Postgres</li>\n",
    "    <li>Data Cleaning</li>      \n",
    "    <li>Feature Engineering<ul><li>Variable Types</li><li>Summary Statistics</li><li>Five-number Summary and Boxplots</li>\n",
    "    <li>Numeric Variables<ul>\n",
    "        <li>Identifying High Correlations</li>\n",
    "        <li>Handling Outliers</li>\n",
    "        </ul>\n",
    "    </li>\n",
    "    <li>Categorical Variables and Categories' Encoding</li>\n",
    "    <li>Assembling Features into One Vector</li>\n",
    "    <li>Data Scaling</li>\n",
    "    <li>Data Pipelines</li>\n",
    "    </ul></li></ul>\n",
    "    </ul>"
   ]
  },
  {
   "cell_type": "markdown",
   "metadata": {
    "slideshow": {
     "slide_type": "slide"
    }
   },
   "source": [
    "<h1>The Machine Learning Process</h1>"
   ]
  },
  {
   "cell_type": "markdown",
   "metadata": {
    "slideshow": {
     "slide_type": "fragment"
    }
   },
   "source": [
    "Let's look at a real-life example of machine learning. Imagine you run a website where people sell their cars. You want your system to suggest fair starting prices for sellers when they post ads. Regression analysis can help in this case by using data from past sales, looking at car features and prices, and finding patterns between them. However, your database doesn't have enough ads, so you decide to gather car prices from public sources. You find many useful car sale records online, but much of the data is in CSV files, and a lot of it is in PDF and Word documents (with car sale listings)."
   ]
  },
  {
   "cell_type": "markdown",
   "metadata": {
    "slideshow": {
     "slide_type": "slide"
    }
   },
   "source": [
    "First, you go through the PDFs and Word documents to find and match similar details, like manufacturer, model, and make. Since a regression model can't work with text values (like 'automatic' or 'manual'), you create a method to turn these values into numbers. Then, you realize that some important details, like the year the car was made, are missing from certain records, so you choose to remove those incomplete records from your dataset."
   ]
  },
  {
   "cell_type": "markdown",
   "metadata": {
    "slideshow": {
     "slide_type": "slide"
    }
   },
   "source": [
    "Once you've cleaned and stored the data, you begin to explore different aspects of it—like how the fields relate to each other and their patterns (this helps reveal underlying connections within the data). Next, you choose the right type of regression analysis to apply"
   ]
  },
  {
   "cell_type": "markdown",
   "metadata": {
    "slideshow": {
     "slide_type": "slide"
    }
   },
   "source": [
    "Suppose you pick linear regression because the relationships in the data seem to be linear based on your earlier analysis. Before creating the model, you normalize and scale the data (I'll explain how and why this is important later) and divide it into training and validation sets. You then train your model using the training data, using past data to adjust the model's settings to predict future prices that are unknown. After training, you end up with a functional linear regression model."
   ]
  },
  {
   "cell_type": "markdown",
   "metadata": {
    "slideshow": {
     "slide_type": "slide"
    }
   },
   "source": [
    "However, when you test the model on your validation dataset, the performance is disappointing. You adjust some of the training parameters, test the model again, and continue this cycle until the model performs satisfactorily. Once it's working well, you integrate the model into your web application. Soon after, you start receiving emails from clients curious about how you achieved this or from those unhappy with inaccurate predictions."
   ]
  },
  {
   "cell_type": "markdown",
   "metadata": {
    "slideshow": {
     "slide_type": "slide"
    }
   },
   "source": [
    "What this example illustrates is that a machine-learning project consists of multiple steps. Although typical steps are shown in the following figure:"
   ]
  },
  {
   "cell_type": "markdown",
   "metadata": {
    "slideshow": {
     "slide_type": "fragment"
    }
   },
   "source": [
    "<center><figure><img src=\"http://stat.cmu.edu/~mfarag/652/lectures/l16/machine_learning_model.png\"/><figcaption>Machine Learning Modeling</figcaption></figure></center>"
   ]
  },
  {
   "cell_type": "markdown",
   "metadata": {
    "slideshow": {
     "slide_type": "slide"
    }
   },
   "source": [
    "The entire process can usually be broken down into the following:\n",
    "\n",
    "<b>Collecting data:</b> First the data needs to be gathered from various sources. The sources can be log files, database records, signals coming from sensors, and so on. Spark can help load the data from relational databases, CSV files, remote services, and distributed file systems like HDFS, or from real-time sources using Spark Streaming."
   ]
  },
  {
   "cell_type": "markdown",
   "metadata": {
    "slideshow": {
     "slide_type": "slide"
    }
   },
   "source": [
    "<b>Cleaning and preparing data:</b> Data isn’t always available in a structured format appropriate for machine learning (text, images, sounds, binary data, and so forth), so you need to devise and carry out a method of transforming this unstructured data into numerical features. Additionally, you need to handle missing data and the different forms in which the same values can be entered (for example, VW and Volkswagen are the same carmaker). Often, data also needs to be scaled so that all dimensions are of comparable ranges."
   ]
  },
  {
   "cell_type": "raw",
   "metadata": {
    "slideshow": {
     "slide_type": "notes"
    }
   },
   "source": [
    "<p style=\"page-break-after:always;\"></p>"
   ]
  },
  {
   "cell_type": "markdown",
   "metadata": {
    "slideshow": {
     "slide_type": "slide"
    }
   },
   "source": [
    "<b>Analyzing data and extracting features:</b> Next you analyze the data, examine its correlations, and visualize them (using various tools) if necessary. (The number of dimensions may be reduced in this step if some of them don’t bring any extra information: for example, if they’re redundant.) You then choose the appropriate machine-learning algorithm (or set of algorithms) and split the data into training and validation subsets—this is important because you’d like to see how the model behaves on the data not seen during the training phase. Or you decide on a different cross-validation method, where you continuously split the dataset into different training and validation datasets and average the results over the rounds."
   ]
  },
  {
   "cell_type": "markdown",
   "metadata": {
    "slideshow": {
     "slide_type": "slide"
    }
   },
   "source": [
    "<b>Training the model:</b> You train a model by running an algorithm that learns a set of algorithm-specific parameters from the input data."
   ]
  },
  {
   "cell_type": "markdown",
   "metadata": {
    "slideshow": {
     "slide_type": "slide"
    }
   },
   "source": [
    "<b>Evaluating the model:</b> You then put the model to use on the validation dataset and evaluate its performance according to some criteria. At this point, you may decide that you need more input data or that you need to change the way features were extracted. You may also change the feature space or switch to a different model. In any of these cases, you go back to step 1 or step 2."
   ]
  },
  {
   "cell_type": "markdown",
   "metadata": {
    "slideshow": {
     "slide_type": "slide"
    }
   },
   "source": [
    "<b>Using the model:</b> Finally, you deploy the built model to the production environment of your website."
   ]
  },
  {
   "cell_type": "markdown",
   "metadata": {
    "slideshow": {
     "slide_type": "slide"
    }
   },
   "source": [
    "The mechanics of using an API (Spark or some other machine-learning library) to train and test the models is only the last and the shortest part of the process. Equally important are collection, preparation, and analysis of data, where knowledge about the problem domain is needed."
   ]
  },
  {
   "cell_type": "markdown",
   "metadata": {
    "slideshow": {
     "slide_type": "slide"
    }
   },
   "source": [
    "<h1>Process Flow for Big-Data Machine Learning Process</h1>"
   ]
  },
  {
   "cell_type": "markdown",
   "metadata": {
    "slideshow": {
     "slide_type": "slide"
    }
   },
   "source": [
    "<center><figure><img src=\"http://stat.cmu.edu/~mfarag/14810/l15/machine_learning_modeling_lifecycle_in_big_data.png\"/><figcaption>Process Flow for Big-Data Machine Learning Modeling</figcaption></figure></center>"
   ]
  },
  {
   "cell_type": "markdown",
   "metadata": {
    "slideshow": {
     "slide_type": "slide"
    }
   },
   "source": [
    "<h3>Food for Thought: Why do you think a 2-phase process is necessary in big-data ML modeling?!</h3>"
   ]
  },
  {
   "cell_type": "raw",
   "metadata": {
    "slideshow": {
     "slide_type": "notes"
    }
   },
   "source": [
    "<p style=\"page-break-after:always;\"></p>"
   ]
  },
  {
   "cell_type": "markdown",
   "metadata": {
    "slideshow": {
     "slide_type": "slide"
    }
   },
   "source": [
    "<h1>Phase-I Ingest Data from CSV and Insert them into PostgreSQL</h1>"
   ]
  },
  {
   "cell_type": "markdown",
   "metadata": {
    "slideshow": {
     "slide_type": "slide"
    }
   },
   "source": [
    "<h2>1. Data Ingestion</h2>"
   ]
  },
  {
   "cell_type": "code",
   "execution_count": 1,
   "metadata": {
    "slideshow": {
     "slide_type": "fragment"
    }
   },
   "outputs": [
    {
     "name": "stdout",
     "output_type": "stream",
     "text": [
      "/home/reid/anaconda3/bin/python: No module named wget\n"
     ]
    }
   ],
   "source": [
    "!python -m wget https://www.andrew.cmu.edu/user/mfarag/14763/KDDTrain+.txt"
   ]
  },
  {
   "cell_type": "markdown",
   "metadata": {
    "slideshow": {
     "slide_type": "slide"
    }
   },
   "source": [
    "<h2>Initialize the Application</h2>"
   ]
  },
  {
   "cell_type": "code",
   "execution_count": 1,
   "metadata": {
    "slideshow": {
     "slide_type": "fragment"
    }
   },
   "outputs": [
    {
     "name": "stderr",
     "output_type": "stream",
     "text": [
      "24/09/29 11:38:26 WARN Utils: Your hostname, omen-20 resolves to a loopback address: 127.0.1.1; using 192.168.1.156 instead (on interface wlo1)\n",
      "24/09/29 11:38:26 WARN Utils: Set SPARK_LOCAL_IP if you need to bind to another address\n",
      "Setting default log level to \"WARN\".\n",
      "To adjust logging level use sc.setLogLevel(newLevel). For SparkR, use setLogLevel(newLevel).\n",
      "24/09/29 11:38:26 WARN NativeCodeLoader: Unable to load native-hadoop library for your platform... using builtin-java classes where applicable\n",
      "24/09/29 11:38:27 WARN Utils: Service 'SparkUI' could not bind on port 4040. Attempting port 4041.\n",
      "/home/reid/anaconda3/envs/systems_and_toolchains/lib/python3.12/site-packages/pyspark/sql/context.py:112: FutureWarning: Deprecated in 3.0.0. Use SparkSession.builder.getOrCreate() instead.\n",
      "  warnings.warn(\n"
     ]
    }
   ],
   "source": [
    "# Uncomment the following lines if you are using Windows!\n",
    "#import findspark\n",
    "#findspark.init()\n",
    "#findspark.find()\n",
    "\n",
    "import pyspark\n",
    "\n",
    "from pyspark.sql import SparkSession\n",
    "from pyspark import SparkContext, SQLContext\n",
    "\n",
    "appName = \"Big Data Analytics\"\n",
    "master = \"local\"\n",
    "\n",
    "# Create Configuration object for Spark.\n",
    "conf = pyspark.SparkConf()\\\n",
    "    .set('spark.driver.host','127.0.0.1')\\\n",
    "    .setAppName(appName)\\\n",
    "    .setMaster(master)\n",
    "\n",
    "# Create Spark Context with the new configurations rather than relying on the default one\n",
    "sc = SparkContext.getOrCreate(conf=conf)\n",
    "\n",
    "# You need to create SQL Context to conduct some database operations like what we will see later.\n",
    "sqlContext = SQLContext(sc)\n",
    "\n",
    "# If you have SQL context, you create the session from the Spark Context\n",
    "spark = sqlContext.sparkSession.builder.getOrCreate()"
   ]
  },
  {
   "cell_type": "markdown",
   "metadata": {
    "slideshow": {
     "slide_type": "slide"
    }
   },
   "source": [
    "<h2>Read-in the Dataset</h2>"
   ]
  },
  {
   "cell_type": "code",
   "execution_count": 2,
   "metadata": {
    "slideshow": {
     "slide_type": "fragment"
    }
   },
   "outputs": [
    {
     "name": "stderr",
     "output_type": "stream",
     "text": [
      "                                                                                \r"
     ]
    }
   ],
   "source": [
    "# Load data from csv to a dataframe on a local machine. \n",
    "# header=False means the first row is not a header \n",
    "# sep=',' means the column are seperated using ','\n",
    "col_names = [\"duration\",\"protocol_type\",\"service\",\"flag\",\"src_bytes\",\n",
    "    \"dst_bytes\",\"land\",\"wrong_fragment\",\"urgent\",\"hot\",\"num_failed_logins\",\n",
    "    \"logged_in\",\"num_compromised\",\"root_shell\",\"su_attempted\",\"num_root\",\n",
    "    \"num_file_creations\",\"num_shells\",\"num_access_files\",\"num_outbound_cmds\",\n",
    "    \"is_host_login\",\"is_guest_login\",\"count\",\"srv_count\",\"serror_rate\",\n",
    "    \"srv_serror_rate\",\"rerror_rate\",\"srv_rerror_rate\",\"same_srv_rate\",\n",
    "    \"diff_srv_rate\",\"srv_diff_host_rate\",\"dst_host_count\",\"dst_host_srv_count\",\n",
    "    \"dst_host_same_srv_rate\",\"dst_host_diff_srv_rate\",\"dst_host_same_src_port_rate\",\n",
    "    \"dst_host_srv_diff_host_rate\",\"dst_host_serror_rate\",\"dst_host_srv_serror_rate\",\n",
    "    \"dst_host_rerror_rate\",\"dst_host_srv_rerror_rate\",\"classes\",\"difficulty_level\"]\n",
    "\n",
    "df = spark.read.csv(\"KDDTrain+.txt\",header=False, inferSchema= True).toDF(*col_names)"
   ]
  },
  {
   "cell_type": "raw",
   "metadata": {
    "slideshow": {
     "slide_type": "notes"
    }
   },
   "source": [
    "<p style=\"page-break-after:always;\"></p>"
   ]
  },
  {
   "cell_type": "markdown",
   "metadata": {
    "slideshow": {
     "slide_type": "slide"
    }
   },
   "source": [
    "<h3>For this lecture's purposes, We will insert the data into the table using the overwrite mode</h3>\n",
    "If the overwrite mode is not working for you, please populate the table by creating the SQL table and using the append mode to populate it."
   ]
  },
  {
   "cell_type": "code",
   "execution_count": 3,
   "metadata": {
    "slideshow": {
     "slide_type": "slide"
    }
   },
   "outputs": [
    {
     "name": "stderr",
     "output_type": "stream",
     "text": [
      "24/09/29 11:38:32 WARN package: Truncated the string representation of a plan since it was too large. This behavior can be adjusted by setting 'spark.sql.debug.maxToStringFields'.\n",
      "                                                                                \r"
     ]
    }
   ],
   "source": [
    "db_properties={}\n",
    "#update your db username\n",
    "db_properties['username']=\"postgres\"\n",
    "#update your db password\n",
    "db_properties['password']=\"bigdata\"\n",
    "#make sure you got the right port number here\n",
    "db_properties['url']= \"jdbc:postgresql://localhost:5432/postgres\"\n",
    "#make sure you had the Postgres JAR file in the right location\n",
    "db_properties['driver']=\"org.postgresql.Driver\"\n",
    "db_properties['table']= \"NSLKDD\"\n",
    "\n",
    "\n",
    "df.write.format(\"jdbc\")\\\n",
    ".mode(\"overwrite\")\\\n",
    ".option(\"url\", db_properties['url'])\\\n",
    ".option(\"dbtable\", db_properties['table'])\\\n",
    ".option(\"user\", db_properties['username'])\\\n",
    ".option(\"password\", db_properties['password'])\\\n",
    ".option(\"Driver\", db_properties['driver'])\\\n",
    ".save()\n"
   ]
  },
  {
   "cell_type": "markdown",
   "metadata": {
    "slideshow": {
     "slide_type": "slide"
    }
   },
   "source": [
    "<h2>Now, read the data back!</h2>"
   ]
  },
  {
   "cell_type": "code",
   "execution_count": 4,
   "metadata": {
    "scrolled": true,
    "slideshow": {
     "slide_type": "fragment"
    }
   },
   "outputs": [
    {
     "name": "stdout",
     "output_type": "stream",
     "text": [
      "-RECORD 0-------------------------------\n",
      " duration                    | 0        \n",
      " protocol_type               | tcp      \n",
      " service                     | ftp_data \n",
      " flag                        | SF       \n",
      " src_bytes                   | 491      \n",
      " dst_bytes                   | 0        \n",
      " land                        | 0        \n",
      " wrong_fragment              | 0        \n",
      " urgent                      | 0        \n",
      " hot                         | 0        \n",
      " num_failed_logins           | 0        \n",
      " logged_in                   | 0        \n",
      " num_compromised             | 0        \n",
      " root_shell                  | 0        \n",
      " su_attempted                | 0        \n",
      " num_root                    | 0        \n",
      " num_file_creations          | 0        \n",
      " num_shells                  | 0        \n",
      " num_access_files            | 0        \n",
      " num_outbound_cmds           | 0        \n",
      " is_host_login               | 0        \n",
      " is_guest_login              | 0        \n",
      " count                       | 2        \n",
      " srv_count                   | 2        \n",
      " serror_rate                 | 0.0      \n",
      " srv_serror_rate             | 0.0      \n",
      " rerror_rate                 | 0.0      \n",
      " srv_rerror_rate             | 0.0      \n",
      " same_srv_rate               | 1.0      \n",
      " diff_srv_rate               | 0.0      \n",
      " srv_diff_host_rate          | 0.0      \n",
      " dst_host_count              | 150      \n",
      " dst_host_srv_count          | 25       \n",
      " dst_host_same_srv_rate      | 0.17     \n",
      " dst_host_diff_srv_rate      | 0.03     \n",
      " dst_host_same_src_port_rate | 0.17     \n",
      " dst_host_srv_diff_host_rate | 0.0      \n",
      " dst_host_serror_rate        | 0.0      \n",
      " dst_host_srv_serror_rate    | 0.0      \n",
      " dst_host_rerror_rate        | 0.05     \n",
      " dst_host_srv_rerror_rate    | 0.0      \n",
      " classes                     | normal   \n",
      " difficulty_level            | 20       \n",
      "only showing top 1 row\n",
      "\n",
      "root\n",
      " |-- duration: integer (nullable = true)\n",
      " |-- protocol_type: string (nullable = true)\n",
      " |-- service: string (nullable = true)\n",
      " |-- flag: string (nullable = true)\n",
      " |-- src_bytes: integer (nullable = true)\n",
      " |-- dst_bytes: integer (nullable = true)\n",
      " |-- land: integer (nullable = true)\n",
      " |-- wrong_fragment: integer (nullable = true)\n",
      " |-- urgent: integer (nullable = true)\n",
      " |-- hot: integer (nullable = true)\n",
      " |-- num_failed_logins: integer (nullable = true)\n",
      " |-- logged_in: integer (nullable = true)\n",
      " |-- num_compromised: integer (nullable = true)\n",
      " |-- root_shell: integer (nullable = true)\n",
      " |-- su_attempted: integer (nullable = true)\n",
      " |-- num_root: integer (nullable = true)\n",
      " |-- num_file_creations: integer (nullable = true)\n",
      " |-- num_shells: integer (nullable = true)\n",
      " |-- num_access_files: integer (nullable = true)\n",
      " |-- num_outbound_cmds: integer (nullable = true)\n",
      " |-- is_host_login: integer (nullable = true)\n",
      " |-- is_guest_login: integer (nullable = true)\n",
      " |-- count: integer (nullable = true)\n",
      " |-- srv_count: integer (nullable = true)\n",
      " |-- serror_rate: double (nullable = true)\n",
      " |-- srv_serror_rate: double (nullable = true)\n",
      " |-- rerror_rate: double (nullable = true)\n",
      " |-- srv_rerror_rate: double (nullable = true)\n",
      " |-- same_srv_rate: double (nullable = true)\n",
      " |-- diff_srv_rate: double (nullable = true)\n",
      " |-- srv_diff_host_rate: double (nullable = true)\n",
      " |-- dst_host_count: integer (nullable = true)\n",
      " |-- dst_host_srv_count: integer (nullable = true)\n",
      " |-- dst_host_same_srv_rate: double (nullable = true)\n",
      " |-- dst_host_diff_srv_rate: double (nullable = true)\n",
      " |-- dst_host_same_src_port_rate: double (nullable = true)\n",
      " |-- dst_host_srv_diff_host_rate: double (nullable = true)\n",
      " |-- dst_host_serror_rate: double (nullable = true)\n",
      " |-- dst_host_srv_serror_rate: double (nullable = true)\n",
      " |-- dst_host_rerror_rate: double (nullable = true)\n",
      " |-- dst_host_srv_rerror_rate: double (nullable = true)\n",
      " |-- classes: string (nullable = true)\n",
      " |-- difficulty_level: integer (nullable = true)\n",
      "\n"
     ]
    }
   ],
   "source": [
    "df_read = sqlContext.read.format(\"jdbc\")\\\n",
    "    .option(\"url\", db_properties['url'])\\\n",
    "    .option(\"dbtable\", db_properties['table'])\\\n",
    "    .option(\"user\", db_properties['username'])\\\n",
    "    .option(\"password\", db_properties['password'])\\\n",
    "    .option(\"Driver\", db_properties['driver'])\\\n",
    "    .load()\n",
    "\n",
    "df_read.show(1, vertical=True)\n",
    "df_read.printSchema()"
   ]
  },
  {
   "cell_type": "markdown",
   "metadata": {
    "slideshow": {
     "slide_type": "slide"
    }
   },
   "source": [
    "<h2>2. Now, let's go ahead and talk about Data Cleaning and Preprocessing.</h2>"
   ]
  },
  {
   "cell_type": "markdown",
   "metadata": {
    "slideshow": {
     "slide_type": "fragment"
    }
   },
   "source": [
    "It's important to clean your data before storing them in the database tables. In some cases, it's OK to conduct data cleaning before before you conduct feature engineering. In Data cleaning, we typically need to conduct the following activities:\n",
    "<ul>\n",
    "<li>Rename the column names to remove special characters and blanks - if any - with an underscore “_”;</li>\n",
    "    <li>Choose the correct data type for your columns and cast column data types as needed</li>\n",
    "<li>Drop the columns that are not of interest to you (duplicated, not included in research, etc.)</li>\n",
    "<li>Handle missing values and N/As</li>\n",
    "    </ul>"
   ]
  },
  {
   "cell_type": "raw",
   "metadata": {
    "slideshow": {
     "slide_type": "notes"
    }
   },
   "source": [
    "<p style=\"page-break-after:always;\"></p>"
   ]
  },
  {
   "cell_type": "markdown",
   "metadata": {
    "slideshow": {
     "slide_type": "slide"
    }
   },
   "source": [
    "<h3>2.1 Let's test renaming columns, casting column data types and dropping duplicate rows</h3>\n",
    "You may use these techniques in other activities (e.g., project or HW assignments)"
   ]
  },
  {
   "cell_type": "code",
   "execution_count": 5,
   "metadata": {
    "slideshow": {
     "slide_type": "fragment"
    }
   },
   "outputs": [],
   "source": [
    "# Column Rename\n",
    "renamed_columns_df = df_read.withColumnRenamed(\"rerror_rate\",\"newly_renamed_rerror_rate\")\n",
    "# Casting one column type\n",
    "casted_types_df = (renamed_columns_df.withColumn(\"new_column_srv_serror_rate\", \\\n",
    "                    renamed_columns_df[\"srv_serror_rate\"] \\\n",
    "                    .cast(\"integer\")).drop(\"srv_serror_rate\")\n",
    "                    .distinct() # deleting duplicate rows\n",
    "           )\n",
    "casted_types_df = casted_types_df.withColumnRenamed(\"new_column_srv_serror_rate\",\"srv_serror_rate\")"
   ]
  },
  {
   "cell_type": "code",
   "execution_count": 6,
   "metadata": {
    "scrolled": true,
    "slideshow": {
     "slide_type": "slide"
    }
   },
   "outputs": [
    {
     "name": "stdout",
     "output_type": "stream",
     "text": [
      "root\n",
      " |-- duration: integer (nullable = true)\n",
      " |-- protocol_type: string (nullable = true)\n",
      " |-- service: string (nullable = true)\n",
      " |-- flag: string (nullable = true)\n",
      " |-- src_bytes: integer (nullable = true)\n",
      " |-- dst_bytes: integer (nullable = true)\n",
      " |-- land: integer (nullable = true)\n",
      " |-- wrong_fragment: integer (nullable = true)\n",
      " |-- urgent: integer (nullable = true)\n",
      " |-- hot: integer (nullable = true)\n",
      " |-- num_failed_logins: integer (nullable = true)\n",
      " |-- logged_in: integer (nullable = true)\n",
      " |-- num_compromised: integer (nullable = true)\n",
      " |-- root_shell: integer (nullable = true)\n",
      " |-- su_attempted: integer (nullable = true)\n",
      " |-- num_root: integer (nullable = true)\n",
      " |-- num_file_creations: integer (nullable = true)\n",
      " |-- num_shells: integer (nullable = true)\n",
      " |-- num_access_files: integer (nullable = true)\n",
      " |-- num_outbound_cmds: integer (nullable = true)\n",
      " |-- is_host_login: integer (nullable = true)\n",
      " |-- is_guest_login: integer (nullable = true)\n",
      " |-- count: integer (nullable = true)\n",
      " |-- srv_count: integer (nullable = true)\n",
      " |-- serror_rate: double (nullable = true)\n",
      " |-- newly_renamed_rerror_rate: double (nullable = true)\n",
      " |-- srv_rerror_rate: double (nullable = true)\n",
      " |-- same_srv_rate: double (nullable = true)\n",
      " |-- diff_srv_rate: double (nullable = true)\n",
      " |-- srv_diff_host_rate: double (nullable = true)\n",
      " |-- dst_host_count: integer (nullable = true)\n",
      " |-- dst_host_srv_count: integer (nullable = true)\n",
      " |-- dst_host_same_srv_rate: double (nullable = true)\n",
      " |-- dst_host_diff_srv_rate: double (nullable = true)\n",
      " |-- dst_host_same_src_port_rate: double (nullable = true)\n",
      " |-- dst_host_srv_diff_host_rate: double (nullable = true)\n",
      " |-- dst_host_serror_rate: double (nullable = true)\n",
      " |-- dst_host_srv_serror_rate: double (nullable = true)\n",
      " |-- dst_host_rerror_rate: double (nullable = true)\n",
      " |-- dst_host_srv_rerror_rate: double (nullable = true)\n",
      " |-- classes: string (nullable = true)\n",
      " |-- difficulty_level: integer (nullable = true)\n",
      " |-- srv_serror_rate: integer (nullable = true)\n",
      "\n"
     ]
    }
   ],
   "source": [
    "casted_types_df.printSchema()"
   ]
  },
  {
   "cell_type": "markdown",
   "metadata": {
    "slideshow": {
     "slide_type": "slide"
    }
   },
   "source": [
    "## Please note that these column renames are for experimental purposes only to show you how to use these functions. However, this dataset doesn't need these column renames. So, we will go back to use our df_read object."
   ]
  },
  {
   "cell_type": "code",
   "execution_count": 7,
   "metadata": {
    "slideshow": {
     "slide_type": "fragment"
    }
   },
   "outputs": [],
   "source": [
    "# We are assigning the df_read to casted_types_df because no data type changes were needed\n",
    "casted_types_df = df_read"
   ]
  },
  {
   "cell_type": "code",
   "execution_count": 8,
   "metadata": {
    "slideshow": {
     "slide_type": "slide"
    }
   },
   "outputs": [
    {
     "name": "stdout",
     "output_type": "stream",
     "text": [
      "-RECORD 0-------------------------------\n",
      " duration                    | 0        \n",
      " protocol_type               | tcp      \n",
      " service                     | ftp_data \n",
      " flag                        | SF       \n",
      " src_bytes                   | 491      \n",
      " dst_bytes                   | 0        \n",
      " land                        | 0        \n",
      " wrong_fragment              | 0        \n",
      " urgent                      | 0        \n",
      " hot                         | 0        \n",
      " num_failed_logins           | 0        \n",
      " logged_in                   | 0        \n",
      " num_compromised             | 0        \n",
      " root_shell                  | 0        \n",
      " su_attempted                | 0        \n",
      " num_root                    | 0        \n",
      " num_file_creations          | 0        \n",
      " num_shells                  | 0        \n",
      " num_access_files            | 0        \n",
      " num_outbound_cmds           | 0        \n",
      " is_host_login               | 0        \n",
      " is_guest_login              | 0        \n",
      " count                       | 2        \n",
      " srv_count                   | 2        \n",
      " serror_rate                 | 0.0      \n",
      " srv_serror_rate             | 0.0      \n",
      " rerror_rate                 | 0.0      \n",
      " srv_rerror_rate             | 0.0      \n",
      " same_srv_rate               | 1.0      \n",
      " diff_srv_rate               | 0.0      \n",
      " srv_diff_host_rate          | 0.0      \n",
      " dst_host_count              | 150      \n",
      " dst_host_srv_count          | 25       \n",
      " dst_host_same_srv_rate      | 0.17     \n",
      " dst_host_diff_srv_rate      | 0.03     \n",
      " dst_host_same_src_port_rate | 0.17     \n",
      " dst_host_srv_diff_host_rate | 0.0      \n",
      " dst_host_serror_rate        | 0.0      \n",
      " dst_host_srv_serror_rate    | 0.0      \n",
      " dst_host_rerror_rate        | 0.05     \n",
      " dst_host_srv_rerror_rate    | 0.0      \n",
      " classes                     | normal   \n",
      " difficulty_level            | 20       \n",
      "only showing top 1 row\n",
      "\n"
     ]
    }
   ],
   "source": [
    "casted_types_df.show(1,vertical=True)"
   ]
  },
  {
   "cell_type": "markdown",
   "metadata": {
    "slideshow": {
     "slide_type": "slide"
    }
   },
   "source": [
    "<h3>2.2.1 Types of Missing Values</h3>"
   ]
  },
  {
   "cell_type": "markdown",
   "metadata": {
    "slideshow": {
     "slide_type": "fragment"
    }
   },
   "source": [
    "There are several ways to handle missing values in your dataset. You need to stay vigilent in selectin the approach since some of these methods may impact the quality of your data.\n",
    "\n",
    "<ul>\n",
    "    <li>Missing Completely at Random (MCAR): The probability of missing values is the same across all the variables.</li>\n",
    "<li>Missing at Random (MAR): Like MCAR but it is possible to predict the missing value based on some other variables.</li>\n",
    "<li>Not Missing at Random (NMAR): This can be handled by studying the root cause of missing</li>\n",
    "</ul>\n"
   ]
  },
  {
   "cell_type": "markdown",
   "metadata": {
    "slideshow": {
     "slide_type": "slide"
    }
   },
   "source": [
    "<h3>2.2.2 Reasons for Missing Values</h3>"
   ]
  },
  {
   "cell_type": "markdown",
   "metadata": {
    "slideshow": {
     "slide_type": "fragment"
    }
   },
   "source": [
    "\n",
    "<ul>\n",
    "    <li>Data may be missing for some of the time period of the analysis.</li>\n",
    "<li>Events not happening, such as a student's exam score missing because they didn't take the test.</li>\n",
    "<li>Responses omitted for certain survey questions.</li>\n",
    "<li>Questions not applicable in some contexts.</li>\n",
    "    <li>Random gaps in data.</li>\n",
    "</ul>\n"
   ]
  },
  {
   "cell_type": "raw",
   "metadata": {
    "slideshow": {
     "slide_type": "notes"
    }
   },
   "source": [
    "<p style=\"page-break-after:always;\"></p>"
   ]
  },
  {
   "cell_type": "markdown",
   "metadata": {
    "slideshow": {
     "slide_type": "slide"
    }
   },
   "source": [
    "<h3>2.2.3 Handling Missing Values</h3>"
   ]
  },
  {
   "cell_type": "markdown",
   "metadata": {
    "slideshow": {
     "slide_type": "fragment"
    }
   },
   "source": [
    "There are several ways to handle missing values in your dataset. You need to stay vigilent in selectin the approach since some of these methods may impact the quality of your data.\n",
    "\n",
    "<ul>\n",
    "    <li><b>Drop Columns:</b> Removing a column from your dataset is always possible, but you should carefully consider whether to clean it using a different method or to remove it entirely. Your decision should be guided by several factors, such as the importance of the data in the column and the proportion of missing values. As a general guideline, avoid dropping a column if it contains meaningful data in at least 50% of its entries.</li>\n",
    "    <li><b>Drop Rows having Nulls:</b> This is always an option as well. However, depending on the size of your dataset and the number of rows to be dropped, this \"may/may not\" be a good option. For rows, you can use a similar threshold (50%) and drop rows with missing values only if it doesn't significantly reduce your sample size</li>\n",
    "    <li><b>Fill the missing values:</b> This approach is \"usually\" applicable for numeric columns. This is done using an operation that is called <b>imputation</b>. By creating imputed columns, we will create columns which will consist of values that fill the missing value by taking a statistical method such as mean/median of the original columns to fill the missing value.\n",
    "</li>\n",
    "</ul>\n"
   ]
  },
  {
   "cell_type": "markdown",
   "metadata": {
    "slideshow": {
     "slide_type": "slide"
    }
   },
   "source": [
    "<h3>2.2.3.1 Check NA Values</h3>"
   ]
  },
  {
   "cell_type": "markdown",
   "metadata": {
    "slideshow": {
     "slide_type": "slide"
    }
   },
   "source": [
    "<h3>In some cases, your dataframe is able to detect if your cells/fields are empty or holding a missing value. In this case, missing values can be spotted using isNull or is NaN</h3>"
   ]
  },
  {
   "cell_type": "code",
   "execution_count": 9,
   "metadata": {
    "slideshow": {
     "slide_type": "fragment"
    }
   },
   "outputs": [
    {
     "name": "stderr",
     "output_type": "stream",
     "text": [
      "[Stage 5:>                                                          (0 + 1) / 1]\r"
     ]
    },
    {
     "name": "stdout",
     "output_type": "stream",
     "text": [
      "-RECORD 0--------------------------\n",
      " duration                    | 0   \n",
      " protocol_type               | 0   \n",
      " service                     | 0   \n",
      " flag                        | 0   \n",
      " src_bytes                   | 0   \n",
      " dst_bytes                   | 0   \n",
      " land                        | 0   \n",
      " wrong_fragment              | 0   \n",
      " urgent                      | 0   \n",
      " hot                         | 0   \n",
      " num_failed_logins           | 0   \n",
      " logged_in                   | 0   \n",
      " num_compromised             | 0   \n",
      " root_shell                  | 0   \n",
      " su_attempted                | 0   \n",
      " num_root                    | 0   \n",
      " num_file_creations          | 0   \n",
      " num_shells                  | 0   \n",
      " num_access_files            | 0   \n",
      " num_outbound_cmds           | 0   \n",
      " is_host_login               | 0   \n",
      " is_guest_login              | 0   \n",
      " count                       | 0   \n",
      " srv_count                   | 0   \n",
      " serror_rate                 | 0   \n",
      " srv_serror_rate             | 0   \n",
      " rerror_rate                 | 0   \n",
      " srv_rerror_rate             | 0   \n",
      " same_srv_rate               | 0   \n",
      " diff_srv_rate               | 0   \n",
      " srv_diff_host_rate          | 0   \n",
      " dst_host_count              | 0   \n",
      " dst_host_srv_count          | 0   \n",
      " dst_host_same_srv_rate      | 0   \n",
      " dst_host_diff_srv_rate      | 0   \n",
      " dst_host_same_src_port_rate | 0   \n",
      " dst_host_srv_diff_host_rate | 0   \n",
      " dst_host_serror_rate        | 0   \n",
      " dst_host_srv_serror_rate    | 0   \n",
      " dst_host_rerror_rate        | 0   \n",
      " dst_host_srv_rerror_rate    | 0   \n",
      " classes                     | 0   \n",
      " difficulty_level            | 0   \n",
      "\n"
     ]
    },
    {
     "name": "stderr",
     "output_type": "stream",
     "text": [
      "                                                                                \r"
     ]
    }
   ],
   "source": [
    "from pyspark.sql.functions import *\n",
    "\n",
    "null_counts_plays_df = df_read.select([count(when(isnan(c) | col(c).isNull(), c)).alias(c) \\\n",
    "                        for c in df_read.columns])\n",
    "\n",
    "null_counts_plays_df.show(truncate=False, vertical=True)"
   ]
  },
  {
   "cell_type": "markdown",
   "metadata": {
    "slideshow": {
     "slide_type": "slide"
    }
   },
   "source": [
    "So, our NSL-KDD dataset is clean but let's assume some hypothetical scenarios here."
   ]
  },
  {
   "cell_type": "markdown",
   "metadata": {
    "slideshow": {
     "slide_type": "slide"
    }
   },
   "source": [
    "<h3>2.2.3.2 Let's play with some null value handling. To drop all rows with null value(s):</h3>"
   ]
  },
  {
   "cell_type": "code",
   "execution_count": 10,
   "metadata": {
    "slideshow": {
     "slide_type": "fragment"
    }
   },
   "outputs": [
    {
     "name": "stdout",
     "output_type": "stream",
     "text": [
      "-RECORD 0-------------------------------\n",
      " duration                    | 0        \n",
      " protocol_type               | tcp      \n",
      " service                     | ftp_data \n",
      " flag                        | SF       \n",
      " src_bytes                   | 491      \n",
      " dst_bytes                   | 0        \n",
      " land                        | 0        \n",
      " wrong_fragment              | 0        \n",
      " urgent                      | 0        \n",
      " hot                         | 0        \n",
      " num_failed_logins           | 0        \n",
      " logged_in                   | 0        \n",
      " num_compromised             | 0        \n",
      " root_shell                  | 0        \n",
      " su_attempted                | 0        \n",
      " num_root                    | 0        \n",
      " num_file_creations          | 0        \n",
      " num_shells                  | 0        \n",
      " num_access_files            | 0        \n",
      " num_outbound_cmds           | 0        \n",
      " is_host_login               | 0        \n",
      " is_guest_login              | 0        \n",
      " count                       | 2        \n",
      " srv_count                   | 2        \n",
      " serror_rate                 | 0.0      \n",
      " srv_serror_rate             | 0.0      \n",
      " rerror_rate                 | 0.0      \n",
      " srv_rerror_rate             | 0.0      \n",
      " same_srv_rate               | 1.0      \n",
      " diff_srv_rate               | 0.0      \n",
      " srv_diff_host_rate          | 0.0      \n",
      " dst_host_count              | 150      \n",
      " dst_host_srv_count          | 25       \n",
      " dst_host_same_srv_rate      | 0.17     \n",
      " dst_host_diff_srv_rate      | 0.03     \n",
      " dst_host_same_src_port_rate | 0.17     \n",
      " dst_host_srv_diff_host_rate | 0.0      \n",
      " dst_host_serror_rate        | 0.0      \n",
      " dst_host_srv_serror_rate    | 0.0      \n",
      " dst_host_rerror_rate        | 0.05     \n",
      " dst_host_srv_rerror_rate    | 0.0      \n",
      " classes                     | normal   \n",
      " difficulty_level            | 20       \n",
      "only showing top 1 row\n",
      "\n"
     ]
    }
   ],
   "source": [
    "casted_types_df_with_na_dropped_rows = casted_types_df.na.drop()\n",
    "casted_types_df_with_na_dropped_rows.show(1,vertical=True)"
   ]
  },
  {
   "cell_type": "markdown",
   "metadata": {
    "slideshow": {
     "slide_type": "slide"
    }
   },
   "source": [
    "<h3>2.2.3.3 To drop rows based on number of NAs in the row:</h3>"
   ]
  },
  {
   "cell_type": "code",
   "execution_count": 11,
   "metadata": {
    "slideshow": {
     "slide_type": "slide"
    }
   },
   "outputs": [
    {
     "data": {
      "text/plain": [
       "125973"
      ]
     },
     "execution_count": 11,
     "metadata": {},
     "output_type": "execute_result"
    }
   ],
   "source": [
    "casted_types_df_with_na_dropped_rows = casted_types_df.na.drop(how=\"any\", thresh=2)\n",
    "casted_types_df_with_na_dropped_rows.count()"
   ]
  },
  {
   "cell_type": "raw",
   "metadata": {
    "slideshow": {
     "slide_type": "notes"
    }
   },
   "source": [
    "<p style=\"page-break-after:always;\"></p>"
   ]
  },
  {
   "cell_type": "markdown",
   "metadata": {
    "slideshow": {
     "slide_type": "slide"
    }
   },
   "source": [
    "<h3>2.2.3.4 What if the number of missing values is large or we don't want to drop them due to a potential significant impact to our sample size? Imputation can be an option. Let's go ahead and assume we have null values in <b>src_bytes</b> column and we would like to <b>impute</b> them.</h3> "
   ]
  },
  {
   "cell_type": "code",
   "execution_count": 12,
   "metadata": {
    "scrolled": true,
    "slideshow": {
     "slide_type": "fragment"
    }
   },
   "outputs": [
    {
     "ename": "TypeError",
     "evalue": "Invalid argument, not a string or column: None of type <class 'NoneType'>. For column literals, use 'lit', 'array', 'struct' or 'create_map' function.",
     "output_type": "error",
     "traceback": [
      "\u001b[0;31m---------------------------------------------------------------------------\u001b[0m",
      "\u001b[0;31mTypeError\u001b[0m                                 Traceback (most recent call last)",
      "Cell \u001b[0;32mIn[12], line 8\u001b[0m\n\u001b[1;32m      1\u001b[0m \u001b[38;5;66;03m#In some cases, your missing values are recoded with a string value (and not recognized in Spark as Null explicitly)\u001b[39;00m\n\u001b[1;32m      2\u001b[0m \u001b[38;5;66;03m# The below code can be partially used outside of imputation context \u001b[39;00m\n\u001b[1;32m      3\u001b[0m \u001b[38;5;66;03m# to replace a string value with NA using regex_replace\u001b[39;00m\n\u001b[1;32m      4\u001b[0m missing_value \u001b[38;5;241m=\u001b[39m \u001b[38;5;124m\"\u001b[39m\u001b[38;5;124mNA\u001b[39m\u001b[38;5;124m\"\u001b[39m\n\u001b[1;32m      5\u001b[0m df_with_substituted_na \u001b[38;5;241m=\u001b[39m (casted_types_df_with_na_dropped_rows\\\n\u001b[1;32m      6\u001b[0m     \u001b[38;5;241m.\u001b[39mwithColumn(\u001b[38;5;124m'\u001b[39m\u001b[38;5;124msrc_bytes\u001b[39m\u001b[38;5;124m'\u001b[39m, \\\n\u001b[1;32m      7\u001b[0m                 when(casted_types_df_with_na_dropped_rows\u001b[38;5;241m.\u001b[39msrc_bytes\u001b[38;5;241m==\u001b[39mmissing_value,\\\n\u001b[0;32m----> 8\u001b[0m                     \u001b[43mregexp_replace\u001b[49m\u001b[43m(\u001b[49m\u001b[43mcasted_types_df_with_na_dropped_rows\u001b[49m\u001b[38;5;241;43m.\u001b[39;49m\u001b[43msrc_bytes\u001b[49m\u001b[43m,\u001b[49m\u001b[43mmissing_value\u001b[49m\u001b[43m,\u001b[49m\u001b[38;5;28;43;01mNone\u001b[39;49;00m\u001b[43m)\u001b[49m) \\\n\u001b[1;32m      9\u001b[0m                 \u001b[38;5;241m.\u001b[39motherwise(casted_types_df_with_na_dropped_rows\u001b[38;5;241m.\u001b[39msrc_bytes))\\\n\u001b[1;32m     10\u001b[0m                 )\n\u001b[1;32m     12\u001b[0m df_with_substituted_na\u001b[38;5;241m.\u001b[39mshow(\u001b[38;5;241m1\u001b[39m, vertical\u001b[38;5;241m=\u001b[39m\u001b[38;5;28;01mTrue\u001b[39;00m)\n",
      "File \u001b[0;32m~/anaconda3/envs/systems_and_toolchains/lib/python3.12/site-packages/pyspark/sql/utils.py:160\u001b[0m, in \u001b[0;36mtry_remote_functions.<locals>.wrapped\u001b[0;34m(*args, **kwargs)\u001b[0m\n\u001b[1;32m    158\u001b[0m     \u001b[38;5;28;01mreturn\u001b[39;00m \u001b[38;5;28mgetattr\u001b[39m(functions, f\u001b[38;5;241m.\u001b[39m\u001b[38;5;18m__name__\u001b[39m)(\u001b[38;5;241m*\u001b[39margs, \u001b[38;5;241m*\u001b[39m\u001b[38;5;241m*\u001b[39mkwargs)\n\u001b[1;32m    159\u001b[0m \u001b[38;5;28;01melse\u001b[39;00m:\n\u001b[0;32m--> 160\u001b[0m     \u001b[38;5;28;01mreturn\u001b[39;00m \u001b[43mf\u001b[49m\u001b[43m(\u001b[49m\u001b[38;5;241;43m*\u001b[39;49m\u001b[43margs\u001b[49m\u001b[43m,\u001b[49m\u001b[43m \u001b[49m\u001b[38;5;241;43m*\u001b[39;49m\u001b[38;5;241;43m*\u001b[39;49m\u001b[43mkwargs\u001b[49m\u001b[43m)\u001b[49m\n",
      "File \u001b[0;32m~/anaconda3/envs/systems_and_toolchains/lib/python3.12/site-packages/pyspark/sql/functions.py:6886\u001b[0m, in \u001b[0;36mregexp_replace\u001b[0;34m(string, pattern, replacement)\u001b[0m\n\u001b[1;32m   6884\u001b[0m     replacement_col \u001b[38;5;241m=\u001b[39m _create_column_from_literal(replacement)\n\u001b[1;32m   6885\u001b[0m \u001b[38;5;28;01melse\u001b[39;00m:\n\u001b[0;32m-> 6886\u001b[0m     replacement_col \u001b[38;5;241m=\u001b[39m \u001b[43m_to_java_column\u001b[49m\u001b[43m(\u001b[49m\u001b[43mreplacement\u001b[49m\u001b[43m)\u001b[49m\n\u001b[1;32m   6887\u001b[0m \u001b[38;5;28;01mreturn\u001b[39;00m _invoke_function(\u001b[38;5;124m\"\u001b[39m\u001b[38;5;124mregexp_replace\u001b[39m\u001b[38;5;124m\"\u001b[39m, _to_java_column(string), pattern_col, replacement_col)\n",
      "File \u001b[0;32m~/anaconda3/envs/systems_and_toolchains/lib/python3.12/site-packages/pyspark/sql/column.py:65\u001b[0m, in \u001b[0;36m_to_java_column\u001b[0;34m(col)\u001b[0m\n\u001b[1;32m     63\u001b[0m     jcol \u001b[38;5;241m=\u001b[39m _create_column_from_name(col)\n\u001b[1;32m     64\u001b[0m \u001b[38;5;28;01melse\u001b[39;00m:\n\u001b[0;32m---> 65\u001b[0m     \u001b[38;5;28;01mraise\u001b[39;00m \u001b[38;5;167;01mTypeError\u001b[39;00m(\n\u001b[1;32m     66\u001b[0m         \u001b[38;5;124m\"\u001b[39m\u001b[38;5;124mInvalid argument, not a string or column: \u001b[39m\u001b[38;5;124m\"\u001b[39m\n\u001b[1;32m     67\u001b[0m         \u001b[38;5;124m\"\u001b[39m\u001b[38;5;132;01m{0}\u001b[39;00m\u001b[38;5;124m of type \u001b[39m\u001b[38;5;132;01m{1}\u001b[39;00m\u001b[38;5;124m. \u001b[39m\u001b[38;5;124m\"\u001b[39m\n\u001b[1;32m     68\u001b[0m         \u001b[38;5;124m\"\u001b[39m\u001b[38;5;124mFor column literals, use \u001b[39m\u001b[38;5;124m'\u001b[39m\u001b[38;5;124mlit\u001b[39m\u001b[38;5;124m'\u001b[39m\u001b[38;5;124m, \u001b[39m\u001b[38;5;124m'\u001b[39m\u001b[38;5;124marray\u001b[39m\u001b[38;5;124m'\u001b[39m\u001b[38;5;124m, \u001b[39m\u001b[38;5;124m'\u001b[39m\u001b[38;5;124mstruct\u001b[39m\u001b[38;5;124m'\u001b[39m\u001b[38;5;124m or \u001b[39m\u001b[38;5;124m'\u001b[39m\u001b[38;5;124mcreate_map\u001b[39m\u001b[38;5;124m'\u001b[39m\u001b[38;5;124m \u001b[39m\u001b[38;5;124m\"\u001b[39m\n\u001b[1;32m     69\u001b[0m         \u001b[38;5;124m\"\u001b[39m\u001b[38;5;124mfunction.\u001b[39m\u001b[38;5;124m\"\u001b[39m\u001b[38;5;241m.\u001b[39mformat(col, \u001b[38;5;28mtype\u001b[39m(col))\n\u001b[1;32m     70\u001b[0m     )\n\u001b[1;32m     71\u001b[0m \u001b[38;5;28;01mreturn\u001b[39;00m jcol\n",
      "\u001b[0;31mTypeError\u001b[0m: Invalid argument, not a string or column: None of type <class 'NoneType'>. For column literals, use 'lit', 'array', 'struct' or 'create_map' function."
     ]
    }
   ],
   "source": [
    "#In some cases, your missing values are recoded with a string value (and not recognized in Spark as Null explicitly)\n",
    "# The below code can be partially used outside of imputation context \n",
    "# to replace a string value with NA using regex_replace\n",
    "missing_value = \"NA\"\n",
    "df_with_substituted_na = (casted_types_df_with_na_dropped_rows\\\n",
    "    .withColumn('src_bytes', \\\n",
    "                when(casted_types_df_with_na_dropped_rows.src_bytes==missing_value,\\\n",
    "                    regexp_replace(casted_types_df_with_na_dropped_rows.src_bytes,missing_value,None)) \\\n",
    "                .otherwise(casted_types_df_with_na_dropped_rows.src_bytes))\\\n",
    "                )\n",
    "\n",
    "df_with_substituted_na.show(1, vertical=True)\n"
   ]
  },
  {
   "cell_type": "code",
   "execution_count": 13,
   "metadata": {
    "slideshow": {
     "slide_type": "slide"
    }
   },
   "outputs": [],
   "source": [
    "from pyspark.ml.feature import Imputer\n",
    "\n",
    "columns_to_be_imputed = [\"src_bytes\"]\n",
    "value_not_in_dataset = -200\n",
    "\n",
    "# Replace None/Missing Value with a value that can't be present in the dataset.\n",
    "df_with_filled_na = casted_types_df_with_na_dropped_rows.fillna(-200, columns_to_be_imputed)\n",
    "\n",
    "#Create new columns with imputed values. New columns will be suffixed with \"_imputed\"\n",
    "imputer = Imputer (\n",
    "            inputCols=columns_to_be_imputed,\n",
    "            outputCols=[\"{}_imputed\".format(c) for c in columns_to_be_imputed])\\\n",
    "            .setStrategy(\"median\").setMissingValue(value_not_in_dataset)\n",
    "\n",
    "df_imputed = imputer.fit(df_with_filled_na).transform(df_with_filled_na)\n",
    "# we will drop the old column without imputation. We have only one column to be imputed\n",
    "df_imputed_enhanced = df_imputed.drop(columns_to_be_imputed[0])\n",
    "\n",
    "# We will rename our newly imputed column with the correct name\n",
    "df_fully_imputed = df_imputed_enhanced.withColumnRenamed(\"src_bytes_imputed\",\"src_bytes\")"
   ]
  },
  {
   "cell_type": "code",
   "execution_count": 14,
   "metadata": {
    "scrolled": false,
    "slideshow": {
     "slide_type": "slide"
    }
   },
   "outputs": [
    {
     "name": "stdout",
     "output_type": "stream",
     "text": [
      "root\n",
      " |-- duration: integer (nullable = true)\n",
      " |-- protocol_type: string (nullable = true)\n",
      " |-- service: string (nullable = true)\n",
      " |-- flag: string (nullable = true)\n",
      " |-- dst_bytes: integer (nullable = true)\n",
      " |-- land: integer (nullable = true)\n",
      " |-- wrong_fragment: integer (nullable = true)\n",
      " |-- urgent: integer (nullable = true)\n",
      " |-- hot: integer (nullable = true)\n",
      " |-- num_failed_logins: integer (nullable = true)\n",
      " |-- logged_in: integer (nullable = true)\n",
      " |-- num_compromised: integer (nullable = true)\n",
      " |-- root_shell: integer (nullable = true)\n",
      " |-- su_attempted: integer (nullable = true)\n",
      " |-- num_root: integer (nullable = true)\n",
      " |-- num_file_creations: integer (nullable = true)\n",
      " |-- num_shells: integer (nullable = true)\n",
      " |-- num_access_files: integer (nullable = true)\n",
      " |-- num_outbound_cmds: integer (nullable = true)\n",
      " |-- is_host_login: integer (nullable = true)\n",
      " |-- is_guest_login: integer (nullable = true)\n",
      " |-- count: integer (nullable = true)\n",
      " |-- srv_count: integer (nullable = true)\n",
      " |-- serror_rate: double (nullable = true)\n",
      " |-- srv_serror_rate: double (nullable = true)\n",
      " |-- rerror_rate: double (nullable = true)\n",
      " |-- srv_rerror_rate: double (nullable = true)\n",
      " |-- same_srv_rate: double (nullable = true)\n",
      " |-- diff_srv_rate: double (nullable = true)\n",
      " |-- srv_diff_host_rate: double (nullable = true)\n",
      " |-- dst_host_count: integer (nullable = true)\n",
      " |-- dst_host_srv_count: integer (nullable = true)\n",
      " |-- dst_host_same_srv_rate: double (nullable = true)\n",
      " |-- dst_host_diff_srv_rate: double (nullable = true)\n",
      " |-- dst_host_same_src_port_rate: double (nullable = true)\n",
      " |-- dst_host_srv_diff_host_rate: double (nullable = true)\n",
      " |-- dst_host_serror_rate: double (nullable = true)\n",
      " |-- dst_host_srv_serror_rate: double (nullable = true)\n",
      " |-- dst_host_rerror_rate: double (nullable = true)\n",
      " |-- dst_host_srv_rerror_rate: double (nullable = true)\n",
      " |-- classes: string (nullable = true)\n",
      " |-- difficulty_level: integer (nullable = true)\n",
      " |-- src_bytes: integer (nullable = true)\n",
      "\n"
     ]
    }
   ],
   "source": [
    "df_fully_imputed.printSchema()"
   ]
  },
  {
   "cell_type": "code",
   "execution_count": 15,
   "metadata": {
    "scrolled": true
   },
   "outputs": [
    {
     "name": "stdout",
     "output_type": "stream",
     "text": [
      "-RECORD 0-------------------------------\n",
      " duration                    | 0        \n",
      " protocol_type               | tcp      \n",
      " service                     | ftp_data \n",
      " flag                        | SF       \n",
      " dst_bytes                   | 0        \n",
      " land                        | 0        \n",
      " wrong_fragment              | 0        \n",
      " urgent                      | 0        \n",
      " hot                         | 0        \n",
      " num_failed_logins           | 0        \n",
      " logged_in                   | 0        \n",
      " num_compromised             | 0        \n",
      " root_shell                  | 0        \n",
      " su_attempted                | 0        \n",
      " num_root                    | 0        \n",
      " num_file_creations          | 0        \n",
      " num_shells                  | 0        \n",
      " num_access_files            | 0        \n",
      " num_outbound_cmds           | 0        \n",
      " is_host_login               | 0        \n",
      " is_guest_login              | 0        \n",
      " count                       | 2        \n",
      " srv_count                   | 2        \n",
      " serror_rate                 | 0.0      \n",
      " srv_serror_rate             | 0.0      \n",
      " rerror_rate                 | 0.0      \n",
      " srv_rerror_rate             | 0.0      \n",
      " same_srv_rate               | 1.0      \n",
      " diff_srv_rate               | 0.0      \n",
      " srv_diff_host_rate          | 0.0      \n",
      " dst_host_count              | 150      \n",
      " dst_host_srv_count          | 25       \n",
      " dst_host_same_srv_rate      | 0.17     \n",
      " dst_host_diff_srv_rate      | 0.03     \n",
      " dst_host_same_src_port_rate | 0.17     \n",
      " dst_host_srv_diff_host_rate | 0.0      \n",
      " dst_host_serror_rate        | 0.0      \n",
      " dst_host_srv_serror_rate    | 0.0      \n",
      " dst_host_rerror_rate        | 0.05     \n",
      " dst_host_srv_rerror_rate    | 0.0      \n",
      " classes                     | normal   \n",
      " difficulty_level            | 20       \n",
      " src_bytes                   | 491      \n",
      "only showing top 1 row\n",
      "\n"
     ]
    }
   ],
   "source": [
    "df_fully_imputed.show(1,vertical=True)"
   ]
  },
  {
   "cell_type": "raw",
   "metadata": {
    "slideshow": {
     "slide_type": "notes"
    }
   },
   "source": [
    "<p style=\"page-break-after:always;\"></p>"
   ]
  },
  {
   "cell_type": "markdown",
   "metadata": {
    "slideshow": {
     "slide_type": "slide"
    }
   },
   "source": [
    "<h1>Phase-II: ML Modeling and MLOps </h1>"
   ]
  },
  {
   "cell_type": "markdown",
   "metadata": {
    "slideshow": {
     "slide_type": "slide"
    }
   },
   "source": [
    "<h2>Now, let's go ahead and talk about Feature Engineering.</h2>"
   ]
  },
  {
   "cell_type": "markdown",
   "metadata": {
    "slideshow": {
     "slide_type": "fragment"
    }
   },
   "source": [
    "The basic process here is:<ul>\n",
    "<li>Begin by classifying your variables into numerical and categorical</li>\n",
    "\n",
    "<li>Then, look at  numerical summaries of numerical variables.</li>\n",
    "\n",
    "<li>Follow this with an examination to the distribution of each variable individually.</li>\n",
    "\n",
    "<li>Then move on to study the relationships among the variables.</li>\n",
    "\n",
    "<li>Try to visualize all what you can!</li>\n",
    "\n",
    "</ul>"
   ]
  },
  {
   "cell_type": "markdown",
   "metadata": {
    "slideshow": {
     "slide_type": "slide"
    }
   },
   "source": [
    "Exploring data for machine learning is a lot similar to exploring data when performing a transformation in the sense that we manipulate the data to uncover some inconsistencies, patterns, or gaps"
   ]
  },
  {
   "cell_type": "markdown",
   "metadata": {
    "slideshow": {
     "slide_type": "slide"
    }
   },
   "source": [
    "<h2>1. Classify Your variables</h2>"
   ]
  },
  {
   "cell_type": "markdown",
   "metadata": {
    "slideshow": {
     "slide_type": "fragment"
    }
   },
   "source": [
    "<ul>\n",
    "<li>The information is organized in variables.</li>\n",
    "<li>A variable is any characteristic of an individual or a case.</li>\n",
    "    <li>In Spark, each attribute (column) in your dataframe represent a variable</li>    \n",
    "    <li>A variable can take different values for different individuals.</li>\n",
    "</ul>"
   ]
  },
  {
   "cell_type": "markdown",
   "metadata": {
    "slideshow": {
     "slide_type": "slide"
    }
   },
   "source": [
    "<h3>Reminder: Types of Variables</h3>"
   ]
  },
  {
   "cell_type": "markdown",
   "metadata": {
    "slideshow": {
     "slide_type": "fragment"
    }
   },
   "source": [
    "<ul>\n",
    "    <li><b>Continuous Variables: or quantitative variables.</b></li>\n",
    "    <li><b>Categorical Variables:</b> can be divided into:\n",
    "        <ul>\n",
    "            <li><b>Binary Variables:</b> when you have only two choices (0/1, True/False)</li>            \n",
    "            <li><b>Ordinal Variables:</b> when the categories have a certain ordering (like low/medium/high)</li>\n",
    "            <li><b>Nominal Variables:</b> when the categories have no specific ordering (like the color of an item).</li>\n",
    "        </ul>\n",
    "    </li>\n",
    "</ul>"
   ]
  },
  {
   "cell_type": "raw",
   "metadata": {
    "slideshow": {
     "slide_type": "notes"
    }
   },
   "source": [
    "<p style=\"page-break-after:always;\"></p>"
   ]
  },
  {
   "cell_type": "markdown",
   "metadata": {
    "slideshow": {
     "slide_type": "slide"
    }
   },
   "source": [
    "Note the following:\n",
    "    <ul>\n",
    "    <li>Identifying your variables as categorical (with the proper sub-type) or continuous has a direct impact on the data preparation and, down the road, the performance of your machine learning model.</li>\n",
    "    <li>Proper identification is dependent on the context (what does the column mean?) and how you want to encode its meaning.</li>\n",
    "    <li>Don’t worry if you don’t get it right the first time. You can always come back and touch up your feature types.</li>\n",
    "    </ul>"
   ]
  },
  {
   "cell_type": "markdown",
   "metadata": {
    "slideshow": {
     "slide_type": "slide"
    }
   },
   "source": [
    "<center><figure><img src=\"http://stat.cmu.edu/~mfarag/14810/l12/feature_types.png\"/><figcaption>Image taken from https://livebook.manning.com/#!/book/data-analysis-with-python-and-pyspark/discussion</figcaption></figure></center>"
   ]
  },
  {
   "cell_type": "raw",
   "metadata": {
    "slideshow": {
     "slide_type": "notes"
    }
   },
   "source": [
    "<p style=\"page-break-after:always;\"></p>"
   ]
  },
  {
   "cell_type": "markdown",
   "metadata": {
    "slideshow": {
     "slide_type": "slide"
    }
   },
   "source": [
    "<h2>2. Creating a Summary Table</h2>"
   ]
  },
  {
   "cell_type": "markdown",
   "metadata": {
    "slideshow": {
     "slide_type": "fragment"
    }
   },
   "source": [
    "<ul>\n",
    "<li>Checking the summary statistics for our dataframe helps us validate our numerical columns. This is helpful for several reasons such as understanding the variability in your data and the scale of data for each variable.</li>\n",
    "    <li>Remember, your ML model is mathematical model after all. If you have variable that includes values between 0 and 100, it will have higher influence than a column that has values between 0 and 1.</li>\n",
    "    <li>You may include the Summary columns for some categorical columns but you would have to ignore them during your analysis</li></ul>"
   ]
  },
  {
   "cell_type": "code",
   "execution_count": 16,
   "metadata": {
    "scrolled": false,
    "slideshow": {
     "slide_type": "slide"
    }
   },
   "outputs": [
    {
     "name": "stderr",
     "output_type": "stream",
     "text": [
      "[Stage 15:>                                                         (0 + 1) / 1]\r"
     ]
    },
    {
     "name": "stdout",
     "output_type": "stream",
     "text": [
      "-RECORD 0--------------------------------------------\n",
      " summary                     | count                 \n",
      " duration                    | 125973                \n",
      " protocol_type               | 125973                \n",
      " service                     | 125973                \n",
      " flag                        | 125973                \n",
      " dst_bytes                   | 125973                \n",
      " land                        | 125973                \n",
      " wrong_fragment              | 125973                \n",
      " urgent                      | 125973                \n",
      " hot                         | 125973                \n",
      " num_failed_logins           | 125973                \n",
      " logged_in                   | 125973                \n",
      " num_compromised             | 125973                \n",
      " root_shell                  | 125973                \n",
      " su_attempted                | 125973                \n",
      " num_root                    | 125973                \n",
      " num_file_creations          | 125973                \n",
      " num_shells                  | 125973                \n",
      " num_access_files            | 125973                \n",
      " num_outbound_cmds           | 125973                \n",
      " is_host_login               | 125973                \n",
      " is_guest_login              | 125973                \n",
      " count                       | 125973                \n",
      " srv_count                   | 125973                \n",
      " serror_rate                 | 125973                \n",
      " srv_serror_rate             | 125973                \n",
      " rerror_rate                 | 125973                \n",
      " srv_rerror_rate             | 125973                \n",
      " same_srv_rate               | 125973                \n",
      " diff_srv_rate               | 125973                \n",
      " srv_diff_host_rate          | 125973                \n",
      " dst_host_count              | 125973                \n",
      " dst_host_srv_count          | 125973                \n",
      " dst_host_same_srv_rate      | 125973                \n",
      " dst_host_diff_srv_rate      | 125973                \n",
      " dst_host_same_src_port_rate | 125973                \n",
      " dst_host_srv_diff_host_rate | 125973                \n",
      " dst_host_serror_rate        | 125973                \n",
      " dst_host_srv_serror_rate    | 125973                \n",
      " dst_host_rerror_rate        | 125973                \n",
      " dst_host_srv_rerror_rate    | 125973                \n",
      " classes                     | 125973                \n",
      " difficulty_level            | 125973                \n",
      " src_bytes                   | 125973                \n",
      "-RECORD 1--------------------------------------------\n",
      " summary                     | mean                  \n",
      " duration                    | 287.1446500440571     \n",
      " protocol_type               | null                  \n",
      " service                     | null                  \n",
      " flag                        | null                  \n",
      " dst_bytes                   | 19779.114421344257    \n",
      " land                        | 1.9845522453224102E-4 \n",
      " wrong_fragment              | 0.022687401268525795  \n",
      " urgent                      | 1.1113492573805498E-4 \n",
      " hot                         | 0.20440888126820828   \n",
      " num_failed_logins           | 0.0012224841831186047 \n",
      " logged_in                   | 0.3957355941352512    \n",
      " num_compromised             | 0.279250315543807     \n",
      " root_shell                  | 0.0013415573178379495 \n",
      " su_attempted                | 0.0011034110483992602 \n",
      " num_root                    | 0.30219173949973405   \n",
      " num_file_creations          | 0.012669381534138267  \n",
      " num_shells                  | 4.1278686702706137E-4 \n",
      " num_access_files            | 0.004096115834345455  \n",
      " num_outbound_cmds           | 0.0                   \n",
      " is_host_login               | 7.938208981289641E-6  \n",
      " is_guest_login              | 0.009422654060790804  \n",
      " count                       | 84.1075547934875      \n",
      " srv_count                   | 27.737888277646796    \n",
      " serror_rate                 | 0.28448453239980326   \n",
      " srv_serror_rate             | 0.2824853738499541    \n",
      " rerror_rate                 | 0.11995848316702819   \n",
      " srv_rerror_rate             | 0.1211832694307515    \n",
      " same_srv_rate               | 0.6609276591015364    \n",
      " diff_srv_rate               | 0.06305263826378092   \n",
      " srv_diff_host_rate          | 0.0973216482897197    \n",
      " dst_host_count              | 182.14894461511594    \n",
      " dst_host_srv_count          | 115.65300500900987    \n",
      " dst_host_same_srv_rate      | 0.5212416946488446    \n",
      " dst_host_diff_srv_rate      | 0.0829511085708952    \n",
      " dst_host_same_src_port_rate | 0.14837885896186095   \n",
      " dst_host_srv_diff_host_rate | 0.032542449572537116  \n",
      " dst_host_serror_rate        | 0.28445246203550506   \n",
      " dst_host_srv_serror_rate    | 0.27848451652336653   \n",
      " dst_host_rerror_rate        | 0.11883181316631937   \n",
      " dst_host_srv_rerror_rate    | 0.1202398926754181    \n",
      " classes                     | null                  \n",
      " difficulty_level            | 19.50406039389393     \n",
      " src_bytes                   | 45566.74300048423     \n",
      "-RECORD 2--------------------------------------------\n",
      " summary                     | stddev                \n",
      " duration                    | 2604.515309867581     \n",
      " protocol_type               | null                  \n",
      " service                     | null                  \n",
      " flag                        | null                  \n",
      " dst_bytes                   | 4021269.1514414363    \n",
      " land                        | 0.01408607167151311   \n",
      " wrong_fragment              | 0.25352998595201387   \n",
      " urgent                      | 0.014366026620154288  \n",
      " hot                         | 2.1499684337047573    \n",
      " num_failed_logins           | 0.04523913898133003   \n",
      " logged_in                   | 0.48901005300524314   \n",
      " num_compromised             | 23.942042242795054    \n",
      " root_shell                  | 0.036602843839798484  \n",
      " su_attempted                | 0.04515438381386554   \n",
      " num_root                    | 24.39961808883781     \n",
      " num_file_creations          | 0.48393506939604364   \n",
      " num_shells                  | 0.022181128678694116  \n",
      " num_access_files            | 0.09936955575066035   \n",
      " num_outbound_cmds           | 0.0                   \n",
      " is_host_login               | 0.002817482738419109  \n",
      " is_guest_login              | 0.09661232709143137   \n",
      " count                       | 114.50860735418443    \n",
      " srv_count                   | 72.6358396472384      \n",
      " serror_rate                 | 0.44645562433102254   \n",
      " srv_serror_rate             | 0.4470224983640152    \n",
      " rerror_rate                 | 0.3204355207495192    \n",
      " srv_rerror_rate             | 0.32364722800546275   \n",
      " same_srv_rate               | 0.43962286240748155   \n",
      " diff_srv_rate               | 0.18031440750857608   \n",
      " srv_diff_host_rate          | 0.2598304981211563    \n",
      " dst_host_count              | 99.20621303459828     \n",
      " dst_host_srv_count          | 110.70274078086435    \n",
      " dst_host_same_srv_rate      | 0.4489493637176776    \n",
      " dst_host_diff_srv_rate      | 0.18892179990461488   \n",
      " dst_host_same_src_port_rate | 0.3089971303729862    \n",
      " dst_host_srv_diff_host_rate | 0.11256380488119017   \n",
      " dst_host_serror_rate        | 0.44478405031649426   \n",
      " dst_host_srv_serror_rate    | 0.4456691238860277    \n",
      " dst_host_rerror_rate        | 0.3065574580251714    \n",
      " dst_host_srv_rerror_rate    | 0.3194593904552323    \n",
      " classes                     | null                  \n",
      " difficulty_level            | 2.2915029391013584    \n",
      " src_bytes                   | 5870331.18189357      \n",
      "-RECORD 3--------------------------------------------\n",
      " summary                     | min                   \n",
      " duration                    | 0                     \n",
      " protocol_type               | icmp                  \n",
      " service                     | IRC                   \n",
      " flag                        | OTH                   \n",
      " dst_bytes                   | 0                     \n",
      " land                        | 0                     \n",
      " wrong_fragment              | 0                     \n",
      " urgent                      | 0                     \n",
      " hot                         | 0                     \n",
      " num_failed_logins           | 0                     \n",
      " logged_in                   | 0                     \n",
      " num_compromised             | 0                     \n",
      " root_shell                  | 0                     \n",
      " su_attempted                | 0                     \n",
      " num_root                    | 0                     \n",
      " num_file_creations          | 0                     \n",
      " num_shells                  | 0                     \n",
      " num_access_files            | 0                     \n",
      " num_outbound_cmds           | 0                     \n",
      " is_host_login               | 0                     \n",
      " is_guest_login              | 0                     \n",
      " count                       | 0                     \n",
      " srv_count                   | 0                     \n",
      " serror_rate                 | 0.0                   \n",
      " srv_serror_rate             | 0.0                   \n",
      " rerror_rate                 | 0.0                   \n",
      " srv_rerror_rate             | 0.0                   \n",
      " same_srv_rate               | 0.0                   \n",
      " diff_srv_rate               | 0.0                   \n",
      " srv_diff_host_rate          | 0.0                   \n",
      " dst_host_count              | 0                     \n",
      " dst_host_srv_count          | 0                     \n",
      " dst_host_same_srv_rate      | 0.0                   \n",
      " dst_host_diff_srv_rate      | 0.0                   \n",
      " dst_host_same_src_port_rate | 0.0                   \n",
      " dst_host_srv_diff_host_rate | 0.0                   \n",
      " dst_host_serror_rate        | 0.0                   \n",
      " dst_host_srv_serror_rate    | 0.0                   \n",
      " dst_host_rerror_rate        | 0.0                   \n",
      " dst_host_srv_rerror_rate    | 0.0                   \n",
      " classes                     | back                  \n",
      " difficulty_level            | 0                     \n",
      " src_bytes                   | 0                     \n",
      "-RECORD 4--------------------------------------------\n",
      " summary                     | 25%                   \n",
      " duration                    | 0                     \n",
      " protocol_type               | null                  \n",
      " service                     | null                  \n",
      " flag                        | null                  \n",
      " dst_bytes                   | 0                     \n",
      " land                        | 0                     \n",
      " wrong_fragment              | 0                     \n",
      " urgent                      | 0                     \n",
      " hot                         | 0                     \n",
      " num_failed_logins           | 0                     \n",
      " logged_in                   | 0                     \n",
      " num_compromised             | 0                     \n",
      " root_shell                  | 0                     \n",
      " su_attempted                | 0                     \n",
      " num_root                    | 0                     \n",
      " num_file_creations          | 0                     \n",
      " num_shells                  | 0                     \n",
      " num_access_files            | 0                     \n",
      " num_outbound_cmds           | 0                     \n",
      " is_host_login               | 0                     \n",
      " is_guest_login              | 0                     \n",
      " count                       | 2                     \n",
      " srv_count                   | 2                     \n",
      " serror_rate                 | 0.0                   \n",
      " srv_serror_rate             | 0.0                   \n",
      " rerror_rate                 | 0.0                   \n",
      " srv_rerror_rate             | 0.0                   \n",
      " same_srv_rate               | 0.09                  \n",
      " diff_srv_rate               | 0.0                   \n",
      " srv_diff_host_rate          | 0.0                   \n",
      " dst_host_count              | 82                    \n",
      " dst_host_srv_count          | 10                    \n",
      " dst_host_same_srv_rate      | 0.05                  \n",
      " dst_host_diff_srv_rate      | 0.0                   \n",
      " dst_host_same_src_port_rate | 0.0                   \n",
      " dst_host_srv_diff_host_rate | 0.0                   \n",
      " dst_host_serror_rate        | 0.0                   \n",
      " dst_host_srv_serror_rate    | 0.0                   \n",
      " dst_host_rerror_rate        | 0.0                   \n",
      " dst_host_srv_rerror_rate    | 0.0                   \n",
      " classes                     | null                  \n",
      " difficulty_level            | 18                    \n",
      " src_bytes                   | 0                     \n",
      "-RECORD 5--------------------------------------------\n",
      " summary                     | 50%                   \n",
      " duration                    | 0                     \n",
      " protocol_type               | null                  \n",
      " service                     | null                  \n",
      " flag                        | null                  \n",
      " dst_bytes                   | 0                     \n",
      " land                        | 0                     \n",
      " wrong_fragment              | 0                     \n",
      " urgent                      | 0                     \n",
      " hot                         | 0                     \n",
      " num_failed_logins           | 0                     \n",
      " logged_in                   | 0                     \n",
      " num_compromised             | 0                     \n",
      " root_shell                  | 0                     \n",
      " su_attempted                | 0                     \n",
      " num_root                    | 0                     \n",
      " num_file_creations          | 0                     \n",
      " num_shells                  | 0                     \n",
      " num_access_files            | 0                     \n",
      " num_outbound_cmds           | 0                     \n",
      " is_host_login               | 0                     \n",
      " is_guest_login              | 0                     \n",
      " count                       | 14                    \n",
      " srv_count                   | 8                     \n",
      " serror_rate                 | 0.0                   \n",
      " srv_serror_rate             | 0.0                   \n",
      " rerror_rate                 | 0.0                   \n",
      " srv_rerror_rate             | 0.0                   \n",
      " same_srv_rate               | 1.0                   \n",
      " diff_srv_rate               | 0.0                   \n",
      " srv_diff_host_rate          | 0.0                   \n",
      " dst_host_count              | 255                   \n",
      " dst_host_srv_count          | 63                    \n",
      " dst_host_same_srv_rate      | 0.51                  \n",
      " dst_host_diff_srv_rate      | 0.02                  \n",
      " dst_host_same_src_port_rate | 0.0                   \n",
      " dst_host_srv_diff_host_rate | 0.0                   \n",
      " dst_host_serror_rate        | 0.0                   \n",
      " dst_host_srv_serror_rate    | 0.0                   \n",
      " dst_host_rerror_rate        | 0.0                   \n",
      " dst_host_srv_rerror_rate    | 0.0                   \n",
      " classes                     | null                  \n",
      " difficulty_level            | 20                    \n",
      " src_bytes                   | 44                    \n",
      "-RECORD 6--------------------------------------------\n",
      " summary                     | 75%                   \n",
      " duration                    | 0                     \n",
      " protocol_type               | null                  \n",
      " service                     | null                  \n",
      " flag                        | null                  \n",
      " dst_bytes                   | 516                   \n",
      " land                        | 0                     \n",
      " wrong_fragment              | 0                     \n",
      " urgent                      | 0                     \n",
      " hot                         | 0                     \n",
      " num_failed_logins           | 0                     \n",
      " logged_in                   | 1                     \n",
      " num_compromised             | 0                     \n",
      " root_shell                  | 0                     \n",
      " su_attempted                | 0                     \n",
      " num_root                    | 0                     \n",
      " num_file_creations          | 0                     \n",
      " num_shells                  | 0                     \n",
      " num_access_files            | 0                     \n",
      " num_outbound_cmds           | 0                     \n",
      " is_host_login               | 0                     \n",
      " is_guest_login              | 0                     \n",
      " count                       | 143                   \n",
      " srv_count                   | 18                    \n",
      " serror_rate                 | 1.0                   \n",
      " srv_serror_rate             | 1.0                   \n",
      " rerror_rate                 | 0.0                   \n",
      " srv_rerror_rate             | 0.0                   \n",
      " same_srv_rate               | 1.0                   \n",
      " diff_srv_rate               | 0.06                  \n",
      " srv_diff_host_rate          | 0.0                   \n",
      " dst_host_count              | 255                   \n",
      " dst_host_srv_count          | 255                   \n",
      " dst_host_same_srv_rate      | 1.0                   \n",
      " dst_host_diff_srv_rate      | 0.07                  \n",
      " dst_host_same_src_port_rate | 0.06                  \n",
      " dst_host_srv_diff_host_rate | 0.02                  \n",
      " dst_host_serror_rate        | 1.0                   \n",
      " dst_host_srv_serror_rate    | 1.0                   \n",
      " dst_host_rerror_rate        | 0.0                   \n",
      " dst_host_srv_rerror_rate    | 0.0                   \n",
      " classes                     | null                  \n",
      " difficulty_level            | 21                    \n",
      " src_bytes                   | 276                   \n",
      "-RECORD 7--------------------------------------------\n",
      " summary                     | max                   \n",
      " duration                    | 42908                 \n",
      " protocol_type               | udp                   \n",
      " service                     | whois                 \n",
      " flag                        | SH                    \n",
      " dst_bytes                   | 1309937401            \n",
      " land                        | 1                     \n",
      " wrong_fragment              | 3                     \n",
      " urgent                      | 3                     \n",
      " hot                         | 77                    \n",
      " num_failed_logins           | 5                     \n",
      " logged_in                   | 1                     \n",
      " num_compromised             | 7479                  \n",
      " root_shell                  | 1                     \n",
      " su_attempted                | 2                     \n",
      " num_root                    | 7468                  \n",
      " num_file_creations          | 43                    \n",
      " num_shells                  | 2                     \n",
      " num_access_files            | 9                     \n",
      " num_outbound_cmds           | 0                     \n",
      " is_host_login               | 1                     \n",
      " is_guest_login              | 1                     \n",
      " count                       | 511                   \n",
      " srv_count                   | 511                   \n",
      " serror_rate                 | 1.0                   \n",
      " srv_serror_rate             | 1.0                   \n",
      " rerror_rate                 | 1.0                   \n",
      " srv_rerror_rate             | 1.0                   \n",
      " same_srv_rate               | 1.0                   \n",
      " diff_srv_rate               | 1.0                   \n",
      " srv_diff_host_rate          | 1.0                   \n",
      " dst_host_count              | 255                   \n",
      " dst_host_srv_count          | 255                   \n",
      " dst_host_same_srv_rate      | 1.0                   \n",
      " dst_host_diff_srv_rate      | 1.0                   \n",
      " dst_host_same_src_port_rate | 1.0                   \n",
      " dst_host_srv_diff_host_rate | 1.0                   \n",
      " dst_host_serror_rate        | 1.0                   \n",
      " dst_host_srv_serror_rate    | 1.0                   \n",
      " dst_host_rerror_rate        | 1.0                   \n",
      " dst_host_srv_rerror_rate    | 1.0                   \n",
      " classes                     | warezmaster           \n",
      " difficulty_level            | 21                    \n",
      " src_bytes                   | 1379963888            \n",
      "\n"
     ]
    },
    {
     "name": "stderr",
     "output_type": "stream",
     "text": [
      "                                                                                \r"
     ]
    }
   ],
   "source": [
    "df_fully_imputed.summary().show(truncate=False, vertical=True)"
   ]
  },
  {
   "cell_type": "markdown",
   "metadata": {
    "slideshow": {
     "slide_type": "slide"
    }
   },
   "source": [
    "Wouldn't it be better to use graphs to look at these numbers rather than looking at it yourself?"
   ]
  },
  {
   "cell_type": "markdown",
   "metadata": {
    "slideshow": {
     "slide_type": "slide"
    }
   },
   "source": [
    "<h3>The five-number summary</h3>"
   ]
  },
  {
   "cell_type": "markdown",
   "metadata": {
    "slideshow": {
     "slide_type": "fragment"
    }
   },
   "source": [
    "The five-number summary of a set of observations consists of the smallest observation, the first quartile, the median, the third quartile, and the largest observation, written in order from smallest to largest.\n",
    "In symbols, the five-number summary is\n",
    "<ul>\n",
    "<li>Minimum </li>\n",
    "<li>25% of your data (Q1)</li>\n",
    "<li>Median of your data </li>\n",
    "<li>75% of your data (Q3)</li>\n",
    "<li>Maximum</li>\n",
    "</ul>\n",
    "\n",
    "These five numbers give a reasonably complete description of both the center and the spread of the distribution."
   ]
  },
  {
   "cell_type": "raw",
   "metadata": {
    "slideshow": {
     "slide_type": "notes"
    }
   },
   "source": [
    "<p style=\"page-break-after:always;\"></p>"
   ]
  },
  {
   "cell_type": "markdown",
   "metadata": {
    "slideshow": {
     "slide_type": "slide"
    }
   },
   "source": [
    "<h3>Boxplots</h3>"
   ]
  },
  {
   "cell_type": "markdown",
   "metadata": {
    "slideshow": {
     "slide_type": "fragment"
    }
   },
   "source": [
    "<center><figure><img src=\"http://stat.cmu.edu/~mfarag/14810/l12/boxplot.png\"/><figcaption>Boxplot Structure</figcaption></figure></center>"
   ]
  },
  {
   "cell_type": "markdown",
   "metadata": {
    "slideshow": {
     "slide_type": "slide"
    }
   },
   "source": [
    "A boxplot is a graph of the five-number summary. \n",
    "<ul>\n",
    "    <li>A central box spans the quartiles 𝑄1 and 𝑄3.</li>\n",
    "<li>A line in the box marks the median M.</li>\n",
    "<li>Lines extend from the box out to the smallest and largest observations</li>\n",
    "</ul>"
   ]
  },
  {
   "cell_type": "markdown",
   "metadata": {
    "slideshow": {
     "slide_type": "slide"
    }
   },
   "source": [
    "Boxplots are\n",
    "<ul>\n",
    "<li>Good for comparing data sets by showing them side-by-side on the same graph.</li>\n",
    "<li>Good at showing amount of variability.</li>\n",
    "<li>Weak at showing the shape of the distribution (e.g. does not show how many modes there are).</li>\n",
    "    <li>Location of median indicates symmetry or asymmetry.</li>\n",
    "</ul>\n",
    "\n",
    "<b>Now, let's Draw Boxplots!!</b>"
   ]
  },
  {
   "cell_type": "code",
   "execution_count": 17,
   "metadata": {
    "slideshow": {
     "slide_type": "slide"
    }
   },
   "outputs": [
    {
     "data": {
      "text/plain": [
       "[('duration', 'int'),\n",
       " ('protocol_type', 'string'),\n",
       " ('service', 'string'),\n",
       " ('flag', 'string'),\n",
       " ('dst_bytes', 'int'),\n",
       " ('land', 'int'),\n",
       " ('wrong_fragment', 'int'),\n",
       " ('urgent', 'int'),\n",
       " ('hot', 'int'),\n",
       " ('num_failed_logins', 'int'),\n",
       " ('logged_in', 'int'),\n",
       " ('num_compromised', 'int'),\n",
       " ('root_shell', 'int'),\n",
       " ('su_attempted', 'int'),\n",
       " ('num_root', 'int'),\n",
       " ('num_file_creations', 'int'),\n",
       " ('num_shells', 'int'),\n",
       " ('num_access_files', 'int'),\n",
       " ('num_outbound_cmds', 'int'),\n",
       " ('is_host_login', 'int'),\n",
       " ('is_guest_login', 'int'),\n",
       " ('count', 'int'),\n",
       " ('srv_count', 'int'),\n",
       " ('serror_rate', 'double'),\n",
       " ('srv_serror_rate', 'double'),\n",
       " ('rerror_rate', 'double'),\n",
       " ('srv_rerror_rate', 'double'),\n",
       " ('same_srv_rate', 'double'),\n",
       " ('diff_srv_rate', 'double'),\n",
       " ('srv_diff_host_rate', 'double'),\n",
       " ('dst_host_count', 'int'),\n",
       " ('dst_host_srv_count', 'int'),\n",
       " ('dst_host_same_srv_rate', 'double'),\n",
       " ('dst_host_diff_srv_rate', 'double'),\n",
       " ('dst_host_same_src_port_rate', 'double'),\n",
       " ('dst_host_srv_diff_host_rate', 'double'),\n",
       " ('dst_host_serror_rate', 'double'),\n",
       " ('dst_host_srv_serror_rate', 'double'),\n",
       " ('dst_host_rerror_rate', 'double'),\n",
       " ('dst_host_srv_rerror_rate', 'double'),\n",
       " ('classes', 'string'),\n",
       " ('difficulty_level', 'int'),\n",
       " ('src_bytes', 'int')]"
      ]
     },
     "execution_count": 17,
     "metadata": {},
     "output_type": "execute_result"
    }
   ],
   "source": [
    "# We will draw boxplots for the numerical features\n",
    "# Now let's check the datatypes of the dataframe\n",
    "df_fully_imputed.dtypes"
   ]
  },
  {
   "cell_type": "code",
   "execution_count": 18,
   "metadata": {
    "scrolled": true,
    "slideshow": {
     "slide_type": "slide"
    }
   },
   "outputs": [
    {
     "data": {
      "text/plain": [
       "['duration',\n",
       " 'dst_bytes',\n",
       " 'land',\n",
       " 'wrong_fragment',\n",
       " 'urgent',\n",
       " 'hot',\n",
       " 'num_failed_logins',\n",
       " 'logged_in',\n",
       " 'num_compromised',\n",
       " 'root_shell',\n",
       " 'su_attempted',\n",
       " 'num_root',\n",
       " 'num_file_creations',\n",
       " 'num_shells',\n",
       " 'num_access_files',\n",
       " 'num_outbound_cmds',\n",
       " 'is_host_login',\n",
       " 'is_guest_login',\n",
       " 'count',\n",
       " 'srv_count',\n",
       " 'serror_rate',\n",
       " 'srv_serror_rate',\n",
       " 'rerror_rate',\n",
       " 'srv_rerror_rate',\n",
       " 'same_srv_rate',\n",
       " 'diff_srv_rate',\n",
       " 'srv_diff_host_rate',\n",
       " 'dst_host_count',\n",
       " 'dst_host_srv_count',\n",
       " 'dst_host_same_srv_rate',\n",
       " 'dst_host_diff_srv_rate',\n",
       " 'dst_host_same_src_port_rate',\n",
       " 'dst_host_srv_diff_host_rate',\n",
       " 'dst_host_serror_rate',\n",
       " 'dst_host_srv_serror_rate',\n",
       " 'dst_host_rerror_rate',\n",
       " 'dst_host_srv_rerror_rate',\n",
       " 'difficulty_level',\n",
       " 'src_bytes']"
      ]
     },
     "execution_count": 18,
     "metadata": {},
     "output_type": "execute_result"
    }
   ],
   "source": [
    "numeric_features = [feature[0] for feature in df_fully_imputed.dtypes if feature[1] in ('int','double')]\n",
    "numeric_features"
   ]
  },
  {
   "cell_type": "code",
   "execution_count": 20,
   "metadata": {
    "scrolled": true,
    "slideshow": {
     "slide_type": "slide"
    }
   },
   "outputs": [
    {
     "data": {
      "image/png": "[encoded data removed]",
      "text/plain": [
       "<Figure size 640x480 with 1 Axes>"
      ]
     },
     "metadata": {},
     "output_type": "display_data"
    }
   ],
   "source": [
    "import matplotlib.pyplot as plt\n",
    "\n",
    "#Extract data and convert them into Pandas for visualization\n",
    "converted_data = df_fully_imputed[numeric_features].toPandas()\n",
    "\n",
    "figure = plt.boxplot(converted_data)"
   ]
  },
  {
   "cell_type": "markdown",
   "metadata": {
    "slideshow": {
     "slide_type": "slide"
    }
   },
   "source": [
    "That looks ugly!!! Let's get a subset of the variables and display them."
   ]
  },
  {
   "cell_type": "code",
   "execution_count": 21,
   "metadata": {
    "slideshow": {
     "slide_type": "slide"
    }
   },
   "outputs": [
    {
     "data": {
      "image/png": "[encoded data removed]",
      "text/plain": [
       "<Figure size 640x480 with 1 Axes>"
      ]
     },
     "metadata": {},
     "output_type": "display_data"
    }
   ],
   "source": [
    "\n",
    "spotted_data = df_fully_imputed[numeric_features[36:38]].toPandas()\n",
    "figure_subset = plt.boxplot(spotted_data)"
   ]
  },
  {
   "cell_type": "markdown",
   "metadata": {
    "slideshow": {
     "slide_type": "slide"
    }
   },
   "source": [
    "Did you think what the circles in the previous graph represent?"
   ]
  },
  {
   "cell_type": "markdown",
   "metadata": {
    "slideshow": {
     "slide_type": "fragment"
    }
   },
   "source": [
    "The answer is <b>Outliers</b>."
   ]
  },
  {
   "cell_type": "raw",
   "metadata": {
    "slideshow": {
     "slide_type": "notes"
    }
   },
   "source": [
    "<p style=\"page-break-after:always;\"></p>"
   ]
  },
  {
   "cell_type": "markdown",
   "metadata": {
    "slideshow": {
     "slide_type": "slide"
    }
   },
   "source": [
    "Based on these results, we MAY need to <b>handle outliers</b>!!"
   ]
  },
  {
   "cell_type": "markdown",
   "metadata": {
    "slideshow": {
     "slide_type": "slide"
    }
   },
   "source": [
    "<h2>3. Outliers</h2>"
   ]
  },
  {
   "cell_type": "markdown",
   "metadata": {
    "slideshow": {
     "slide_type": "fragment"
    }
   },
   "source": [
    "An outlier is an observation that is usually large or small relative to the other values in a data set. Identifying outliers is crucial for the selection of the ML model. Some models are more sensitive to outliers than others."
   ]
  },
  {
   "cell_type": "markdown",
   "metadata": {
    "slideshow": {
     "slide_type": "slide"
    }
   },
   "source": [
    "Outliers are typically attributable to one of the following causes:\n",
    "<ul><li>The observation is observed, recorded, or entered incorrectly.</li>\n",
    "<li>The observation comes from a different population.</li>\n",
    "<li>The observation is correct but represents a rare event</li>\n",
    "    </ul>"
   ]
  },
  {
   "cell_type": "markdown",
   "metadata": {
    "slideshow": {
     "slide_type": "slide"
    }
   },
   "source": [
    "<h3>How to spot an Outlier in Numerical Variable?</h3>"
   ]
  },
  {
   "cell_type": "markdown",
   "metadata": {
    "slideshow": {
     "slide_type": "fragment"
    }
   },
   "source": [
    "There are several ways to find outliers. The most important way is the Inter-Quartile Range (IQR). The IQR is a measure of spread that is less sensitive to the influence of extreme values.<br/> The IQR is defined as Q3 - Q1 from your boxplot."
   ]
  },
  {
   "cell_type": "markdown",
   "metadata": {
    "slideshow": {
     "slide_type": "slide"
    }
   },
   "source": [
    "<h3>How does the IQR is used in spotting Outliers?</h3>"
   ]
  },
  {
   "cell_type": "markdown",
   "metadata": {
    "slideshow": {
     "slide_type": "fragment"
    }
   },
   "source": [
    "The rule of <b>1.5×IQR Criterion for outliers</b>. Call an observation a suspected outlier if it falls:\n",
    "<ul>\n",
    "    <li>more than 1.5×IQR above the 3rd quartile or</li>\n",
    "    <li>more than 1.5×IQR below the 1st quartile</li>\n",
    "</ul>\n",
    "\n",
    "<center><figure><img src=\"http://stat.cmu.edu/~mfarag/14810/l13/iqr_for_outliers.png\"/></figure></center>"
   ]
  },
  {
   "cell_type": "code",
   "execution_count": 22,
   "metadata": {},
   "outputs": [
    {
     "data": {
      "text/plain": [
       "dict_keys(['whiskers', 'caps', 'boxes', 'medians', 'fliers', 'means'])"
      ]
     },
     "execution_count": 22,
     "metadata": {},
     "output_type": "execute_result"
    }
   ],
   "source": [
    "figure_subset.keys()"
   ]
  },
  {
   "cell_type": "markdown",
   "metadata": {
    "slideshow": {
     "slide_type": "slide"
    }
   },
   "source": [
    "<h3>How to Print Q1 and Q3 Ranges?</h3>"
   ]
  },
  {
   "cell_type": "code",
   "execution_count": 23,
   "metadata": {
    "slideshow": {
     "slide_type": "fragment"
    }
   },
   "outputs": [
    {
     "data": {
      "text/plain": [
       "[0.0, 0.0, 14.0, 21.0]"
      ]
     },
     "execution_count": 23,
     "metadata": {},
     "output_type": "execute_result"
    }
   ],
   "source": [
    "# Values printed as comma separated Q1, Q3 for each object.\n",
    "[item.get_ydata()[1] for item in figure_subset['whiskers']]"
   ]
  },
  {
   "cell_type": "raw",
   "metadata": {
    "slideshow": {
     "slide_type": "notes"
    }
   },
   "source": [
    "<p style=\"page-break-after:always;\"></p>"
   ]
  },
  {
   "cell_type": "markdown",
   "metadata": {
    "slideshow": {
     "slide_type": "slide"
    }
   },
   "source": [
    "<h3>How to Print the Outliers?</h3>"
   ]
  },
  {
   "cell_type": "code",
   "execution_count": 24,
   "metadata": {
    "scrolled": true,
    "slideshow": {
     "slide_type": "fragment"
    }
   },
   "outputs": [
    {
     "data": {
      "text/plain": [
       "[array([0.01, 1.  , 1.  , ..., 0.02, 0.93, 1.  ]),\n",
       " array([12., 11.,  2., ..., 10., 12., 11.])]"
      ]
     },
     "execution_count": 24,
     "metadata": {},
     "output_type": "execute_result"
    }
   ],
   "source": [
    "# how to print outliers?!\n",
    "[item.get_ydata() for item in figure_subset['fliers']]"
   ]
  },
  {
   "cell_type": "markdown",
   "metadata": {
    "slideshow": {
     "slide_type": "slide"
    }
   },
   "source": [
    "<h3>Look through the following code and understand the find_outliers() function</h3>"
   ]
  },
  {
   "cell_type": "code",
   "execution_count": 25,
   "metadata": {
    "slideshow": {
     "slide_type": "slide"
    }
   },
   "outputs": [],
   "source": [
    "from functools import reduce\n",
    "\n",
    "def column_add(a,b):\n",
    "     return  a.__add__(b)\n",
    "    \n",
    "def find_outliers(df):\n",
    "    # Identifying the numerical columns in a spark dataframe\n",
    "    numeric_columns = [column[0] for column in df.dtypes if column[1]=='int']\n",
    "\n",
    "    # Using the `for` loop to create new columns by identifying the outliers for each feature\n",
    "    for column in numeric_columns:\n",
    "\n",
    "        less_Q1 = 'less_Q1_{}'.format(column)\n",
    "        more_Q3 = 'more_Q3_{}'.format(column)\n",
    "        Q1 = 'Q1_{}'.format(column)\n",
    "        Q3 = 'Q3_{}'.format(column)\n",
    "\n",
    "        # Q1 : First Quartile ., Q3 : Third Quartile\n",
    "        Q1 = df.approxQuantile(column,[0.25],relativeError=0)\n",
    "        Q3 = df.approxQuantile(column,[0.75],relativeError=0)\n",
    "        \n",
    "        # IQR : Inter Quantile Range\n",
    "        # We need to define the index [0], as Q1 & Q3 are a set of lists., to perform a mathematical operation\n",
    "        # Q1 & Q3 are defined seperately so as to have a clear indication on First Quantile & 3rd Quantile\n",
    "        IQR = Q3[0] - Q1[0]\n",
    "        \n",
    "        #selecting the data, with -1.5*IQR to + 1.5*IQR., where param = 1.5 default value\n",
    "        less_Q1 =  Q1[0] - 1.5*IQR\n",
    "        more_Q3 =  Q3[0] + 1.5*IQR\n",
    "        \n",
    "        isOutlierCol = 'is_outlier_{}'.format(column)\n",
    "        \n",
    "        df = df.withColumn(isOutlierCol,when((df[column] > more_Q3) | (df[column] < less_Q1), 1).otherwise(0))\n",
    "    \n",
    "\n",
    "    # Selecting the specific columns which we have added above, to check if there are any outliers\n",
    "    selected_columns = [column for column in df.columns if column.startswith(\"is_outlier\")]\n",
    "    # Adding all the outlier columns into a new colum \"total_outliers\", to see the total number of outliers\n",
    "    df = df.withColumn('total_outliers',reduce(column_add, ( df[col] for col in  selected_columns)))\n",
    "\n",
    "    # Dropping the extra columns created above, just to create nice dataframe., without extra columns\n",
    "    df = df.drop(*[column for column in df.columns if column.startswith(\"is_outlier\")])\n",
    "\n",
    "    return df"
   ]
  },
  {
   "cell_type": "code",
   "execution_count": 26,
   "metadata": {
    "scrolled": true,
    "slideshow": {
     "slide_type": "slide"
    }
   },
   "outputs": [
    {
     "name": "stdout",
     "output_type": "stream",
     "text": [
      "-RECORD 0--------------------------\n",
      " duration                    | 0   \n",
      " dst_bytes                   | 0   \n",
      " land                        | 0   \n",
      " wrong_fragment              | 0   \n",
      " urgent                      | 0   \n",
      " hot                         | 0   \n",
      " num_failed_logins           | 0   \n",
      " logged_in                   | 0   \n",
      " num_compromised             | 0   \n",
      " root_shell                  | 0   \n",
      " su_attempted                | 0   \n",
      " num_root                    | 0   \n",
      " num_file_creations          | 0   \n",
      " num_shells                  | 0   \n",
      " num_access_files            | 0   \n",
      " num_outbound_cmds           | 0   \n",
      " is_host_login               | 0   \n",
      " is_guest_login              | 0   \n",
      " count                       | 0   \n",
      " srv_count                   | 0   \n",
      " serror_rate                 | 0   \n",
      " srv_serror_rate             | 0   \n",
      " rerror_rate                 | 0   \n",
      " srv_rerror_rate             | 0   \n",
      " same_srv_rate               | 0   \n",
      " diff_srv_rate               | 0   \n",
      " srv_diff_host_rate          | 0   \n",
      " dst_host_count              | 0   \n",
      " dst_host_srv_count          | 0   \n",
      " dst_host_same_srv_rate      | 0   \n",
      " dst_host_diff_srv_rate      | 0   \n",
      " dst_host_same_src_port_rate | 0   \n",
      " dst_host_srv_diff_host_rate | 0   \n",
      " dst_host_serror_rate        | 0   \n",
      " dst_host_srv_serror_rate    | 0   \n",
      " dst_host_rerror_rate        | 0   \n",
      " dst_host_srv_rerror_rate    | 0   \n",
      " difficulty_level            | 0   \n",
      " src_bytes                   | 0   \n",
      "\n"
     ]
    }
   ],
   "source": [
    "# As a reminder, we don't have any null values for the outliers to be handled\n",
    "numeric_columns = [column[0] for column in df_fully_imputed.dtypes if column[1] in ('int','double')]\n",
    "df_fully_imputed.select([count(when(isnan(c) | col(c).isNull(), c)).alias(c) for c in numeric_columns]).show(1, vertical=True)\n"
   ]
  },
  {
   "cell_type": "code",
   "execution_count": 27,
   "metadata": {
    "scrolled": true,
    "slideshow": {
     "slide_type": "slide"
    }
   },
   "outputs": [
    {
     "name": "stderr",
     "output_type": "stream",
     "text": [
      "                                                                                \r"
     ]
    },
    {
     "name": "stdout",
     "output_type": "stream",
     "text": [
      "-RECORD 0-------------------------------\n",
      " duration                    | 0        \n",
      " protocol_type               | tcp      \n",
      " service                     | ftp_data \n",
      " flag                        | SF       \n",
      " dst_bytes                   | 0        \n",
      " land                        | 0        \n",
      " wrong_fragment              | 0        \n",
      " urgent                      | 0        \n",
      " hot                         | 0        \n",
      " num_failed_logins           | 0        \n",
      " logged_in                   | 0        \n",
      " num_compromised             | 0        \n",
      " root_shell                  | 0        \n",
      " su_attempted                | 0        \n",
      " num_root                    | 0        \n",
      " num_file_creations          | 0        \n",
      " num_shells                  | 0        \n",
      " num_access_files            | 0        \n",
      " num_outbound_cmds           | 0        \n",
      " is_host_login               | 0        \n",
      " is_guest_login              | 0        \n",
      " count                       | 2        \n",
      " srv_count                   | 2        \n",
      " serror_rate                 | 0.0      \n",
      " srv_serror_rate             | 0.0      \n",
      " rerror_rate                 | 0.0      \n",
      " srv_rerror_rate             | 0.0      \n",
      " same_srv_rate               | 1.0      \n",
      " diff_srv_rate               | 0.0      \n",
      " srv_diff_host_rate          | 0.0      \n",
      " dst_host_count              | 150      \n",
      " dst_host_srv_count          | 25       \n",
      " dst_host_same_srv_rate      | 0.17     \n",
      " dst_host_diff_srv_rate      | 0.03     \n",
      " dst_host_same_src_port_rate | 0.17     \n",
      " dst_host_srv_diff_host_rate | 0.0      \n",
      " dst_host_serror_rate        | 0.0      \n",
      " dst_host_srv_serror_rate    | 0.0      \n",
      " dst_host_rerror_rate        | 0.05     \n",
      " dst_host_srv_rerror_rate    | 0.0      \n",
      " classes                     | normal   \n",
      " difficulty_level            | 20       \n",
      " src_bytes                   | 491      \n",
      " total_outliers              | 0        \n",
      "only showing top 1 row\n",
      "\n"
     ]
    }
   ],
   "source": [
    "df_with_outlier_handling = find_outliers(df_fully_imputed)\n",
    "df_with_outlier_handling.show(1, vertical=True)"
   ]
  },
  {
   "cell_type": "raw",
   "metadata": {
    "slideshow": {
     "slide_type": "notes"
    }
   },
   "source": [
    "<p style=\"page-break-after:always;\"></p>"
   ]
  },
  {
   "cell_type": "code",
   "execution_count": 28,
   "metadata": {},
   "outputs": [
    {
     "name": "stderr",
     "output_type": "stream",
     "text": [
      "[Stage 72:>                                                         (0 + 1) / 1]\r"
     ]
    },
    {
     "name": "stdout",
     "output_type": "stream",
     "text": [
      "+--------------+-----+\n",
      "|total_outliers|count|\n",
      "+--------------+-----+\n",
      "|             1|41051|\n",
      "|             6|  247|\n",
      "|             3| 2637|\n",
      "|             5| 1342|\n",
      "|             9|    9|\n",
      "|             4|  452|\n",
      "|             8|   55|\n",
      "|             7|   39|\n",
      "|            10|    4|\n",
      "|            11|    1|\n",
      "|             2| 6915|\n",
      "|             0|73221|\n",
      "+--------------+-----+\n",
      "\n"
     ]
    },
    {
     "name": "stderr",
     "output_type": "stream",
     "text": [
      "                                                                                \r"
     ]
    }
   ],
   "source": [
    "df_with_outlier_handling.groupby(\"total_outliers\").count().show()"
   ]
  },
  {
   "cell_type": "markdown",
   "metadata": {
    "slideshow": {
     "slide_type": "slide"
    }
   },
   "source": [
    "We don't want to lose lots of records for outliers. We will drop the rows with more than 4 outliers. "
   ]
  },
  {
   "cell_type": "code",
   "execution_count": 29,
   "metadata": {
    "slideshow": {
     "slide_type": "slide"
    }
   },
   "outputs": [
    {
     "name": "stdout",
     "output_type": "stream",
     "text": [
      "124276\n"
     ]
    }
   ],
   "source": [
    "df_with_substituted_na_and_outliers = df_with_outlier_handling.\\\n",
    "        filter(df_with_outlier_handling['total_Outliers']<=4)\n",
    "print(df_with_substituted_na_and_outliers.count())"
   ]
  },
  {
   "cell_type": "markdown",
   "metadata": {
    "slideshow": {
     "slide_type": "slide"
    }
   },
   "source": [
    "<h2>4. Variable Distribution</h2>"
   ]
  },
  {
   "cell_type": "markdown",
   "metadata": {
    "slideshow": {
     "slide_type": "fragment"
    }
   },
   "source": [
    "<ul>\n",
    "<li>The distribution of a variable tells us what values it takes and how often it takes these\n",
    "values.</li>\n",
    "    <li>In any graph of data, look for the overall pattern and for striking deviations from that\n",
    "pattern.</li>\n",
    "    <li>Overall pattern of a distribution can be described by its shape centre and spread</li>\n",
    "    <li>An important kind of deviation is <b>an outlier</b> an individual value that falls outside the\n",
    "overall pattern.</li>\n",
    "</ul>"
   ]
  },
  {
   "cell_type": "markdown",
   "metadata": {
    "slideshow": {
     "slide_type": "slide"
    }
   },
   "source": [
    "Try to answer the following questions when looking at the distribution.\n",
    "<ul>\n",
    "<li>Does the distribution have one or several major peaks, usually called modes A\n",
    "    distribution with one major peak is called unimodal</li>\n",
    "    <li>Is it approximately symmetric or skewed in one direction?</li>\n",
    "</ul>\n",
    "\n",
    "We can use <b>Seaborn</b> to visualize the variable distribution along with its <b>correlation</b> with other variables."
   ]
  },
  {
   "cell_type": "code",
   "execution_count": 31,
   "metadata": {
    "scrolled": true,
    "slideshow": {
     "slide_type": "slide"
    }
   },
   "outputs": [
    {
     "ename": "NameError",
     "evalue": "name 'spotted_data' is not defined",
     "output_type": "error",
     "traceback": [
      "\u001b[0;31m---------------------------------------------------------------------------\u001b[0m",
      "\u001b[0;31mNameError\u001b[0m                                 Traceback (most recent call last)",
      "Cell \u001b[0;32mIn[18], line 3\u001b[0m\n\u001b[1;32m      1\u001b[0m \u001b[38;5;28;01mimport\u001b[39;00m \u001b[38;5;21;01mseaborn\u001b[39;00m \u001b[38;5;28;01mas\u001b[39;00m \u001b[38;5;21;01msb\u001b[39;00m\n\u001b[0;32m----> 3\u001b[0m sb\u001b[38;5;241m.\u001b[39mpairplot(\u001b[43mspotted_data\u001b[49m)\n",
      "\u001b[0;31mNameError\u001b[0m: name 'spotted_data' is not defined"
     ]
    }
   ],
   "source": [
    "import seaborn as sb\n",
    "\n",
    "sb.pairplot(spotted_data)"
   ]
  },
  {
   "cell_type": "markdown",
   "metadata": {
    "slideshow": {
     "slide_type": "slide"
    }
   },
   "source": [
    "<ul>\n",
    "    <li>Distributions show visual correlation of variables and we identified two possible columns to be dropped. Let's take a look at the correlation between all the variables and find the variables with strong correlation.</li>\n",
    "    <li><b>Strong correlation</b> is identified with <b>>= 0.8 correlation coefficient.</b> </li>\n",
    "    <li><b>In order for correlation to work, null values should be handled. </b></li>\n",
    "    </ul>"
   ]
  },
  {
   "cell_type": "raw",
   "metadata": {
    "slideshow": {
     "slide_type": "notes"
    }
   },
   "source": [
    "<p style=\"page-break-after:always;\"></p>"
   ]
  },
  {
   "cell_type": "markdown",
   "metadata": {
    "slideshow": {
     "slide_type": "slide"
    }
   },
   "source": [
    "<h2>5. Correlations</h2>"
   ]
  },
  {
   "cell_type": "markdown",
   "metadata": {
    "slideshow": {
     "slide_type": "fragment"
    }
   },
   "source": [
    "Correlation means a mutual relationship between two or more things. Consider data points (xᵢ , yᵢ), i = 1,2,…n in a dataset. <b>The objective of correlation</b> is to see if large values of “x” are paired with large values of “y” and small values of “x” are paired with small values of “y”. If not, check if small values of “x” are paired with large values of “y” and vice versa.\n",
    "\n"
   ]
  },
  {
   "cell_type": "markdown",
   "metadata": {
    "slideshow": {
     "slide_type": "slide"
    }
   },
   "source": [
    "In general, it is recommended to avoid having correlated features in your dataset. Indeed, a group of highly correlated features will not bring additional information (or just very few), but will increase the complexity of the algorithm, thus increasing the risk of errors. Depending on the features and the model, correlated features might not always harm the performance of the model but that is a real risk."
   ]
  },
  {
   "cell_type": "markdown",
   "metadata": {
    "slideshow": {
     "slide_type": "slide"
    }
   },
   "source": [
    "<h3>Why would you drop highly correlated features?</h3>"
   ]
  },
  {
   "cell_type": "markdown",
   "metadata": {
    "slideshow": {
     "slide_type": "fragment"
    }
   },
   "source": [
    "In feature engineering, we remove highly correlated features for <b>storage and speed concerns.</b>"
   ]
  },
  {
   "cell_type": "markdown",
   "metadata": {
    "slideshow": {
     "slide_type": "slide"
    }
   },
   "source": [
    "<h3>Now that we handled null values, we can calculate the correlation using the <b>corr()</b> function in Pandas dataframe. PySpark has built-in correlation support as well using the Correlation class. However, it doesn't print the values as nicely as corr() function. So, for academic purposes, we will use the corr() function.</h3>"
   ]
  },
  {
   "cell_type": "code",
   "execution_count": 32,
   "metadata": {
    "scrolled": false,
    "slideshow": {
     "slide_type": "slide"
    }
   },
   "outputs": [
    {
     "name": "stderr",
     "output_type": "stream",
     "text": [
      "                                                                                \r"
     ]
    },
    {
     "ename": "ValueError",
     "evalue": "could not convert string to float: 'tcp'",
     "output_type": "error",
     "traceback": [
      "\u001b[0;31m---------------------------------------------------------------------------\u001b[0m",
      "\u001b[0;31mValueError\u001b[0m                                Traceback (most recent call last)",
      "Cell \u001b[0;32mIn[32], line 1\u001b[0m\n\u001b[0;32m----> 1\u001b[0m correlation_matrix \u001b[38;5;241m=\u001b[39m \u001b[43mdf_with_substituted_na_and_outliers\u001b[49m\u001b[38;5;241;43m.\u001b[39;49m\u001b[43mtoPandas\u001b[49m\u001b[43m(\u001b[49m\u001b[43m)\u001b[49m\u001b[38;5;241;43m.\u001b[39;49m\u001b[43mcorr\u001b[49m\u001b[43m(\u001b[49m\u001b[43m)\u001b[49m\n\u001b[1;32m      2\u001b[0m \u001b[38;5;28mprint\u001b[39m(correlation_matrix)\n",
      "File \u001b[0;32m~/anaconda3/envs/systems_and_toolchains/lib/python3.12/site-packages/pandas/core/frame.py:11049\u001b[0m, in \u001b[0;36mDataFrame.corr\u001b[0;34m(self, method, min_periods, numeric_only)\u001b[0m\n\u001b[1;32m  11047\u001b[0m cols \u001b[38;5;241m=\u001b[39m data\u001b[38;5;241m.\u001b[39mcolumns\n\u001b[1;32m  11048\u001b[0m idx \u001b[38;5;241m=\u001b[39m cols\u001b[38;5;241m.\u001b[39mcopy()\n\u001b[0;32m> 11049\u001b[0m mat \u001b[38;5;241m=\u001b[39m \u001b[43mdata\u001b[49m\u001b[38;5;241;43m.\u001b[39;49m\u001b[43mto_numpy\u001b[49m\u001b[43m(\u001b[49m\u001b[43mdtype\u001b[49m\u001b[38;5;241;43m=\u001b[39;49m\u001b[38;5;28;43mfloat\u001b[39;49m\u001b[43m,\u001b[49m\u001b[43m \u001b[49m\u001b[43mna_value\u001b[49m\u001b[38;5;241;43m=\u001b[39;49m\u001b[43mnp\u001b[49m\u001b[38;5;241;43m.\u001b[39;49m\u001b[43mnan\u001b[49m\u001b[43m,\u001b[49m\u001b[43m \u001b[49m\u001b[43mcopy\u001b[49m\u001b[38;5;241;43m=\u001b[39;49m\u001b[38;5;28;43;01mFalse\u001b[39;49;00m\u001b[43m)\u001b[49m\n\u001b[1;32m  11051\u001b[0m \u001b[38;5;28;01mif\u001b[39;00m method \u001b[38;5;241m==\u001b[39m \u001b[38;5;124m\"\u001b[39m\u001b[38;5;124mpearson\u001b[39m\u001b[38;5;124m\"\u001b[39m:\n\u001b[1;32m  11052\u001b[0m     correl \u001b[38;5;241m=\u001b[39m libalgos\u001b[38;5;241m.\u001b[39mnancorr(mat, minp\u001b[38;5;241m=\u001b[39mmin_periods)\n",
      "File \u001b[0;32m~/anaconda3/envs/systems_and_toolchains/lib/python3.12/site-packages/pandas/core/frame.py:1993\u001b[0m, in \u001b[0;36mDataFrame.to_numpy\u001b[0;34m(self, dtype, copy, na_value)\u001b[0m\n\u001b[1;32m   1991\u001b[0m \u001b[38;5;28;01mif\u001b[39;00m dtype \u001b[38;5;129;01mis\u001b[39;00m \u001b[38;5;129;01mnot\u001b[39;00m \u001b[38;5;28;01mNone\u001b[39;00m:\n\u001b[1;32m   1992\u001b[0m     dtype \u001b[38;5;241m=\u001b[39m np\u001b[38;5;241m.\u001b[39mdtype(dtype)\n\u001b[0;32m-> 1993\u001b[0m result \u001b[38;5;241m=\u001b[39m \u001b[38;5;28;43mself\u001b[39;49m\u001b[38;5;241;43m.\u001b[39;49m\u001b[43m_mgr\u001b[49m\u001b[38;5;241;43m.\u001b[39;49m\u001b[43mas_array\u001b[49m\u001b[43m(\u001b[49m\u001b[43mdtype\u001b[49m\u001b[38;5;241;43m=\u001b[39;49m\u001b[43mdtype\u001b[49m\u001b[43m,\u001b[49m\u001b[43m \u001b[49m\u001b[43mcopy\u001b[49m\u001b[38;5;241;43m=\u001b[39;49m\u001b[43mcopy\u001b[49m\u001b[43m,\u001b[49m\u001b[43m \u001b[49m\u001b[43mna_value\u001b[49m\u001b[38;5;241;43m=\u001b[39;49m\u001b[43mna_value\u001b[49m\u001b[43m)\u001b[49m\n\u001b[1;32m   1994\u001b[0m \u001b[38;5;28;01mif\u001b[39;00m result\u001b[38;5;241m.\u001b[39mdtype \u001b[38;5;129;01mis\u001b[39;00m \u001b[38;5;129;01mnot\u001b[39;00m dtype:\n\u001b[1;32m   1995\u001b[0m     result \u001b[38;5;241m=\u001b[39m np\u001b[38;5;241m.\u001b[39masarray(result, dtype\u001b[38;5;241m=\u001b[39mdtype)\n",
      "File \u001b[0;32m~/anaconda3/envs/systems_and_toolchains/lib/python3.12/site-packages/pandas/core/internals/managers.py:1694\u001b[0m, in \u001b[0;36mBlockManager.as_array\u001b[0;34m(self, dtype, copy, na_value)\u001b[0m\n\u001b[1;32m   1692\u001b[0m         arr\u001b[38;5;241m.\u001b[39mflags\u001b[38;5;241m.\u001b[39mwriteable \u001b[38;5;241m=\u001b[39m \u001b[38;5;28;01mFalse\u001b[39;00m\n\u001b[1;32m   1693\u001b[0m \u001b[38;5;28;01melse\u001b[39;00m:\n\u001b[0;32m-> 1694\u001b[0m     arr \u001b[38;5;241m=\u001b[39m \u001b[38;5;28;43mself\u001b[39;49m\u001b[38;5;241;43m.\u001b[39;49m\u001b[43m_interleave\u001b[49m\u001b[43m(\u001b[49m\u001b[43mdtype\u001b[49m\u001b[38;5;241;43m=\u001b[39;49m\u001b[43mdtype\u001b[49m\u001b[43m,\u001b[49m\u001b[43m \u001b[49m\u001b[43mna_value\u001b[49m\u001b[38;5;241;43m=\u001b[39;49m\u001b[43mna_value\u001b[49m\u001b[43m)\u001b[49m\n\u001b[1;32m   1695\u001b[0m     \u001b[38;5;66;03m# The underlying data was copied within _interleave, so no need\u001b[39;00m\n\u001b[1;32m   1696\u001b[0m     \u001b[38;5;66;03m# to further copy if copy=True or setting na_value\u001b[39;00m\n\u001b[1;32m   1698\u001b[0m \u001b[38;5;28;01mif\u001b[39;00m na_value \u001b[38;5;129;01mis\u001b[39;00m lib\u001b[38;5;241m.\u001b[39mno_default:\n",
      "File \u001b[0;32m~/anaconda3/envs/systems_and_toolchains/lib/python3.12/site-packages/pandas/core/internals/managers.py:1753\u001b[0m, in \u001b[0;36mBlockManager._interleave\u001b[0;34m(self, dtype, na_value)\u001b[0m\n\u001b[1;32m   1751\u001b[0m     \u001b[38;5;28;01melse\u001b[39;00m:\n\u001b[1;32m   1752\u001b[0m         arr \u001b[38;5;241m=\u001b[39m blk\u001b[38;5;241m.\u001b[39mget_values(dtype)\n\u001b[0;32m-> 1753\u001b[0m     \u001b[43mresult\u001b[49m\u001b[43m[\u001b[49m\u001b[43mrl\u001b[49m\u001b[38;5;241;43m.\u001b[39;49m\u001b[43mindexer\u001b[49m\u001b[43m]\u001b[49m \u001b[38;5;241m=\u001b[39m arr\n\u001b[1;32m   1754\u001b[0m     itemmask[rl\u001b[38;5;241m.\u001b[39mindexer] \u001b[38;5;241m=\u001b[39m \u001b[38;5;241m1\u001b[39m\n\u001b[1;32m   1756\u001b[0m \u001b[38;5;28;01mif\u001b[39;00m \u001b[38;5;129;01mnot\u001b[39;00m itemmask\u001b[38;5;241m.\u001b[39mall():\n",
      "\u001b[0;31mValueError\u001b[0m: could not convert string to float: 'tcp'"
     ]
    }
   ],
   "source": [
    "correlation_matrix = df_with_substituted_na_and_outliers.toPandas().corr()\n",
    "print(correlation_matrix)"
   ]
  },
  {
   "cell_type": "markdown",
   "metadata": {
    "slideshow": {
     "slide_type": "slide"
    }
   },
   "source": [
    "In the previous results, look for strong correlations among variables. Notice the following:\n",
    "<ul>Strong Correlations among:\n",
    "    <li>serror_rate</li>\n",
    "    <li>dst_host_serror_rate</li>\n",
    "    <li>srv_serror_rate</li>\n",
    "    <li>dst_host_srv_serror_rate</li>\n",
    "</ul>"
   ]
  },
  {
   "cell_type": "markdown",
   "metadata": {
    "slideshow": {
     "slide_type": "slide"
    }
   },
   "source": [
    "Strong Correlations among:\n",
    "<ul>\n",
    "    <li>rerror_rate</li>\n",
    "    <li>srv_rerror_rate</li>\n",
    "    <li>dst_host_rerror_rate</li>\n",
    "    <li>dst_host_srv_rerror_rate</li>\n",
    "</ul>"
   ]
  },
  {
   "cell_type": "markdown",
   "metadata": {
    "slideshow": {
     "slide_type": "slide"
    }
   },
   "source": [
    "<h3>So, we should keep one variable from each group</h3>"
   ]
  },
  {
   "cell_type": "code",
   "execution_count": 33,
   "metadata": {
    "slideshow": {
     "slide_type": "fragment"
    }
   },
   "outputs": [],
   "source": [
    "df_with_handled_correlations = df_with_substituted_na_and_outliers\\\n",
    "                .drop(\"dst_host_serror_rate\",\"srv_serror_rate\",\"dst_host_srv_serror_rate\",\n",
    "                     \"srv_rerror_rate\",\"dst_host_rerror_rate\",\"dst_host_srv_rerror_rate\")"
   ]
  },
  {
   "cell_type": "markdown",
   "metadata": {
    "slideshow": {
     "slide_type": "slide"
    }
   },
   "source": [
    "At this point, you should have handled continuous variables. <b>Next, let's look at categorical variables: Binary, Nominal and Ordinal variables</b>"
   ]
  },
  {
   "cell_type": "raw",
   "metadata": {
    "slideshow": {
     "slide_type": "notes"
    }
   },
   "source": [
    "<p style=\"page-break-after:always;\"></p>"
   ]
  },
  {
   "cell_type": "markdown",
   "metadata": {
    "slideshow": {
     "slide_type": "slide"
    }
   },
   "source": [
    "<h2>6. Handle Binary Variables (by casting them)</h2>"
   ]
  },
  {
   "cell_type": "markdown",
   "metadata": {
    "slideshow": {
     "slide_type": "fragment"
    }
   },
   "source": [
    "If you have boolean variables (i.e. True/False variables), you should convert them to 0's and 1's. \n",
    "<ul>\n",
    "    <li>0 belongs to False and 1 reflects True values.</li> \n",
    "    <li>In this dataset,there are no False and True values. They are already converted to 0's and 1's (e.g. is_guest_login variable)</li>\n",
    "    <li>However, you will have the opportunity to cast binary variables in the homework.</li>\n",
    "</ul>"
   ]
  },
  {
   "cell_type": "markdown",
   "metadata": {
    "slideshow": {
     "slide_type": "slide"
    }
   },
   "source": [
    "<h3>Here is an example on how to handle binary variables</h3>"
   ]
  },
  {
   "cell_type": "code",
   "execution_count": 34,
   "metadata": {
    "scrolled": false,
    "slideshow": {
     "slide_type": "fragment"
    }
   },
   "outputs": [
    {
     "name": "stdout",
     "output_type": "stream",
     "text": [
      "+--------------+----------------------+\n",
      "|is_guest_login|is_guest_login_encoded|\n",
      "+--------------+----------------------+\n",
      "|             1|                     1|\n",
      "|             0|                     0|\n",
      "+--------------+----------------------+\n",
      "\n"
     ]
    },
    {
     "name": "stderr",
     "output_type": "stream",
     "text": [
      "                                                                                \r"
     ]
    }
   ],
   "source": [
    "df_with_handled_binary = (df_with_handled_correlations\n",
    "              .withColumn(\"is_guest_login_encoded\", \\\n",
    "                          df_with_handled_correlations[\"is_guest_login\"].cast(\"integer\")))\n",
    "df_with_handled_binary.select(\"is_guest_login\",\"is_guest_login_encoded\").distinct().show()"
   ]
  },
  {
   "cell_type": "markdown",
   "metadata": {
    "slideshow": {
     "slide_type": "slide"
    }
   },
   "source": [
    "## Again, we don't need to handle binary variables in this example and therefore, we don't need is_guest_login_encoded column. So, I'll assign the df_with_handled_binary to its old value. You don't need this step in the HW."
   ]
  },
  {
   "cell_type": "code",
   "execution_count": 35,
   "metadata": {
    "slideshow": {
     "slide_type": "fragment"
    }
   },
   "outputs": [],
   "source": [
    "# You don't need this if you are handling binary variables\n",
    "df_with_handled_binary = df_with_handled_correlations"
   ]
  },
  {
   "cell_type": "raw",
   "metadata": {
    "slideshow": {
     "slide_type": "notes"
    }
   },
   "source": [
    "<p style=\"page-break-after:always;\"></p>"
   ]
  },
  {
   "cell_type": "markdown",
   "metadata": {
    "slideshow": {
     "slide_type": "slide"
    }
   },
   "source": [
    "<h2>7. Handling Ordinal and Nominal Variables</h2>"
   ]
  },
  {
   "cell_type": "markdown",
   "metadata": {
    "slideshow": {
     "slide_type": "fragment"
    }
   },
   "source": [
    "Many machine learning algorithms cannot work with categorical data directly. The categories must be converted into numbers. This is required for both input and output variables that are categorical."
   ]
  },
  {
   "cell_type": "markdown",
   "metadata": {
    "slideshow": {
     "slide_type": "slide"
    }
   },
   "source": [
    "Converting strings to numbers can be achieved using one of the following <b>options:</b>\n",
    "<ul>\n",
    "    <li>StringIndexer from pyspark.ml.feature. This option assigns a number to each level.  This may work for problems where there is a natural ordinal relationship between the categories, and in turn the integer values, such as labels for temperature 'cold', 'warm', and 'hot'. In StringIndexers, the most frequent value would get index 0, followed by the next most frequent and so on. However, there may be problems when there is no ordinal relationship and allowing the representation to lean on any such relationship might be damaging to learning to solve the problem. An example might be the labels 'dog' and 'cat'.<br/>\n",
    "\n",
    "In these cases, we would like to give the network more expressive power to learn a probability-like number for each possible label value. This can help in both making the problem easier for the network to model. When a one hot encoding is used for the output variable, it may offer a more nuanced set of predictions than a single label.\n",
    "</li>  \n",
    "    </ul>"
   ]
  },
  {
   "cell_type": "markdown",
   "metadata": {
    "slideshow": {
     "slide_type": "slide"
    }
   },
   "source": [
    "<ul>\n",
    "    <li>OneHotEncoder (for Spark >= 3.0) or OneHotEncoderEstimator (for Spark >= 2.3) from pyspark.ml.feature library. A one hot encoding allows the representation of categorical data to be more expressive. This option will create dummy variables for each category, thereby increasing the number of features we work with. In our selected dataset, the special teams play type and offensive information variables need to be encoded.</li>\n",
    "   </ul>"
   ]
  },
  {
   "cell_type": "markdown",
   "metadata": {
    "slideshow": {
     "slide_type": "slide"
    }
   },
   "source": [
    "<h3>String Indexer vs. One-Hot Encoder</h3>"
   ]
  },
  {
   "cell_type": "markdown",
   "metadata": {
    "slideshow": {
     "slide_type": "fragment"
    }
   },
   "source": [
    "String Indexing assigns a unique integer value to each category. 0 is assigned to the most frequent category, 1 to the next most frequent value, and so on. We have to define the input column name that we want to index and the output column name in which we want the results."
   ]
  },
  {
   "cell_type": "markdown",
   "metadata": {
    "slideshow": {
     "slide_type": "slide"
    }
   },
   "source": [
    "However, <b>String Indexers impose an order or rank on your data and therefore, they only fit ordinal variables.</b> To represent <b>nominal variables,</b> we should use <b>One-Hot encoders.</b> In Spark, encoding is done as series of tasks that are executed via <b>pipelines</b>."
   ]
  },
  {
   "cell_type": "raw",
   "metadata": {
    "slideshow": {
     "slide_type": "notes"
    }
   },
   "source": [
    "<p style=\"page-break-after:always;\"></p>"
   ]
  },
  {
   "cell_type": "markdown",
   "metadata": {
    "slideshow": {
     "slide_type": "slide"
    }
   },
   "source": [
    "<h1>Data Processing Pipelines</h1>"
   ]
  },
  {
   "cell_type": "markdown",
   "metadata": {
    "slideshow": {
     "slide_type": "fragment"
    }
   },
   "source": [
    "It's popular to use several machine learning models together. Therefore, machine learning workflows could get complex and hard to maintain. Data processing pipelines can help reducing the complexity of the machine learning workflow by allowing the reuse of workflow components across several models. A pipeline is a linear sequence of data processing and transformation stages, where each stage can be either a data transformer (for data preparation and feature engineering) or a machine learning estimator (for model training). Pipelines are designed to make it easier to construct, evaluate, and deploy machine learning workflows. "
   ]
  },
  {
   "cell_type": "markdown",
   "metadata": {
    "slideshow": {
     "slide_type": "slide"
    }
   },
   "source": [
    "<h2>Pipeline Components</h2>"
   ]
  },
  {
   "cell_type": "markdown",
   "metadata": {
    "slideshow": {
     "slide_type": "fragment"
    }
   },
   "source": [
    "The main pipeline components are:\n",
    "    <ul>\n",
    "    <li>Transformers</li>\n",
    "    <li>Estimators</li>\n",
    "    </ul>"
   ]
  },
  {
   "cell_type": "markdown",
   "metadata": {
    "slideshow": {
     "slide_type": "slide"
    }
   },
   "source": [
    "<h2>Transformers</h2>"
   ]
  },
  {
   "cell_type": "markdown",
   "metadata": {
    "slideshow": {
     "slide_type": "fragment"
    }
   },
   "source": [
    "<b>Transformers</b> typically refer to components or stages in a machine learning pipeline that are used to transform and preprocess data. These transformers are part of the Spark ML library and they are used to perform various operations on data. These operations include feature extraction, transformation, and scaling, before feeding it into machine learning algorithms. \n",
    "Technically, a Transformer implements a method transform(), which converts one DataFrame into another, generally by appending one or more columns.<br/>\n",
    "\n",
    "Examples of built-in transformers include: Tokenizer, StandardScaler, VectorAssembler, OneHotEncoder, and StringIndexer."
   ]
  },
  {
   "cell_type": "markdown",
   "metadata": {
    "slideshow": {
     "slide_type": "slide"
    }
   },
   "source": [
    "We can also create custom Transformers by subclassing the `Transformer` class (in `pyspark.ml`). The basic syntax for creating a transformer is\n"
   ]
  },
  {
   "cell_type": "code",
   "execution_count": 36,
   "metadata": {
    "slideshow": {
     "slide_type": "fragment"
    }
   },
   "outputs": [],
   "source": [
    "from pyspark.ml import Transformer\n",
    "\n",
    "class myCustomTransformer(Transformer):\n",
    "    def __init__(self):\n",
    "        super().__init__()\n",
    "    \n",
    "    def _transform(self, input_df):\n",
    "        # do some processing steps here\n",
    "        return output_df\n",
    "    \n",
    "transformer1 =  myCustomTransformer()\n",
    "transformer2 =  myCustomTransformer()"
   ]
  },
  {
   "cell_type": "code",
   "execution_count": 37,
   "metadata": {
    "slideshow": {
     "slide_type": "slide"
    }
   },
   "outputs": [],
   "source": [
    "from pyspark.ml import Pipeline\n",
    "# You can use different types of transformers, estimatorabss as well.\n",
    "mypipeline = Pipeline(stages=[transformer1, transformer2])"
   ]
  },
  {
   "cell_type": "raw",
   "metadata": {
    "slideshow": {
     "slide_type": "notes"
    }
   },
   "source": [
    "<p style=\"page-break-after:always;\"></p>"
   ]
  },
  {
   "cell_type": "markdown",
   "metadata": {
    "slideshow": {
     "slide_type": "slide"
    }
   },
   "source": [
    "<h2>Estimators</h2>"
   ]
  },
  {
   "cell_type": "markdown",
   "metadata": {
    "slideshow": {
     "slide_type": "fragment"
    }
   },
   "source": [
    "An estimator is an algorithm or model-building tool that takes a dataset and returns a model. In other words, it's an abstraction of a learning algorithm.\n",
    "\n",
    "Examples of built-in estimators include\n",
    "<ul>\n",
    "    <li>LogisticRegression: An estimator used for binary classification.</li>\n",
    "<li>RandomForestClassifier: An estimator for classification tasks using random forests.</li>\n",
    "<li>LinearRegression: An estimator for linear regression tasks.</li>\n",
    "<li>KMeans: An estimator for clustering using the K-means algorithm.</li>\n",
    "    </ul>"
   ]
  },
  {
   "cell_type": "markdown",
   "metadata": {
    "slideshow": {
     "slide_type": "slide"
    }
   },
   "source": [
    "<h3>Estimator Components</h3>"
   ]
  },
  {
   "cell_type": "markdown",
   "metadata": {
    "slideshow": {
     "slide_type": "fragment"
    }
   },
   "source": [
    "Estimators typically have two main methods: fit and transform.\n",
    "<ul>\n",
    "    <li>The <b>fit</b> method is used to train the estimator on a given dataset. It takes a DataFrame as input and returns a model.</li>\n",
    "    <li>The <b>transform</b> method is used to apply the trained model to new data, transforming the input data into predictions or other outputs.</li>\n",
    "    </ul>"
   ]
  },
  {
   "cell_type": "markdown",
   "metadata": {
    "slideshow": {
     "slide_type": "slide"
    }
   },
   "source": [
    "<h3>Let's take an example where we try to one-hot encode activity classes in our NSL-KDD dataset</h3>"
   ]
  },
  {
   "cell_type": "code",
   "execution_count": 38,
   "metadata": {
    "slideshow": {
     "slide_type": "fragment"
    }
   },
   "outputs": [
    {
     "name": "stderr",
     "output_type": "stream",
     "text": [
      "                                                                                \r"
     ]
    }
   ],
   "source": [
    "from pyspark.ml.feature import StringIndexer, OneHotEncoder\n",
    "from pyspark.ml import Pipeline\n",
    "\n",
    "\n",
    "# We don't have any ordinal variables. Only nominal variables\n",
    "# first part : transform the columns to numeric\n",
    "stage_1 = StringIndexer(inputCol= 'classes', outputCol= 'classes_index')\n",
    "stage_2 = StringIndexer(inputCol= 'protocol_type', outputCol= 'protocol_type_index')\n",
    "stage_3 = StringIndexer(inputCol= 'service', outputCol= 'service_index')\n",
    "stage_4 = StringIndexer(inputCol= 'flag', outputCol= 'flag_index')\n",
    "\n",
    "# second part : one-hot encode the numeric columns\n",
    "stage_5= OneHotEncoder(inputCols=[\"classes_index\",\"protocol_type_index\",\n",
    "                                  \"service_index\",\"flag_index\"], \n",
    "                        outputCols=['classes_encoded','protocol_type_encoded',\n",
    "                                   'service_encoded','flag_encoded'])\n",
    "\n",
    "# setup the pipeline\n",
    "pipeline = Pipeline(stages=[stage_1, stage_2, stage_3, stage_4, stage_5])\n",
    "\n",
    "# fit the pipeline model and transform the data as defined\n",
    "pipeline_model = pipeline.fit(df_with_handled_binary)\n",
    "df_encoded = pipeline_model.transform(df_with_handled_binary)\n"
   ]
  },
  {
   "cell_type": "raw",
   "metadata": {
    "slideshow": {
     "slide_type": "notes"
    }
   },
   "source": [
    "<p style=\"page-break-after:always;\"></p>"
   ]
  },
  {
   "cell_type": "markdown",
   "metadata": {
    "slideshow": {
     "slide_type": "slide"
    }
   },
   "source": [
    "<h3>In order to view/read the output of One-Hot encoding, it's best to convert your mini-dataframe to Pandas</h3>"
   ]
  },
  {
   "cell_type": "code",
   "execution_count": 39,
   "metadata": {
    "scrolled": true,
    "slideshow": {
     "slide_type": "fragment"
    }
   },
   "outputs": [
    {
     "name": "stderr",
     "output_type": "stream",
     "text": [
      "                                                                                \r"
     ]
    },
    {
     "name": "stdout",
     "output_type": "stream",
     "text": [
      "21\n"
     ]
    },
    {
     "name": "stderr",
     "output_type": "stream",
     "text": [
      "                                                                                \r"
     ]
    },
    {
     "data": {
      "text/html": [
       "<div>\n",
       "<style scoped>\n",
       "    .dataframe tbody tr th:only-of-type {\n",
       "        vertical-align: middle;\n",
       "    }\n",
       "\n",
       "    .dataframe tbody tr th {\n",
       "        vertical-align: top;\n",
       "    }\n",
       "\n",
       "    .dataframe thead th {\n",
       "        text-align: right;\n",
       "    }\n",
       "</style>\n",
       "<table border=\"1\" class=\"dataframe\">\n",
       "  <thead>\n",
       "    <tr style=\"text-align: right;\">\n",
       "      <th></th>\n",
       "      <th>classes</th>\n",
       "      <th>classes_index</th>\n",
       "      <th>classes_encoded</th>\n",
       "    </tr>\n",
       "  </thead>\n",
       "  <tbody>\n",
       "    <tr>\n",
       "      <th>0</th>\n",
       "      <td>portsweep</td>\n",
       "      <td>4.0</td>\n",
       "      <td>(0.0, 0.0, 0.0, 0.0, 1.0, 0.0, 0.0, 0.0, 0.0, ...</td>\n",
       "    </tr>\n",
       "    <tr>\n",
       "      <th>1</th>\n",
       "      <td>buffer_overflow</td>\n",
       "      <td>14.0</td>\n",
       "      <td>(0.0, 0.0, 0.0, 0.0, 0.0, 0.0, 0.0, 0.0, 0.0, ...</td>\n",
       "    </tr>\n",
       "    <tr>\n",
       "      <th>2</th>\n",
       "      <td>ipsweep</td>\n",
       "      <td>3.0</td>\n",
       "      <td>(0.0, 0.0, 0.0, 1.0, 0.0, 0.0, 0.0, 0.0, 0.0, ...</td>\n",
       "    </tr>\n",
       "    <tr>\n",
       "      <th>3</th>\n",
       "      <td>warezmaster</td>\n",
       "      <td>12.0</td>\n",
       "      <td>(0.0, 0.0, 0.0, 0.0, 0.0, 0.0, 0.0, 0.0, 0.0, ...</td>\n",
       "    </tr>\n",
       "    <tr>\n",
       "      <th>4</th>\n",
       "      <td>satan</td>\n",
       "      <td>2.0</td>\n",
       "      <td>(0.0, 0.0, 1.0, 0.0, 0.0, 0.0, 0.0, 0.0, 0.0, ...</td>\n",
       "    </tr>\n",
       "    <tr>\n",
       "      <th>5</th>\n",
       "      <td>imap</td>\n",
       "      <td>15.0</td>\n",
       "      <td>(0.0, 0.0, 0.0, 0.0, 0.0, 0.0, 0.0, 0.0, 0.0, ...</td>\n",
       "    </tr>\n",
       "    <tr>\n",
       "      <th>6</th>\n",
       "      <td>guess_passwd</td>\n",
       "      <td>11.0</td>\n",
       "      <td>(0.0, 0.0, 0.0, 0.0, 0.0, 0.0, 0.0, 0.0, 0.0, ...</td>\n",
       "    </tr>\n",
       "    <tr>\n",
       "      <th>7</th>\n",
       "      <td>loadmodule</td>\n",
       "      <td>16.0</td>\n",
       "      <td>(0.0, 0.0, 0.0, 0.0, 0.0, 0.0, 0.0, 0.0, 0.0, ...</td>\n",
       "    </tr>\n",
       "    <tr>\n",
       "      <th>8</th>\n",
       "      <td>nmap</td>\n",
       "      <td>6.0</td>\n",
       "      <td>(0.0, 0.0, 0.0, 0.0, 0.0, 0.0, 1.0, 0.0, 0.0, ...</td>\n",
       "    </tr>\n",
       "    <tr>\n",
       "      <th>9</th>\n",
       "      <td>back</td>\n",
       "      <td>9.0</td>\n",
       "      <td>(0.0, 0.0, 0.0, 0.0, 0.0, 0.0, 0.0, 0.0, 0.0, ...</td>\n",
       "    </tr>\n",
       "    <tr>\n",
       "      <th>10</th>\n",
       "      <td>spy</td>\n",
       "      <td>20.0</td>\n",
       "      <td>(0.0, 0.0, 0.0, 0.0, 0.0, 0.0, 0.0, 0.0, 0.0, ...</td>\n",
       "    </tr>\n",
       "    <tr>\n",
       "      <th>11</th>\n",
       "      <td>ftp_write</td>\n",
       "      <td>18.0</td>\n",
       "      <td>(0.0, 0.0, 0.0, 0.0, 0.0, 0.0, 0.0, 0.0, 0.0, ...</td>\n",
       "    </tr>\n",
       "    <tr>\n",
       "      <th>12</th>\n",
       "      <td>pod</td>\n",
       "      <td>10.0</td>\n",
       "      <td>(0.0, 0.0, 0.0, 0.0, 0.0, 0.0, 0.0, 0.0, 0.0, ...</td>\n",
       "    </tr>\n",
       "    <tr>\n",
       "      <th>13</th>\n",
       "      <td>neptune</td>\n",
       "      <td>1.0</td>\n",
       "      <td>(0.0, 1.0, 0.0, 0.0, 0.0, 0.0, 0.0, 0.0, 0.0, ...</td>\n",
       "    </tr>\n",
       "    <tr>\n",
       "      <th>14</th>\n",
       "      <td>warezclient</td>\n",
       "      <td>8.0</td>\n",
       "      <td>(0.0, 0.0, 0.0, 0.0, 0.0, 0.0, 0.0, 0.0, 1.0, ...</td>\n",
       "    </tr>\n",
       "    <tr>\n",
       "      <th>15</th>\n",
       "      <td>multihop</td>\n",
       "      <td>19.0</td>\n",
       "      <td>(0.0, 0.0, 0.0, 0.0, 0.0, 0.0, 0.0, 0.0, 0.0, ...</td>\n",
       "    </tr>\n",
       "    <tr>\n",
       "      <th>16</th>\n",
       "      <td>normal</td>\n",
       "      <td>0.0</td>\n",
       "      <td>(1.0, 0.0, 0.0, 0.0, 0.0, 0.0, 0.0, 0.0, 0.0, ...</td>\n",
       "    </tr>\n",
       "    <tr>\n",
       "      <th>17</th>\n",
       "      <td>rootkit</td>\n",
       "      <td>17.0</td>\n",
       "      <td>(0.0, 0.0, 0.0, 0.0, 0.0, 0.0, 0.0, 0.0, 0.0, ...</td>\n",
       "    </tr>\n",
       "    <tr>\n",
       "      <th>18</th>\n",
       "      <td>land</td>\n",
       "      <td>13.0</td>\n",
       "      <td>(0.0, 0.0, 0.0, 0.0, 0.0, 0.0, 0.0, 0.0, 0.0, ...</td>\n",
       "    </tr>\n",
       "    <tr>\n",
       "      <th>19</th>\n",
       "      <td>smurf</td>\n",
       "      <td>5.0</td>\n",
       "      <td>(0.0, 0.0, 0.0, 0.0, 0.0, 1.0, 0.0, 0.0, 0.0, ...</td>\n",
       "    </tr>\n",
       "    <tr>\n",
       "      <th>20</th>\n",
       "      <td>teardrop</td>\n",
       "      <td>7.0</td>\n",
       "      <td>(0.0, 0.0, 0.0, 0.0, 0.0, 0.0, 0.0, 1.0, 0.0, ...</td>\n",
       "    </tr>\n",
       "  </tbody>\n",
       "</table>\n",
       "</div>"
      ],
      "text/plain": [
       "            classes  classes_index  \\\n",
       "0         portsweep            4.0   \n",
       "1   buffer_overflow           14.0   \n",
       "2           ipsweep            3.0   \n",
       "3       warezmaster           12.0   \n",
       "4             satan            2.0   \n",
       "5              imap           15.0   \n",
       "6      guess_passwd           11.0   \n",
       "7        loadmodule           16.0   \n",
       "8              nmap            6.0   \n",
       "9              back            9.0   \n",
       "10              spy           20.0   \n",
       "11        ftp_write           18.0   \n",
       "12              pod           10.0   \n",
       "13          neptune            1.0   \n",
       "14      warezclient            8.0   \n",
       "15         multihop           19.0   \n",
       "16           normal            0.0   \n",
       "17          rootkit           17.0   \n",
       "18             land           13.0   \n",
       "19            smurf            5.0   \n",
       "20         teardrop            7.0   \n",
       "\n",
       "                                      classes_encoded  \n",
       "0   (0.0, 0.0, 0.0, 0.0, 1.0, 0.0, 0.0, 0.0, 0.0, ...  \n",
       "1   (0.0, 0.0, 0.0, 0.0, 0.0, 0.0, 0.0, 0.0, 0.0, ...  \n",
       "2   (0.0, 0.0, 0.0, 1.0, 0.0, 0.0, 0.0, 0.0, 0.0, ...  \n",
       "3   (0.0, 0.0, 0.0, 0.0, 0.0, 0.0, 0.0, 0.0, 0.0, ...  \n",
       "4   (0.0, 0.0, 1.0, 0.0, 0.0, 0.0, 0.0, 0.0, 0.0, ...  \n",
       "5   (0.0, 0.0, 0.0, 0.0, 0.0, 0.0, 0.0, 0.0, 0.0, ...  \n",
       "6   (0.0, 0.0, 0.0, 0.0, 0.0, 0.0, 0.0, 0.0, 0.0, ...  \n",
       "7   (0.0, 0.0, 0.0, 0.0, 0.0, 0.0, 0.0, 0.0, 0.0, ...  \n",
       "8   (0.0, 0.0, 0.0, 0.0, 0.0, 0.0, 1.0, 0.0, 0.0, ...  \n",
       "9   (0.0, 0.0, 0.0, 0.0, 0.0, 0.0, 0.0, 0.0, 0.0, ...  \n",
       "10  (0.0, 0.0, 0.0, 0.0, 0.0, 0.0, 0.0, 0.0, 0.0, ...  \n",
       "11  (0.0, 0.0, 0.0, 0.0, 0.0, 0.0, 0.0, 0.0, 0.0, ...  \n",
       "12  (0.0, 0.0, 0.0, 0.0, 0.0, 0.0, 0.0, 0.0, 0.0, ...  \n",
       "13  (0.0, 1.0, 0.0, 0.0, 0.0, 0.0, 0.0, 0.0, 0.0, ...  \n",
       "14  (0.0, 0.0, 0.0, 0.0, 0.0, 0.0, 0.0, 0.0, 1.0, ...  \n",
       "15  (0.0, 0.0, 0.0, 0.0, 0.0, 0.0, 0.0, 0.0, 0.0, ...  \n",
       "16  (1.0, 0.0, 0.0, 0.0, 0.0, 0.0, 0.0, 0.0, 0.0, ...  \n",
       "17  (0.0, 0.0, 0.0, 0.0, 0.0, 0.0, 0.0, 0.0, 0.0, ...  \n",
       "18  (0.0, 0.0, 0.0, 0.0, 0.0, 0.0, 0.0, 0.0, 0.0, ...  \n",
       "19  (0.0, 0.0, 0.0, 0.0, 0.0, 1.0, 0.0, 0.0, 0.0, ...  \n",
       "20  (0.0, 0.0, 0.0, 0.0, 0.0, 0.0, 0.0, 1.0, 0.0, ...  "
      ]
     },
     "execution_count": 39,
     "metadata": {},
     "output_type": "execute_result"
    }
   ],
   "source": [
    "# Notice, the length of our One-Hot Encoding array\n",
    "print(df_encoded.select(\"classes\").distinct().count())\n",
    "# In our NSL-KDD dataset, the length is 3. Now, let's view some examples\n",
    "df_encoded.select(\"classes\",\"classes_index\",\"classes_encoded\")\\\n",
    "                .distinct().toPandas()\n"
   ]
  },
  {
   "cell_type": "markdown",
   "metadata": {
    "slideshow": {
     "slide_type": "slide"
    }
   },
   "source": [
    "Read more about One-Hot Encoding and String Indexing from this article: <a href=\"https://medium.com/@nutanbhogendrasharma/role-of-onehotencoder-and-pipelines-in-pyspark-ml-feature-part-2-3275767e74f0\">https://medium.com/@nutanbhogendrasharma/role-of-onehotencoder-and-pipelines-in-pyspark-ml-feature-part-2-3275767e74f0</a>"
   ]
  },
  {
   "cell_type": "markdown",
   "metadata": {
    "slideshow": {
     "slide_type": "slide"
    }
   },
   "source": [
    "<h2>8. Combining Features into Single Vector</h2>"
   ]
  },
  {
   "cell_type": "markdown",
   "metadata": {
    "slideshow": {
     "slide_type": "fragment"
    }
   },
   "source": [
    "Typically, machine learning models accept the ML input as a vector of features. So, to combine your features into a single vector in Spark, you may use VectorAssembler."
   ]
  },
  {
   "cell_type": "code",
   "execution_count": 40,
   "metadata": {
    "scrolled": true,
    "slideshow": {
     "slide_type": "slide"
    }
   },
   "outputs": [
    {
     "name": "stdout",
     "output_type": "stream",
     "text": [
      "['duration', 'dst_bytes', 'land', 'wrong_fragment', 'urgent', 'hot', 'num_failed_logins', 'logged_in', 'num_compromised', 'root_shell', 'su_attempted', 'num_root', 'num_file_creations', 'num_shells', 'num_access_files', 'num_outbound_cmds', 'is_host_login', 'is_guest_login', 'count', 'srv_count', 'serror_rate', 'rerror_rate', 'same_srv_rate', 'diff_srv_rate', 'srv_diff_host_rate', 'dst_host_count', 'dst_host_srv_count', 'dst_host_same_srv_rate', 'dst_host_diff_srv_rate', 'dst_host_same_src_port_rate', 'dst_host_srv_diff_host_rate', 'difficulty_level', 'src_bytes', 'total_outliers', 'classes_encoded', 'protocol_type_encoded', 'service_encoded', 'flag_encoded']\n"
     ]
    }
   ],
   "source": [
    "feature_list = df_encoded.drop(\"classes\",\"classes_index\",\n",
    "                                        \"protocol_type\",\"protocol_type_index\",\n",
    "                                        \"service\",\"service_index\",\n",
    "                                        \"flag\",\"flag_index\").columns\n",
    "print(feature_list)"
   ]
  },
  {
   "cell_type": "code",
   "execution_count": 41,
   "metadata": {
    "slideshow": {
     "slide_type": "slide"
    }
   },
   "outputs": [],
   "source": [
    "from pyspark.ml.feature import VectorAssembler\n",
    "\n",
    "\n",
    "vector_assembler = VectorAssembler(\n",
    "    inputCols=feature_list, \n",
    "    outputCol=\"vectorized_features\")\n",
    "\n",
    "df_with_assembled_features = vector_assembler.transform(df_encoded)"
   ]
  },
  {
   "cell_type": "code",
   "execution_count": 42,
   "metadata": {
    "slideshow": {
     "slide_type": "slide"
    }
   },
   "outputs": [
    {
     "name": "stdout",
     "output_type": "stream",
     "text": [
      "+---------------------------------------------------------------------------------------------------------------------+\n",
      "|vectorized_features                                                                                                  |\n",
      "+---------------------------------------------------------------------------------------------------------------------+\n",
      "|(135,[18,19,22,25,26,27,28,29,31,32,34,54,60,125],[2.0,2.0,1.0,150.0,25.0,0.17,0.03,0.17,20.0,491.0,1.0,1.0,1.0,1.0])|\n",
      "+---------------------------------------------------------------------------------------------------------------------+\n",
      "only showing top 1 row\n",
      "\n"
     ]
    }
   ],
   "source": [
    "df_with_assembled_features.select(\"vectorized_features\").show(1, truncate=False)"
   ]
  },
  {
   "cell_type": "raw",
   "metadata": {
    "slideshow": {
     "slide_type": "notes"
    }
   },
   "source": [
    "<p style=\"page-break-after:always;\"></p>"
   ]
  },
  {
   "cell_type": "markdown",
   "metadata": {
    "slideshow": {
     "slide_type": "slide"
    }
   },
   "source": [
    "<h3>Important Note: Your Machine Learning Target/Outcome Variable MUST NOT be in the Feature List that is Assembled</h3>"
   ]
  },
  {
   "cell_type": "code",
   "execution_count": 43,
   "metadata": {
    "slideshow": {
     "slide_type": "fragment"
    }
   },
   "outputs": [],
   "source": [
    "# Let's take an example if we are trying to predict the activity/attack classes. \n",
    "# In this case, classes should not be in the feature list.\n",
    "# Notice we are dropping classes_encoded variable here\n",
    "feature_list = df_encoded.drop(\"classes\",\"classes_index\",\n",
    "                                        \"protocol_type\",\"protocol_type_index\",\n",
    "                                        \"service\",\"service_index\",\n",
    "                                        \"flag\",\"flag_index\",\n",
    "                              \"classes_encoded\").columns\n",
    "\n",
    "vector_assembler = VectorAssembler(\n",
    "    inputCols=feature_list, \n",
    "    outputCol=\"vectorized_features\")\n",
    "\n",
    "df_with_assembled_features = vector_assembler.transform(df_encoded)"
   ]
  },
  {
   "cell_type": "code",
   "execution_count": 44,
   "metadata": {
    "slideshow": {
     "slide_type": "slide"
    }
   },
   "outputs": [
    {
     "name": "stderr",
     "output_type": "stream",
     "text": [
      "                                                                                \r"
     ]
    },
    {
     "data": {
      "text/html": [
       "<div>\n",
       "<style scoped>\n",
       "    .dataframe tbody tr th:only-of-type {\n",
       "        vertical-align: middle;\n",
       "    }\n",
       "\n",
       "    .dataframe tbody tr th {\n",
       "        vertical-align: top;\n",
       "    }\n",
       "\n",
       "    .dataframe thead th {\n",
       "        text-align: right;\n",
       "    }\n",
       "</style>\n",
       "<table border=\"1\" class=\"dataframe\">\n",
       "  <thead>\n",
       "    <tr style=\"text-align: right;\">\n",
       "      <th></th>\n",
       "      <th>vectorized_features</th>\n",
       "      <th>classes_encoded</th>\n",
       "      <th>classes</th>\n",
       "    </tr>\n",
       "  </thead>\n",
       "  <tbody>\n",
       "    <tr>\n",
       "      <th>0</th>\n",
       "      <td>(0.0, 0.0, 0.0, 0.0, 0.0, 0.0, 0.0, 0.0, 0.0, ...</td>\n",
       "      <td>(0.0, 1.0, 0.0, 0.0, 0.0, 0.0, 0.0, 0.0, 0.0, ...</td>\n",
       "      <td>neptune</td>\n",
       "    </tr>\n",
       "    <tr>\n",
       "      <th>1</th>\n",
       "      <td>(0.0, 147.0, 0.0, 0.0, 0.0, 0.0, 0.0, 0.0, 0.0...</td>\n",
       "      <td>(1.0, 0.0, 0.0, 0.0, 0.0, 0.0, 0.0, 0.0, 0.0, ...</td>\n",
       "      <td>normal</td>\n",
       "    </tr>\n",
       "    <tr>\n",
       "      <th>2</th>\n",
       "      <td>(0.0, 2313.0, 0.0, 0.0, 0.0, 0.0, 0.0, 1.0, 0....</td>\n",
       "      <td>(1.0, 0.0, 0.0, 0.0, 0.0, 0.0, 0.0, 0.0, 0.0, ...</td>\n",
       "      <td>normal</td>\n",
       "    </tr>\n",
       "    <tr>\n",
       "      <th>3</th>\n",
       "      <td>(0.0, 0.0, 0.0, 0.0, 0.0, 0.0, 0.0, 0.0, 0.0, ...</td>\n",
       "      <td>(0.0, 1.0, 0.0, 0.0, 0.0, 0.0, 0.0, 0.0, 0.0, ...</td>\n",
       "      <td>neptune</td>\n",
       "    </tr>\n",
       "    <tr>\n",
       "      <th>4</th>\n",
       "      <td>(0.0, 357.0, 0.0, 0.0, 0.0, 0.0, 0.0, 1.0, 0.0...</td>\n",
       "      <td>(1.0, 0.0, 0.0, 0.0, 0.0, 0.0, 0.0, 0.0, 0.0, ...</td>\n",
       "      <td>normal</td>\n",
       "    </tr>\n",
       "    <tr>\n",
       "      <th>...</th>\n",
       "      <td>...</td>\n",
       "      <td>...</td>\n",
       "      <td>...</td>\n",
       "    </tr>\n",
       "    <tr>\n",
       "      <th>122981</th>\n",
       "      <td>(0.0, 0.0, 0.0, 0.0, 0.0, 0.0, 0.0, 0.0, 0.0, ...</td>\n",
       "      <td>(0.0, 0.0, 0.0, 0.0, 0.0, 0.0, 1.0, 0.0, 0.0, ...</td>\n",
       "      <td>nmap</td>\n",
       "    </tr>\n",
       "    <tr>\n",
       "      <th>122982</th>\n",
       "      <td>(0.0, 0.0, 0.0, 0.0, 0.0, 0.0, 0.0, 0.0, 0.0, ...</td>\n",
       "      <td>(0.0, 1.0, 0.0, 0.0, 0.0, 0.0, 0.0, 0.0, 0.0, ...</td>\n",
       "      <td>neptune</td>\n",
       "    </tr>\n",
       "    <tr>\n",
       "      <th>122983</th>\n",
       "      <td>(0.0, 0.0, 0.0, 0.0, 0.0, 0.0, 0.0, 0.0, 0.0, ...</td>\n",
       "      <td>(0.0, 0.0, 0.0, 0.0, 0.0, 0.0, 1.0, 0.0, 0.0, ...</td>\n",
       "      <td>nmap</td>\n",
       "    </tr>\n",
       "    <tr>\n",
       "      <th>122984</th>\n",
       "      <td>(0.0, 0.0, 0.0, 0.0, 0.0, 0.0, 0.0, 0.0, 0.0, ...</td>\n",
       "      <td>(0.0, 1.0, 0.0, 0.0, 0.0, 0.0, 0.0, 0.0, 0.0, ...</td>\n",
       "      <td>neptune</td>\n",
       "    </tr>\n",
       "    <tr>\n",
       "      <th>122985</th>\n",
       "      <td>(0.0, 8435.0, 0.0, 0.0, 0.0, 0.0, 0.0, 1.0, 0....</td>\n",
       "      <td>(1.0, 0.0, 0.0, 0.0, 0.0, 0.0, 0.0, 0.0, 0.0, ...</td>\n",
       "      <td>normal</td>\n",
       "    </tr>\n",
       "  </tbody>\n",
       "</table>\n",
       "<p>122986 rows × 3 columns</p>\n",
       "</div>"
      ],
      "text/plain": [
       "                                      vectorized_features  \\\n",
       "0       (0.0, 0.0, 0.0, 0.0, 0.0, 0.0, 0.0, 0.0, 0.0, ...   \n",
       "1       (0.0, 147.0, 0.0, 0.0, 0.0, 0.0, 0.0, 0.0, 0.0...   \n",
       "2       (0.0, 2313.0, 0.0, 0.0, 0.0, 0.0, 0.0, 1.0, 0....   \n",
       "3       (0.0, 0.0, 0.0, 0.0, 0.0, 0.0, 0.0, 0.0, 0.0, ...   \n",
       "4       (0.0, 357.0, 0.0, 0.0, 0.0, 0.0, 0.0, 1.0, 0.0...   \n",
       "...                                                   ...   \n",
       "122981  (0.0, 0.0, 0.0, 0.0, 0.0, 0.0, 0.0, 0.0, 0.0, ...   \n",
       "122982  (0.0, 0.0, 0.0, 0.0, 0.0, 0.0, 0.0, 0.0, 0.0, ...   \n",
       "122983  (0.0, 0.0, 0.0, 0.0, 0.0, 0.0, 0.0, 0.0, 0.0, ...   \n",
       "122984  (0.0, 0.0, 0.0, 0.0, 0.0, 0.0, 0.0, 0.0, 0.0, ...   \n",
       "122985  (0.0, 8435.0, 0.0, 0.0, 0.0, 0.0, 0.0, 1.0, 0....   \n",
       "\n",
       "                                          classes_encoded  classes  \n",
       "0       (0.0, 1.0, 0.0, 0.0, 0.0, 0.0, 0.0, 0.0, 0.0, ...  neptune  \n",
       "1       (1.0, 0.0, 0.0, 0.0, 0.0, 0.0, 0.0, 0.0, 0.0, ...   normal  \n",
       "2       (1.0, 0.0, 0.0, 0.0, 0.0, 0.0, 0.0, 0.0, 0.0, ...   normal  \n",
       "3       (0.0, 1.0, 0.0, 0.0, 0.0, 0.0, 0.0, 0.0, 0.0, ...  neptune  \n",
       "4       (1.0, 0.0, 0.0, 0.0, 0.0, 0.0, 0.0, 0.0, 0.0, ...   normal  \n",
       "...                                                   ...      ...  \n",
       "122981  (0.0, 0.0, 0.0, 0.0, 0.0, 0.0, 1.0, 0.0, 0.0, ...     nmap  \n",
       "122982  (0.0, 1.0, 0.0, 0.0, 0.0, 0.0, 0.0, 0.0, 0.0, ...  neptune  \n",
       "122983  (0.0, 0.0, 0.0, 0.0, 0.0, 0.0, 1.0, 0.0, 0.0, ...     nmap  \n",
       "122984  (0.0, 1.0, 0.0, 0.0, 0.0, 0.0, 0.0, 0.0, 0.0, ...  neptune  \n",
       "122985  (1.0, 0.0, 0.0, 0.0, 0.0, 0.0, 0.0, 0.0, 0.0, ...   normal  \n",
       "\n",
       "[122986 rows x 3 columns]"
      ]
     },
     "execution_count": 44,
     "metadata": {},
     "output_type": "execute_result"
    }
   ],
   "source": [
    "df_with_assembled_features.select(\"vectorized_features\",\"classes_encoded\",\"classes\")\\\n",
    "    .distinct().toPandas()"
   ]
  },
  {
   "cell_type": "markdown",
   "metadata": {
    "slideshow": {
     "slide_type": "slide"
    }
   },
   "source": [
    "Now that we are done with assembling all the features, <b>let's scale them so they all have standard domains and no feature will have significantly higher impact than another one before we develop our machine learning model.</b>"
   ]
  },
  {
   "cell_type": "raw",
   "metadata": {
    "slideshow": {
     "slide_type": "notes"
    }
   },
   "source": [
    "<p style=\"page-break-after:always;\"></p>"
   ]
  },
  {
   "cell_type": "markdown",
   "metadata": {
    "slideshow": {
     "slide_type": "slide"
    }
   },
   "source": [
    "<h2>9. Data Scaling</h2>"
   ]
  },
  {
   "cell_type": "markdown",
   "metadata": {
    "slideshow": {
     "slide_type": "slide"
    }
   },
   "source": [
    "In most cases, the numerical features of the dataset do not have a certain range and they differ from each other. In order for a symmetric dataset, scaling is required.\n",
    "\n",
    "<h4>Normalization</h4>\n",
    "Normalization (or min-max normalization) scales all values in a fixed range between 0 and 1. This transformation does not change the distribution of the feature and due to the decreased standard deviations, the effects of the outliers increases. Therefore, before normalization, it is recommended to handle the outliers\n",
    "<h4>Standardization</h4>\n",
    "Standardization (or z-score normalization) scales the values while taking into account standard deviation. If the standard deviation of features is different, their range also would differ from each other. This reduces the effect of the outliers in the features."
   ]
  },
  {
   "cell_type": "markdown",
   "metadata": {
    "slideshow": {
     "slide_type": "slide"
    }
   },
   "source": [
    "<center><figure><img width=\"300\" height=\"120\" src=\"http://stat.cmu.edu/~mfarag/652/lectures/l22/scaling.png\"/><figcaption>Scaling Formulas</figcaption></figure></center>"
   ]
  },
  {
   "cell_type": "markdown",
   "metadata": {
    "slideshow": {
     "slide_type": "slide"
    }
   },
   "source": [
    "In this class, we will focus on standard scalers. StandardScalers standardize features by removing the mean and scaling to unit variance using column summary statistics on the samples in the training set.\n",
    "\n",
    "The “unit std” is computed using the corrected sample standard deviation, which is computed as the square root of the unbiased sample variance.\n",
    "\n"
   ]
  },
  {
   "cell_type": "raw",
   "metadata": {
    "slideshow": {
     "slide_type": "notes"
    }
   },
   "source": [
    "<p style=\"page-break-after:always;\"></p>"
   ]
  },
  {
   "cell_type": "markdown",
   "metadata": {
    "slideshow": {
     "slide_type": "slide"
    }
   },
   "source": [
    "<h3>To scale data to predict Activity/Attack Classes</h3>\n",
    "The code is shown below."
   ]
  },
  {
   "cell_type": "code",
   "execution_count": 45,
   "metadata": {
    "scrolled": true,
    "slideshow": {
     "slide_type": "fragment"
    }
   },
   "outputs": [
    {
     "name": "stderr",
     "output_type": "stream",
     "text": [
      "                                                                                \r"
     ]
    },
    {
     "data": {
      "text/html": [
       "<div>\n",
       "<style scoped>\n",
       "    .dataframe tbody tr th:only-of-type {\n",
       "        vertical-align: middle;\n",
       "    }\n",
       "\n",
       "    .dataframe tbody tr th {\n",
       "        vertical-align: top;\n",
       "    }\n",
       "\n",
       "    .dataframe thead th {\n",
       "        text-align: right;\n",
       "    }\n",
       "</style>\n",
       "<table border=\"1\" class=\"dataframe\">\n",
       "  <thead>\n",
       "    <tr style=\"text-align: right;\">\n",
       "      <th></th>\n",
       "      <th>classes</th>\n",
       "      <th>classes_encoded</th>\n",
       "      <th>features</th>\n",
       "    </tr>\n",
       "  </thead>\n",
       "  <tbody>\n",
       "    <tr>\n",
       "      <th>0</th>\n",
       "      <td>neptune</td>\n",
       "      <td>(0.0, 1.0, 0.0, 0.0, 0.0, 0.0, 0.0, 0.0, 0.0, ...</td>\n",
       "      <td>(0.0, 0.0, 0.0, 0.0, 0.0, 0.0, 0.0, 0.0, 0.0, ...</td>\n",
       "    </tr>\n",
       "    <tr>\n",
       "      <th>1</th>\n",
       "      <td>ipsweep</td>\n",
       "      <td>(0.0, 0.0, 0.0, 1.0, 0.0, 0.0, 0.0, 0.0, 0.0, ...</td>\n",
       "      <td>(0.0, 0.0, 0.0, 0.0, 0.0, 0.0, 0.0, 0.0, 0.0, ...</td>\n",
       "    </tr>\n",
       "    <tr>\n",
       "      <th>2</th>\n",
       "      <td>neptune</td>\n",
       "      <td>(0.0, 1.0, 0.0, 0.0, 0.0, 0.0, 0.0, 0.0, 0.0, ...</td>\n",
       "      <td>(0.0, 0.0, 0.0, 0.0, 0.0, 0.0, 0.0, 0.0, 0.0, ...</td>\n",
       "    </tr>\n",
       "    <tr>\n",
       "      <th>3</th>\n",
       "      <td>nmap</td>\n",
       "      <td>(0.0, 0.0, 0.0, 0.0, 0.0, 0.0, 1.0, 0.0, 0.0, ...</td>\n",
       "      <td>(0.0, 0.0, 0.0, 0.0, 0.0, 0.0, 0.0, 0.0, 0.0, ...</td>\n",
       "    </tr>\n",
       "    <tr>\n",
       "      <th>4</th>\n",
       "      <td>neptune</td>\n",
       "      <td>(0.0, 1.0, 0.0, 0.0, 0.0, 0.0, 0.0, 0.0, 0.0, ...</td>\n",
       "      <td>(0.0, 0.0, 0.0, 0.0, 0.0, 0.0, 0.0, 0.0, 0.0, ...</td>\n",
       "    </tr>\n",
       "    <tr>\n",
       "      <th>...</th>\n",
       "      <td>...</td>\n",
       "      <td>...</td>\n",
       "      <td>...</td>\n",
       "    </tr>\n",
       "    <tr>\n",
       "      <th>122981</th>\n",
       "      <td>normal</td>\n",
       "      <td>(1.0, 0.0, 0.0, 0.0, 0.0, 0.0, 0.0, 0.0, 0.0, ...</td>\n",
       "      <td>(0.0, 8.299159495710271e-05, 0.0, 0.0, 0.0, 0....</td>\n",
       "    </tr>\n",
       "    <tr>\n",
       "      <th>122982</th>\n",
       "      <td>teardrop</td>\n",
       "      <td>(0.0, 0.0, 0.0, 0.0, 0.0, 0.0, 0.0, 1.0, 0.0, ...</td>\n",
       "      <td>(0.0, 0.0, 0.0, 11.753590125868877, 0.0, 0.0, ...</td>\n",
       "    </tr>\n",
       "    <tr>\n",
       "      <th>122983</th>\n",
       "      <td>normal</td>\n",
       "      <td>(1.0, 0.0, 0.0, 0.0, 0.0, 0.0, 0.0, 0.0, 0.0, ...</td>\n",
       "      <td>(0.0, 0.0, 0.0, 0.0, 0.0, 0.0, 0.0, 2.05262337...</td>\n",
       "    </tr>\n",
       "    <tr>\n",
       "      <th>122984</th>\n",
       "      <td>neptune</td>\n",
       "      <td>(0.0, 1.0, 0.0, 0.0, 0.0, 0.0, 0.0, 0.0, 0.0, ...</td>\n",
       "      <td>(0.0, 0.0, 0.0, 0.0, 0.0, 0.0, 0.0, 0.0, 0.0, ...</td>\n",
       "    </tr>\n",
       "    <tr>\n",
       "      <th>122985</th>\n",
       "      <td>smurf</td>\n",
       "      <td>(0.0, 0.0, 0.0, 0.0, 0.0, 1.0, 0.0, 0.0, 0.0, ...</td>\n",
       "      <td>(0.0, 0.0, 0.0, 0.0, 0.0, 0.0, 0.0, 0.0, 0.0, ...</td>\n",
       "    </tr>\n",
       "  </tbody>\n",
       "</table>\n",
       "<p>122986 rows × 3 columns</p>\n",
       "</div>"
      ],
      "text/plain": [
       "         classes                                    classes_encoded  \\\n",
       "0        neptune  (0.0, 1.0, 0.0, 0.0, 0.0, 0.0, 0.0, 0.0, 0.0, ...   \n",
       "1        ipsweep  (0.0, 0.0, 0.0, 1.0, 0.0, 0.0, 0.0, 0.0, 0.0, ...   \n",
       "2        neptune  (0.0, 1.0, 0.0, 0.0, 0.0, 0.0, 0.0, 0.0, 0.0, ...   \n",
       "3           nmap  (0.0, 0.0, 0.0, 0.0, 0.0, 0.0, 1.0, 0.0, 0.0, ...   \n",
       "4        neptune  (0.0, 1.0, 0.0, 0.0, 0.0, 0.0, 0.0, 0.0, 0.0, ...   \n",
       "...          ...                                                ...   \n",
       "122981    normal  (1.0, 0.0, 0.0, 0.0, 0.0, 0.0, 0.0, 0.0, 0.0, ...   \n",
       "122982  teardrop  (0.0, 0.0, 0.0, 0.0, 0.0, 0.0, 0.0, 1.0, 0.0, ...   \n",
       "122983    normal  (1.0, 0.0, 0.0, 0.0, 0.0, 0.0, 0.0, 0.0, 0.0, ...   \n",
       "122984   neptune  (0.0, 1.0, 0.0, 0.0, 0.0, 0.0, 0.0, 0.0, 0.0, ...   \n",
       "122985     smurf  (0.0, 0.0, 0.0, 0.0, 0.0, 1.0, 0.0, 0.0, 0.0, ...   \n",
       "\n",
       "                                                 features  \n",
       "0       (0.0, 0.0, 0.0, 0.0, 0.0, 0.0, 0.0, 0.0, 0.0, ...  \n",
       "1       (0.0, 0.0, 0.0, 0.0, 0.0, 0.0, 0.0, 0.0, 0.0, ...  \n",
       "2       (0.0, 0.0, 0.0, 0.0, 0.0, 0.0, 0.0, 0.0, 0.0, ...  \n",
       "3       (0.0, 0.0, 0.0, 0.0, 0.0, 0.0, 0.0, 0.0, 0.0, ...  \n",
       "4       (0.0, 0.0, 0.0, 0.0, 0.0, 0.0, 0.0, 0.0, 0.0, ...  \n",
       "...                                                   ...  \n",
       "122981  (0.0, 8.299159495710271e-05, 0.0, 0.0, 0.0, 0....  \n",
       "122982  (0.0, 0.0, 0.0, 11.753590125868877, 0.0, 0.0, ...  \n",
       "122983  (0.0, 0.0, 0.0, 0.0, 0.0, 0.0, 0.0, 2.05262337...  \n",
       "122984  (0.0, 0.0, 0.0, 0.0, 0.0, 0.0, 0.0, 0.0, 0.0, ...  \n",
       "122985  (0.0, 0.0, 0.0, 0.0, 0.0, 0.0, 0.0, 0.0, 0.0, ...  \n",
       "\n",
       "[122986 rows x 3 columns]"
      ]
     },
     "execution_count": 45,
     "metadata": {},
     "output_type": "execute_result"
    }
   ],
   "source": [
    "from pyspark.ml.feature import StandardScaler\n",
    "standard_scaler = StandardScaler(inputCol= 'vectorized_features', outputCol= 'features')\n",
    "scaled_model = standard_scaler.fit(df_with_assembled_features)\n",
    "df_with_scaled_features = scaled_model.transform(df_with_assembled_features)\n",
    "\n",
    "df_with_scaled_features.select(\"classes\",\"classes_encoded\",\"features\").distinct().toPandas()"
   ]
  },
  {
   "cell_type": "markdown",
   "metadata": {
    "slideshow": {
     "slide_type": "slide"
    }
   },
   "source": [
    "<h3>And at this point, your data should be ready for your ML model.</h3>"
   ]
  },
  {
   "cell_type": "markdown",
   "metadata": {
    "slideshow": {
     "slide_type": "slide"
    }
   },
   "source": [
    "<h2>Summary of Data Engineering</h2>"
   ]
  },
  {
   "cell_type": "markdown",
   "metadata": {
    "slideshow": {
     "slide_type": "fragment"
    }
   },
   "source": [
    " <ul>\n",
    "    <li>1. Data Ingestion</li>\n",
    "    <li>2. Data Cleaning. This includes handling missing values (via dropping or imputation), renaming columns and casting column data types.</li>\n",
    "    <li>3. Variable Classification</li>\n",
    "        <li>4. For continuous variables, \n",
    "            <ul>\n",
    "                <li>use boxplots to identify if outliers exist and handle outliers.</li>\n",
    "                <li>use variable distributions and handle high correlations</li>\n",
    "            </ul>\n",
    "        <li>5. For Binary variables, cast them from boolean to integer data types - if needed-</li>\n",
    "        <li>6. For ordinal variables, encode them using StringIndexers</li>\n",
    "        <li>7. For nominal variables, encode them using One-Hot Encoding</li>\n",
    "        <li>8. Assemble your input features as into single vector</li>\n",
    "        <li>9. Scale your feature vector</li>\n",
    "</ul>"
   ]
  },
  {
   "cell_type": "markdown",
   "metadata": {
    "slideshow": {
     "slide_type": "slide"
    }
   },
   "source": [
    "<h1>Reading</h1>"
   ]
  },
  {
   "cell_type": "markdown",
   "metadata": {
    "slideshow": {
     "slide_type": "fragment"
    }
   },
   "source": [
    "<ul>\n",
    "    <li>Types of Missing Values: <a href=\"https://stefvanbuuren.name/fimd/sec-MCAR.html\">https://stefvanbuuren.name/fimd/sec-MCAR.html<a/></li>\n",
    "<li>Read more about One-Hot Encoding and String Indexing from this article: <a href=\"https://stefvanbuuren.name/fimd/sec-MCAR.html\">https://medium.com/@nutanbhogendrasharma/role-of-onehotencoder-and-pipelines-in-pyspark-ml-feature-part-2-3275767e74f0</a></li>\n",
    "</ul>"
   ]
  }
 ],
 "metadata": {
  "celltoolbar": "Slideshow",
  "kernelspec": {
   "display_name": "Python 3 (ipykernel)",
   "language": "python",
   "name": "python3"
  },
  "language_info": {
   "codemirror_mode": {
    "name": "ipython",
    "version": 3
   },
   "file_extension": ".py",
   "mimetype": "text/x-python",
   "name": "python",
   "nbconvert_exporter": "python",
   "pygments_lexer": "ipython3",
   "version": "3.12.5"
  }
 },
 "nbformat": 4,
 "nbformat_minor": 4
}
