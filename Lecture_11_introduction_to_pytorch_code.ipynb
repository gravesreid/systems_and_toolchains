{
 "cells": [
  {
   "cell_type": "markdown",
   "metadata": {},
   "source": [
    "<h2><center> Introduction to PyTorch</center> </h2>"
   ]
  },
  {
   "cell_type": "markdown",
   "metadata": {},
   "source": [
    "# 1. Setting Up PyTorch"
   ]
  },
  {
   "cell_type": "code",
   "execution_count": 1,
   "metadata": {},
   "outputs": [
    {
     "name": "stdout",
     "output_type": "stream",
     "text": [
      "2.4.1\n"
     ]
    }
   ],
   "source": [
    "import torch  # now import the pytorch module\n",
    "from torch import nn\n",
    "import numpy as np \n",
    "print(torch.__version__)  # check the version"
   ]
  },
  {
   "cell_type": "markdown",
   "metadata": {},
   "source": [
    "## 2. Linear regression with PyTorch\n",
    "\n",
    "Suppose we are given input and output pairs $(x_1,y_1), ..., (x_n,y_n)$, where each $x_i\\in \\mathbb{R}^d$ is a $d$ dimensional feature vector and $y_i$ is the output. We consider the following linear regression model\n",
    "\n",
    "$$y = w^T x + b$$\n",
    "\n",
    "where $w,b$ are the model parameters. The loss function is the squared loss\n",
    "\n",
    "$$\\ell(w,b) = \\frac{1}{n} \\sum_{i=1}^n (y_i - w^T x_i)^2$$\n",
    "\n",
    "The training process is to minimize the the loss function via gradient descent. \n"
   ]
  },
  {
   "cell_type": "markdown",
   "metadata": {},
   "source": [
    "### Key steps in pytorch machine learning programming\n",
    "\n",
    "- Step 1: Build the model: The model is a subclass of nn.Module. It stores the model parameters, and also specifies how to calculate the model output given the model input\n",
    "\n",
    "- Step 2: Prepare the training and testing data \n",
    "\n",
    "- Step 3: Conduct training loops"
   ]
  },
  {
   "cell_type": "markdown",
   "metadata": {},
   "source": [
    "## 2.1 Build Linear Regression Model"
   ]
  },
  {
   "cell_type": "code",
   "execution_count": 12,
   "metadata": {},
   "outputs": [
    {
     "name": "stdout",
     "output_type": "stream",
     "text": [
      "Parameter containing:\n",
      "tensor([[0.]], requires_grad=True)\n",
      "Parameter containing:\n",
      "tensor([0.], requires_grad=True)\n"
     ]
    }
   ],
   "source": [
    "from torch import nn\n",
    "\n",
    "class MyLinearRegressionModel(nn.Module): \n",
    "    def __init__(self,d): # d is the dimension of the input\n",
    "        super(MyLinearRegressionModel,self).__init__()   # call the init function of super class\n",
    "        # we usually create variables for all our model parameters (w and b in our case) in __init__ and give them initial values. \n",
    "        # need to create them as nn.Parameter so that the model knows it is an parameter that needs to be trained\n",
    "        self.w = nn.Parameter(torch.zeros(1,d, dtype=torch.float)) \n",
    "        self.b = nn.Parameter(torch.zeros(1,dtype=torch.float))\n",
    "    def forward(self,x):\n",
    "        # The main purpose of the forward function is to specify given input x, how the output is calculated. \n",
    "        return torch.inner(x,self.w) + self.b\n",
    "    \n",
    "# Let's check out our model \n",
    "\n",
    "mymodel = MyLinearRegressionModel(1) # creating a model instance with input dimension 1\n",
    "print(mymodel.w)\n",
    "print(mymodel.b)\n",
    "\n"
   ]
  },
  {
   "cell_type": "code",
   "execution_count": 13,
   "metadata": {},
   "outputs": [
    {
     "name": "stdout",
     "output_type": "stream",
     "text": [
      "tensor([[0.]], grad_fn=<AddBackward0>)\n"
     ]
    }
   ],
   "source": [
    "x = torch.tensor(2)\n",
    "print(mymodel(x)) # we should expect this to be w*x+b = 0*2+0 = 0 (recall that w is initialized to be 0, and b is 0)\n"
   ]
  },
  {
   "cell_type": "markdown",
   "metadata": {},
   "source": [
    "## 2.2 Prepare Training Data"
   ]
  },
  {
   "cell_type": "code",
   "execution_count": 14,
   "metadata": {},
   "outputs": [
    {
     "data": {
      "text/plain": [
       "<matplotlib.legend.Legend at 0x7f52e12a5e50>"
      ]
     },
     "execution_count": 14,
     "metadata": {},
     "output_type": "execute_result"
    },
    {
     "data": {
      "image/png": "[encoded data removed]",
      "text/plain": [
       "<Figure size 640x480 with 1 Axes>"
      ]
     },
     "metadata": {},
     "output_type": "display_data"
    }
   ],
   "source": [
    "# Now let's create some simple synthetic data\n",
    "\n",
    "import matplotlib.pyplot as plt\n",
    "\n",
    "x = torch.arange(0,10,.1,dtype=torch.float) \n",
    "x = x[:,None]\n",
    "y = x*3+torch.randn(x.shape)\n",
    "\n",
    "prediction = mymodel(x).detach().numpy()\n",
    "plt.plot(x,y,'ro')\n",
    "plt.plot(x,prediction)\n",
    "plt.legend(['data','prediction of mymodel before training'])\n",
    "\n"
   ]
  },
  {
   "cell_type": "markdown",
   "metadata": {},
   "source": [
    "## 2.3 Performing Gradient Descent"
   ]
  },
  {
   "cell_type": "markdown",
   "metadata": {},
   "source": [
    "### Forward Pass\n",
    "\n",
    "The first step to calculate gradient is to do a \"fowrad pass\", which means compute the loss from the current parameters and the training data. "
   ]
  },
  {
   "cell_type": "code",
   "execution_count": 15,
   "metadata": {},
   "outputs": [
    {
     "name": "stdout",
     "output_type": "stream",
     "text": [
      "tensor(302.5526, grad_fn=<MeanBackward0>)\n"
     ]
    }
   ],
   "source": [
    "# Let's try to calculate the gradient\n",
    "\n",
    "prediction = mymodel(x) \n",
    "\n",
    "loss = torch.mean((prediction - y)**2)\n",
    "\n",
    "print(loss)"
   ]
  },
  {
   "cell_type": "markdown",
   "metadata": {},
   "source": [
    "### Backward"
   ]
  },
  {
   "cell_type": "markdown",
   "metadata": {},
   "source": [
    "Before we talk about backward, let's see what the gradients are now. They are stored in `.grad` attributes in the two model parameters. They should be `None` as we haven't computed it yet. "
   ]
  },
  {
   "cell_type": "code",
   "execution_count": 16,
   "metadata": {},
   "outputs": [
    {
     "name": "stdout",
     "output_type": "stream",
     "text": [
      "None None\n"
     ]
    }
   ],
   "source": [
    "\n",
    "print(mymodel.w.grad,mymodel.b.grad)"
   ]
  },
  {
   "cell_type": "markdown",
   "metadata": {},
   "source": [
    "The backward function computes the gradient, and you can check the gradient values. "
   ]
  },
  {
   "cell_type": "code",
   "execution_count": 17,
   "metadata": {},
   "outputs": [
    {
     "name": "stdout",
     "output_type": "stream",
     "text": [
      "tensor([[-198.9513]]) tensor([-29.9597])\n"
     ]
    }
   ],
   "source": [
    "loss.backward()\n",
    "print(mymodel.w.grad,mymodel.b.grad)"
   ]
  },
  {
   "cell_type": "markdown",
   "metadata": {},
   "source": [
    "### Training loop "
   ]
  },
  {
   "cell_type": "markdown",
   "metadata": {},
   "source": [
    "Let's now write a training loop for gradient descent! The training procedure is a loop of multiple gradient steps. In each training step in the training loop,\n",
    "\n",
    "- First the prediction is computed based on the input variable of the training data set. \n",
    "- Then, the prediction, together with the training output, is used to compute the loss.\n",
    "- Then, we run the optimizer.zero_grad(), which clears the gradient computed from the previous loop. \n",
    "- Then, we run loss.backward() which calculates the gradient of the loss w.r.t. the parameters\n",
    "- Finally, optimizer.step() conducts a gradient step\n"
   ]
  },
  {
   "cell_type": "code",
   "execution_count": 18,
   "metadata": {},
   "outputs": [],
   "source": [
    "# Now let's do the training!\n",
    "\n",
    "maxIter = 100\n",
    "\n",
    "mymodel = MyLinearRegressionModel(1)\n",
    "\n",
    "# this creates a optimizer, and we tell optimizer we are optimizing the parameters in mymodel\n",
    "optimizer = torch.optim.SGD(mymodel.parameters(), lr = 1e-3) \n",
    "\n",
    "for _ in range(maxIter):\n",
    "\n",
    "    # pass input data to get the prediction outputs by the current model\n",
    "    prediction = mymodel(x)\n",
    "\n",
    "    # compare prediction and the actual output and compute the loss\n",
    "    loss = torch.mean((prediction - y)**2)\n",
    "\n",
    "    # compute the gradient\n",
    "    optimizer.zero_grad()\n",
    "    loss.backward()\n",
    "\n",
    "    # update parameters\n",
    "    optimizer.step()\n",
    "\n",
    "\n",
    "# let "
   ]
  },
  {
   "cell_type": "code",
   "execution_count": 19,
   "metadata": {},
   "outputs": [
    {
     "name": "stdout",
     "output_type": "stream",
     "text": [
      "Parameter containing:\n",
      "tensor([[2.9621]], requires_grad=True) Parameter containing:\n",
      "tensor([0.4245], requires_grad=True)\n"
     ]
    },
    {
     "data": {
      "text/plain": [
       "<matplotlib.legend.Legend at 0x7f52e11e2b40>"
      ]
     },
     "execution_count": 19,
     "metadata": {},
     "output_type": "execute_result"
    },
    {
     "data": {
      "image/png": "[encoded data removed]",
      "text/plain": [
       "<Figure size 640x480 with 1 Axes>"
      ]
     },
     "metadata": {},
     "output_type": "display_data"
    }
   ],
   "source": [
    "# let's see how the model looks like!\n",
    "\n",
    "print(mymodel.w,mymodel.b)\n",
    "\n",
    "prediction = mymodel(x).detach().numpy()\n",
    "plt.plot(x,y,'ro')\n",
    "plt.plot(x,prediction,linewidth = 4)\n",
    "plt.legend(['data','prediction of mymodel after training'])\n",
    "\n"
   ]
  },
  {
   "cell_type": "markdown",
   "metadata": {},
   "source": [
    "## 2.4 Visualizing Gradient Descent"
   ]
  },
  {
   "cell_type": "code",
   "execution_count": 21,
   "metadata": {},
   "outputs": [
    {
     "name": "stderr",
     "output_type": "stream",
     "text": [
      "/tmp/ipykernel_1137248/2719295762.py:47: MatplotlibDeprecationWarning: The tostring_rgb function was deprecated in Matplotlib 3.8 and will be removed in 3.10. Use buffer_rgba instead.\n",
      "  image = np.frombuffer(canvas.tostring_rgb(), dtype='uint8')\n"
     ]
    },
    {
     "name": "stdout",
     "output_type": "stream",
     "text": [
      "Saving GIF file\n"
     ]
    }
   ],
   "source": [
    "import io\n",
    "import imageio\n",
    "from matplotlib.backends.backend_agg import FigureCanvasAgg as FigureCanvas\n",
    "from matplotlib.figure import Figure\n",
    "\n",
    "mymodel = MyLinearRegressionModel(1) # creating a model instance with input dimension 1\n",
    "lr = 0.001\n",
    "optimizer = torch.optim.SGD(mymodel.parameters(), lr = lr) # this line creates a optimizer, and we tell optimizer we are optimizing the parameters in mymodel\n",
    "\n",
    "\n",
    "frames = []\n",
    "\n",
    "losses = []\n",
    "\n",
    "maxIter = 200\n",
    "\n",
    "for i in range(maxIter):\n",
    "\n",
    "    # pass input data to get the prediction outputs by the current model\n",
    "    prediction = mymodel(x)\n",
    "\n",
    "    # compare prediction and the actual output and compute the loss\n",
    "    loss = torch.mean((prediction - y)**2)\n",
    "\n",
    "    # compute the gradient\n",
    "    optimizer.zero_grad()\n",
    "    loss.backward()\n",
    "\n",
    "    # update parameters\n",
    "    optimizer.step()\n",
    "    fig, ax = plt.subplots(nrows = 1, ncols = 2)\n",
    "    canvas = FigureCanvas(fig)\n",
    "    ax[0].plot(x,y,'ro')\n",
    "    ax[0].plot(x,prediction.detach(),linewidth = 2)\n",
    "    ax[0].legend(['data','prediction of mymodel'],loc = 'upper left')\n",
    "    ax[0].set_title(f\"Learning rate = {lr}, Iteration {i}\")\n",
    "    ax[0].set_xlim((0,10))\n",
    "    ax[0].set_ylim((0,30))\n",
    "\n",
    "    losses.append(loss.detach().numpy())\n",
    "    ax[1].plot(np.arange(i+1),np.array(losses).squeeze(),linewidth=2 )\n",
    "    ax[1].set_xlim((0,maxIter))\n",
    "    ax[1].set_ylim((0,300))\n",
    "    ax[1].set_title(\"Training loss\")\n",
    "    canvas.draw()       # draw the canvas, cache the renderer\n",
    "\n",
    "    image = np.frombuffer(canvas.tostring_rgb(), dtype='uint8')\n",
    "\n",
    "    image = image.reshape(fig.canvas.get_width_height()[::-1] + (3,))\n",
    "\n",
    "    frames.append(image)\n",
    "    plt.close(fig)\n",
    "\n",
    "\n",
    "print(\"Saving GIF file\")\n",
    "with imageio.get_writer(\"GD.gif\", mode=\"I\") as writer:\n",
    "    for frame in frames:\n",
    "        writer.append_data(frame)\n",
    "\n"
   ]
  },
  {
   "cell_type": "code",
   "execution_count": null,
   "metadata": {},
   "outputs": [],
   "source": []
  }
 ],
 "metadata": {
  "kernelspec": {
   "display_name": "systems_and_toolchains",
   "language": "python",
   "name": "python3"
  },
  "language_info": {
   "codemirror_mode": {
    "name": "ipython",
    "version": 3
   },
   "file_extension": ".py",
   "mimetype": "text/x-python",
   "name": "python",
   "nbconvert_exporter": "python",
   "pygments_lexer": "ipython3",
   "version": "3.12.5"
  }
 },
 "nbformat": 4,
 "nbformat_minor": 4
}
