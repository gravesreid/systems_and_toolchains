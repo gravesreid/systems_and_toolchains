{
 "cells": [
  {
   "cell_type": "markdown",
   "metadata": {},
   "source": [
    "<center><h2>Machine Learning Process in SparkML: Training and Evaluation</h2></center>"
   ]
  },
  {
   "cell_type": "markdown",
   "metadata": {},
   "source": [
    "# 1. Data Ingestion and Preprocess\n"
   ]
  },
  {
   "cell_type": "markdown",
   "metadata": {},
   "source": [
    "\n",
    "In previous lectures, we covered how to conduct data engineering, and finally decided upon the following operations on our dataframe. \n",
    "\n",
    "- Cast columns as appropriate types (particularly numerical columns)\n",
    "- StringIndexer and OneHotEncoder for nominal columns\n",
    "- Throwing away 6 columns with high correlation coefficients\n",
    "- Assemble features into vector and scaling\n",
    "\n",
    "However, the code of lecture 9 and 10 is only for the training data set \"KDDTrain+.txt\", while we would also like to load the \"KDDTest+.txt\" dataset. Do we need to repeat the code for the \"KDDTest+.txt\"? \n",
    "\n",
    "Fortunately, pyspark provides the consept of **Transformer** and **Pipeline** that allows us to create a template for data processing which allows us to reuse it on different data sets. \n",
    "\n",
    "- Transformer is usually a single step in the process. The StringIndexer, OneHotEncoder, StandardScaler are all built-in Transformers (or Estimators that can produce Transformers after fitting) in pyspark. We can also create custom Transformers by subclassing the `Transformer` class (in `pyspark.ml`). The basic syntax for creating a transformer is\n",
    "\n",
    "```python\n",
    "class myCustomTransformer(Transformer):\n",
    "    def __init__(self):\n",
    "        super().__init()\n",
    "    \n",
    "    def _transform(self, input_df):\n",
    "        # do some processing steps here\n",
    "        return output_df\n",
    "```\n",
    "\n",
    "- Pipeline consists of a series of transformers. The syntax for creating a pipeline is as follows\n",
    "\n",
    "```python\n",
    "mypipeline = Pipeline(stages=[transformer1, transformer2, ...])\n",
    "```\n",
    "\n",
    "The pipeline we use today is given in the code below. Note that we also add stages for creating the outcome columnn, and a stage to remove all unnecessary columns. "
   ]
  },
  {
   "cell_type": "code",
   "execution_count": 1,
   "metadata": {},
   "outputs": [],
   "source": [
    "import pyspark\n",
    "from pyspark.sql import SparkSession, SQLContext\n",
    "from pyspark.ml import Pipeline,Transformer\n",
    "from pyspark.ml.feature import Imputer,StandardScaler,StringIndexer,OneHotEncoder, VectorAssembler\n",
    "\n",
    "from pyspark.sql.functions import *\n",
    "from pyspark.sql.types import *\n",
    "import numpy as np\n",
    "\n",
    "col_names = [\"duration\",\"protocol_type\",\"service\",\"flag\",\"src_bytes\",\n",
    "\"dst_bytes\",\"land\",\"wrong_fragment\",\"urgent\",\"hot\",\"num_failed_logins\",\n",
    "\"logged_in\",\"num_compromised\",\"root_shell\",\"su_attempted\",\"num_root\",\n",
    "\"num_file_creations\",\"num_shells\",\"num_access_files\",\"num_outbound_cmds\",\n",
    "\"is_host_login\",\"is_guest_login\",\"count\",\"srv_count\",\"serror_rate\",\n",
    "\"srv_serror_rate\",\"rerror_rate\",\"srv_rerror_rate\",\"same_srv_rate\",\n",
    "\"diff_srv_rate\",\"srv_diff_host_rate\",\"dst_host_count\",\"dst_host_srv_count\",\n",
    "\"dst_host_same_srv_rate\",\"dst_host_diff_srv_rate\",\"dst_host_same_src_port_rate\",\n",
    "\"dst_host_srv_diff_host_rate\",\"dst_host_serror_rate\",\"dst_host_srv_serror_rate\",\n",
    "\"dst_host_rerror_rate\",\"dst_host_srv_rerror_rate\",\"class\",\"difficulty\"]\n",
    "\n",
    "nominal_cols = ['protocol_type','service','flag']\n",
    "binary_cols = ['land', 'logged_in', 'root_shell', 'su_attempted', 'is_host_login',\n",
    "'is_guest_login']\n",
    "continuous_cols = ['duration' ,'src_bytes', 'dst_bytes', 'wrong_fragment' ,'urgent', 'hot',\n",
    "'num_failed_logins', 'num_compromised', 'num_root' ,'num_file_creations',\n",
    "'num_shells', 'num_access_files', 'num_outbound_cmds', 'count' ,'srv_count',\n",
    "'serror_rate', 'srv_serror_rate' ,'rerror_rate' ,'srv_rerror_rate',\n",
    "'same_srv_rate', 'diff_srv_rate', 'srv_diff_host_rate' ,'dst_host_count',\n",
    "'dst_host_srv_count' ,'dst_host_same_srv_rate' ,'dst_host_diff_srv_rate',\n",
    "'dst_host_same_src_port_rate' ,'dst_host_srv_diff_host_rate',\n",
    "'dst_host_serror_rate' ,'dst_host_srv_serror_rate', 'dst_host_rerror_rate',\n",
    "'dst_host_srv_rerror_rate']\n",
    "\n",
    "class OutcomeCreater(Transformer): # this defines a transformer that creates the outcome column\n",
    "    \n",
    "    def __init__(self):\n",
    "        super().__init__()\n",
    "\n",
    "    def _transform(self, dataset):\n",
    "        label_to_binary = udf(lambda name: 0.0 if name == 'normal' else 1.0)\n",
    "        output_df = dataset.withColumn('outcome', label_to_binary(col('class'))).drop(\"class\")  \n",
    "        output_df = output_df.withColumn('outcome', col('outcome').cast(DoubleType()))\n",
    "        output_df = output_df.drop('difficulty')\n",
    "        return output_df\n",
    "\n",
    "class FeatureTypeCaster(Transformer): # this transformer will cast the columns as appropriate types  \n",
    "    def __init__(self):\n",
    "        super().__init__()\n",
    "\n",
    "    def _transform(self, dataset):\n",
    "        output_df = dataset\n",
    "        for col_name in binary_cols + continuous_cols:\n",
    "            output_df = output_df.withColumn(col_name,col(col_name).cast(DoubleType()))\n",
    "\n",
    "        return output_df\n",
    "class ColumnDropper(Transformer): # this transformer drops unnecessary columns\n",
    "    def __init__(self, columns_to_drop = None):\n",
    "        super().__init__()\n",
    "        self.columns_to_drop=columns_to_drop\n",
    "    def _transform(self, dataset):\n",
    "        output_df = dataset\n",
    "        for col_name in self.columns_to_drop:\n",
    "            output_df = output_df.drop(col_name)\n",
    "        return output_df\n",
    "\n",
    "def get_preprocess_pipeline():\n",
    "    # Stage where columns are casted as appropriate types\n",
    "    stage_typecaster = FeatureTypeCaster()\n",
    "\n",
    "    # Stage where nominal columns are transformed to index columns using StringIndexer\n",
    "    nominal_id_cols = [x+\"_index\" for x in nominal_cols]\n",
    "    nominal_onehot_cols = [x+\"_encoded\" for x in nominal_cols]\n",
    "    stage_nominal_indexer = StringIndexer(inputCols = nominal_cols, outputCols = nominal_id_cols )\n",
    "\n",
    "    # Stage where the index columns are further transformed using OneHotEncoder\n",
    "    stage_nominal_onehot_encoder = OneHotEncoder(inputCols=nominal_id_cols, outputCols=nominal_onehot_cols)\n",
    "\n",
    "    # Stage where all relevant features are assembled into a vector (and dropping a few)\n",
    "    feature_cols = continuous_cols+binary_cols+nominal_onehot_cols\n",
    "    corelated_cols_to_remove = [\"dst_host_serror_rate\",\"srv_serror_rate\",\"dst_host_srv_serror_rate\",\n",
    "                     \"srv_rerror_rate\",\"dst_host_rerror_rate\",\"dst_host_srv_rerror_rate\"]\n",
    "    for col_name in corelated_cols_to_remove:\n",
    "        feature_cols.remove(col_name)\n",
    "    stage_vector_assembler = VectorAssembler(inputCols=feature_cols, outputCol=\"vectorized_features\")\n",
    "\n",
    "    # Stage where we scale the columns\n",
    "    stage_scaler = StandardScaler(inputCol= 'vectorized_features', outputCol= 'features')\n",
    "    \n",
    "\n",
    "    # Stage for creating the outcome column representing whether there is attack \n",
    "    stage_outcome = OutcomeCreater()\n",
    "\n",
    "    # Removing all unnecessary columbs, only keeping the 'features' and 'outcome' columns\n",
    "    stage_column_dropper = ColumnDropper(columns_to_drop = nominal_cols+nominal_id_cols+\n",
    "        nominal_onehot_cols+ binary_cols + continuous_cols + ['vectorized_features'])\n",
    "    # Connect the columns into a pipeline\n",
    "    pipeline = Pipeline(stages=[stage_typecaster,stage_nominal_indexer,stage_nominal_onehot_encoder,\n",
    "        stage_vector_assembler,stage_scaler,stage_outcome,stage_column_dropper])\n",
    "    return pipeline "
   ]
  },
  {
   "cell_type": "markdown",
   "metadata": {},
   "source": [
    "## 2.1 Load the training and test dataframe using the pipeline"
   ]
  },
  {
   "cell_type": "markdown",
   "metadata": {},
   "source": [
    "With the pipeline created, we now go ahead to load both the training and testing data set and process them use our pipeline. \n",
    "\n",
    "Note that when using the pipeline, we need to first fit it into a dataframe and then use it to transform dataframes. The fitting process is necessary as some stages, like the StandardScaler, need to know what is the mean and standard deviation that the Scaling operation would use - this must be infered from the training dataset. "
   ]
  },
  {
   "cell_type": "code",
   "execution_count": 5,
   "metadata": {},
   "outputs": [
    {
     "name": "stderr",
     "output_type": "stream",
     "text": [
      "24/09/25 15:48:56 WARN package: Truncated the string representation of a plan since it was too large. This behavior can be adjusted by setting 'spark.sql.debug.maxToStringFields'.\n"
     ]
    }
   ],
   "source": [
    "# if you installed Spark on windows, \n",
    "# you may need findspark and need to initialize it prior to being able to use pyspark\n",
    "# Also, you may need to initialize SparkContext yourself.\n",
    "# Uncomment the following lines if you are using Windows!\n",
    "#import findspark\n",
    "#findspark.init()\n",
    "#findspark.find()\n",
    "\n",
    "import os\n",
    "import sys\n",
    "\n",
    "# os.environ['PYSPARK_PYTHON'] = sys.executable\n",
    "# os.environ['PYSPARK_DRIVER_PYTHON'] = sys.executable\n",
    "\n",
    "spark = SparkSession.builder \\\n",
    "    .master(\"local[*]\") \\\n",
    "    .appName(\"SystemsToolChains\") \\\n",
    "    .getOrCreate()\n",
    "\n",
    "nslkdd_raw = spark.read.csv('KDDTrain+.txt',header=False).toDF(*col_names)\n",
    "nslkdd_test_raw = spark.read.csv('KDDTest+.txt',header=False).toDF(*col_names)\n",
    "\n",
    "preprocess_pipeline = get_preprocess_pipeline()\n",
    "preprocess_pipeline_model = preprocess_pipeline.fit(nslkdd_raw)\n",
    "\n",
    "nslkdd_df = preprocess_pipeline_model.transform(nslkdd_raw)\n",
    "nslkdd_df_test = preprocess_pipeline_model.transform(nslkdd_test_raw)\n",
    "\n"
   ]
  },
  {
   "cell_type": "code",
   "execution_count": 6,
   "metadata": {},
   "outputs": [
    {
     "name": "stdout",
     "output_type": "stream",
     "text": [
      "root\n",
      " |-- features: vector (nullable = true)\n",
      " |-- outcome: double (nullable = true)\n",
      "\n",
      "+--------------------+-------+\n",
      "|            features|outcome|\n",
      "+--------------------+-------+\n",
      "|(113,[1,13,14,17,...|    0.0|\n",
      "|(113,[1,13,14,17,...|    0.0|\n",
      "|(113,[13,14,15,17...|    1.0|\n",
      "|(113,[1,2,13,14,1...|    0.0|\n",
      "|(113,[1,2,13,14,1...|    0.0|\n",
      "|(113,[13,14,16,17...|    1.0|\n",
      "|(113,[13,14,15,17...|    1.0|\n",
      "|(113,[13,14,15,17...|    1.0|\n",
      "|(113,[13,14,15,17...|    1.0|\n",
      "|(113,[13,14,15,17...|    1.0|\n",
      "|(113,[13,14,16,17...|    1.0|\n",
      "|(113,[13,14,15,17...|    1.0|\n",
      "|(113,[1,2,13,14,1...|    0.0|\n",
      "|(113,[1,13,14,17,...|    1.0|\n",
      "|(113,[13,14,15,18...|    1.0|\n",
      "|(113,[13,14,15,17...|    1.0|\n",
      "|(113,[1,2,13,14,1...|    0.0|\n",
      "|(113,[1,13,14,17,...|    1.0|\n",
      "|(113,[1,2,13,14,1...|    0.0|\n",
      "|(113,[1,2,13,14,1...|    0.0|\n",
      "+--------------------+-------+\n",
      "only showing top 20 rows\n",
      "\n"
     ]
    }
   ],
   "source": [
    "nslkdd_df.printSchema()\n",
    "nslkdd_df.show()\n"
   ]
  },
  {
   "cell_type": "code",
   "execution_count": 7,
   "metadata": {},
   "outputs": [
    {
     "name": "stdout",
     "output_type": "stream",
     "text": [
      "root\n",
      " |-- features: vector (nullable = true)\n",
      " |-- outcome: double (nullable = true)\n",
      "\n",
      "+--------------------+-------+\n",
      "|            features|outcome|\n",
      "+--------------------+-------+\n",
      "|(113,[13,14,16,17...|    1.0|\n",
      "+--------------------+-------+\n",
      "only showing top 1 row\n",
      "\n"
     ]
    }
   ],
   "source": [
    "nslkdd_df_test.printSchema()\n",
    "nslkdd_df_test.show(1)"
   ]
  },
  {
   "cell_type": "markdown",
   "metadata": {},
   "source": [
    "# 2. Train (fit) Logistic Regression Model"
   ]
  },
  {
   "cell_type": "markdown",
   "metadata": {},
   "source": [
    "With the training data frame ready, the training process is quite straightforward. \n",
    "\n",
    "We first create a `LogisticRegression` instance (imported from `pyspark.ml.classification`) and specify what is the features (input) column name and what is the label (output) column name. Note that this `LogisticRegression` instance is the so-called `Estimator` class that is untrained yet. \n",
    "\n",
    "The next step is the actual training step, where we fit the `LogisticRegression` instance we just created to the `nslkdd_df`, the training data set. This can be done by the calling `fit(nslkdd_df)` method. Note that the `nslkdd_df` dataframe must contain the `features` and `outcome` column.  "
   ]
  },
  {
   "cell_type": "code",
   "execution_count": 8,
   "metadata": {},
   "outputs": [
    {
     "name": "stderr",
     "output_type": "stream",
     "text": [
      "24/09/25 15:50:06 WARN InstanceBuilder: Failed to load implementation from:dev.ludovic.netlib.blas.JNIBLAS\n"
     ]
    }
   ],
   "source": [
    "from pyspark.ml.classification import LogisticRegression\n",
    "\n",
    "lr = LogisticRegression(featuresCol = 'features', labelCol = 'outcome')\n",
    "\n",
    "lrModel = lr.fit(nslkdd_df) # fit the logistic regression model to the training dataset\n"
   ]
  },
  {
   "cell_type": "markdown",
   "metadata": {},
   "source": [
    "The result of the `fit` method is the `lrModel` instance, which is of the `LogisticsRegressionModel` class, which is a `Transformer`.  \n",
    "\n",
    "To use the `lrModel` on the test dataset, simply run `lrModel.transform(nslkdd_df_test)`, which will return a new dataframe that appends a few predictions-related columns to `nslkdd_df_test`. "
   ]
  },
  {
   "cell_type": "code",
   "execution_count": 9,
   "metadata": {},
   "outputs": [],
   "source": [
    "predictions = lrModel.transform(nslkdd_df_test)"
   ]
  },
  {
   "cell_type": "code",
   "execution_count": 10,
   "metadata": {},
   "outputs": [
    {
     "name": "stdout",
     "output_type": "stream",
     "text": [
      "root\n",
      " |-- features: vector (nullable = true)\n",
      " |-- outcome: double (nullable = true)\n",
      " |-- rawPrediction: vector (nullable = true)\n",
      " |-- probability: vector (nullable = true)\n",
      " |-- prediction: double (nullable = false)\n",
      "\n"
     ]
    }
   ],
   "source": [
    "predictions.printSchema()"
   ]
  },
  {
   "cell_type": "code",
   "execution_count": 11,
   "metadata": {},
   "outputs": [
    {
     "data": {
      "text/html": [
       "<div>\n",
       "<style scoped>\n",
       "    .dataframe tbody tr th:only-of-type {\n",
       "        vertical-align: middle;\n",
       "    }\n",
       "\n",
       "    .dataframe tbody tr th {\n",
       "        vertical-align: top;\n",
       "    }\n",
       "\n",
       "    .dataframe thead th {\n",
       "        text-align: right;\n",
       "    }\n",
       "</style>\n",
       "<table border=\"1\" class=\"dataframe\">\n",
       "  <thead>\n",
       "    <tr style=\"text-align: right;\">\n",
       "      <th></th>\n",
       "      <th>rawPrediction</th>\n",
       "      <th>probability</th>\n",
       "      <th>prediction</th>\n",
       "      <th>outcome</th>\n",
       "    </tr>\n",
       "  </thead>\n",
       "  <tbody>\n",
       "    <tr>\n",
       "      <th>0</th>\n",
       "      <td>[-8.500781186593438, 8.500781186593438]</td>\n",
       "      <td>[0.00020326815797158608, 0.9997967318420284]</td>\n",
       "      <td>1.0</td>\n",
       "      <td>1.0</td>\n",
       "    </tr>\n",
       "    <tr>\n",
       "      <th>1</th>\n",
       "      <td>[-6.9163820238184694, 6.9163820238184694]</td>\n",
       "      <td>[0.000990428437743053, 0.9990095715622569]</td>\n",
       "      <td>1.0</td>\n",
       "      <td>1.0</td>\n",
       "    </tr>\n",
       "    <tr>\n",
       "      <th>2</th>\n",
       "      <td>[3.443336001938169, -3.443336001938169]</td>\n",
       "      <td>[0.9690317833383768, 0.030968216661623194]</td>\n",
       "      <td>0.0</td>\n",
       "      <td>0.0</td>\n",
       "    </tr>\n",
       "    <tr>\n",
       "      <th>3</th>\n",
       "      <td>[-3.4163088398392034, 3.4163088398392034]</td>\n",
       "      <td>[0.031789642688086574, 0.9682103573119134]</td>\n",
       "      <td>1.0</td>\n",
       "      <td>1.0</td>\n",
       "    </tr>\n",
       "    <tr>\n",
       "      <th>4</th>\n",
       "      <td>[3.267368256806032, -3.267368256806032]</td>\n",
       "      <td>[0.9632922258406021, 0.036707774159397855]</td>\n",
       "      <td>0.0</td>\n",
       "      <td>1.0</td>\n",
       "    </tr>\n",
       "  </tbody>\n",
       "</table>\n",
       "</div>"
      ],
      "text/plain": [
       "                               rawPrediction  \\\n",
       "0    [-8.500781186593438, 8.500781186593438]   \n",
       "1  [-6.9163820238184694, 6.9163820238184694]   \n",
       "2    [3.443336001938169, -3.443336001938169]   \n",
       "3  [-3.4163088398392034, 3.4163088398392034]   \n",
       "4    [3.267368256806032, -3.267368256806032]   \n",
       "\n",
       "                                    probability  prediction  outcome  \n",
       "0  [0.00020326815797158608, 0.9997967318420284]         1.0      1.0  \n",
       "1    [0.000990428437743053, 0.9990095715622569]         1.0      1.0  \n",
       "2    [0.9690317833383768, 0.030968216661623194]         0.0      0.0  \n",
       "3    [0.031789642688086574, 0.9682103573119134]         1.0      1.0  \n",
       "4    [0.9632922258406021, 0.036707774159397855]         0.0      1.0  "
      ]
     },
     "execution_count": 11,
     "metadata": {},
     "output_type": "execute_result"
    }
   ],
   "source": [
    "predictions.select(\"rawPrediction\",\"probability\",\"prediction\",\"outcome\").toPandas().head()"
   ]
  },
  {
   "cell_type": "markdown",
   "metadata": {},
   "source": [
    "# 3. Evaluation of the trained model\n"
   ]
  },
  {
   "cell_type": "markdown",
   "metadata": {},
   "source": [
    "## 3.1 Train and test accuracy\n"
   ]
  },
  {
   "cell_type": "markdown",
   "metadata": {},
   "source": [
    "\n",
    "\n",
    "One of the most straightforward way for evaluation is accuracy, i.e. the percentage of records that our model correctly classifies. One should evaluate the accuracy on the test dataset, not the training data set, because the our model has already seen the training data set, and evaluating on the training dataset would be like \"cheating\". Generally speaking, the training accuracy can be high, and is not a good metric on the how good our model really is. \n",
    "\n",
    "For illustration purpose, we calculate both train and test accuracy. \n",
    "\n"
   ]
  },
  {
   "cell_type": "code",
   "execution_count": 12,
   "metadata": {},
   "outputs": [
    {
     "name": "stdout",
     "output_type": "stream",
     "text": [
      "Train Accuracy : 97.25%\n",
      "Test Accuracy : 75.39%\n"
     ]
    }
   ],
   "source": [
    "predictions_train = lrModel.transform(nslkdd_df)# predictions using the training dataset\n",
    "accuracy_train = (predictions_train.filter(predictions_train.outcome == predictions_train.prediction)\n",
    "    .count() / float(predictions_train.count()))\n",
    "\n",
    "accuracy_test = (predictions.filter(predictions.outcome == predictions.prediction)\n",
    "    .count() / float(predictions.count()))\n",
    "print(f\"Train Accuracy : {np.round(accuracy_train*100,2)}%\")\n",
    "print(f\"Test Accuracy : {np.round(accuracy_test*100,2)}%\")\n",
    "\n"
   ]
  },
  {
   "cell_type": "markdown",
   "metadata": {},
   "source": [
    "## 3.2 Confusion Matrix\n"
   ]
  },
  {
   "cell_type": "markdown",
   "metadata": {},
   "source": [
    "A more detailed analysis of the error is the so called confusion matrix. For each prediction, there are 4 scenarios:\n",
    "\n",
    "- True Positive (TP): The prediction is attack (positive) while the true label is attack (positive)\n",
    "- False Positive (FP): The prediction is attack (positive) while the true label is normal (negative)\n",
    "- True Negative (TN): The prediction is normal (negative) while the true label is normal (negative)\n",
    "- False Negative (FN): The prediction is normal (negative) while the true label is attack (positive)\n",
    "\n",
    "Confusion matrix is a visual illustration on how many records fall under the 4 categories above. "
   ]
  },
  {
   "cell_type": "code",
   "execution_count": 15,
   "metadata": {},
   "outputs": [],
   "source": [
    "import matplotlib.pyplot as plt\n",
    "import numpy as np\n",
    "from sklearn.metrics import confusion_matrix\n",
    "\n",
    "import itertools\n",
    "def plot_confusion_matrix(cm, classes,\n",
    "                          normalize=False,\n",
    "                          title='Confusion matrix',\n",
    "                          cmap=plt.cm.Blues):\n",
    "    \"\"\"\n",
    "    This function prints and plots the confusion matrix.\n",
    "    Normalization can be applied by setting `normalize=True`.\n",
    "    \"\"\"\n",
    "    if normalize:\n",
    "        cm = cm.astype('float') / cm.sum(axis=1)[:, np.newaxis]\n",
    "        print(\"Normalized confusion matrix\")\n",
    "    else:\n",
    "        print('Confusion matrix, without normalization')\n",
    "\n",
    "    print(cm)\n",
    "\n",
    "    plt.imshow(cm, interpolation='nearest', cmap=cmap)\n",
    "    plt.title(title)\n",
    "    plt.colorbar()\n",
    "    tick_marks = np.arange(len(classes))\n",
    "    plt.xticks(tick_marks, classes, rotation=45)\n",
    "    plt.yticks(tick_marks, classes)\n",
    "\n",
    "    fmt = '.2f' if normalize else 'd'\n",
    "    thresh = cm.max() / 2.\n",
    "    for i, j in itertools.product(range(cm.shape[0]), range(cm.shape[1])):\n",
    "        plt.text(j, i, format(cm[i, j], fmt),\n",
    "                 horizontalalignment=\"center\",\n",
    "                 color=\"white\" if cm[i, j] > thresh else \"black\")\n",
    "\n",
    "    plt.tight_layout()\n",
    "    plt.ylabel('True label')\n",
    "    plt.xlabel('Predicted label')"
   ]
  },
  {
   "cell_type": "code",
   "execution_count": 16,
   "metadata": {},
   "outputs": [
    {
     "name": "stdout",
     "output_type": "stream",
     "text": [
      "Confusion matrix, without normalization\n",
      "[[8988  723]\n",
      " [4824 8009]]\n"
     ]
    },
    {
     "data": {
      "image/png": "[encoded data removed]",
      "text/plain": [
       "<Figure size 640x480 with 2 Axes>"
      ]
     },
     "metadata": {},
     "output_type": "display_data"
    }
   ],
   "source": [
    "class_names=[0.0,1.0]\n",
    "class_names_str=[\"negative (normal)\",\"positive (attack)\"]\n",
    "\n",
    "outcome_true = predictions.select(\"outcome\")\n",
    "outcome_true = outcome_true.toPandas()\n",
    "\n",
    "pred = predictions.select(\"prediction\")\n",
    "pred = pred.toPandas()\n",
    "\n",
    "cnf_matrix = confusion_matrix(outcome_true, pred,labels=class_names)\n",
    "#cnf_matrix\n",
    "plt.figure()\n",
    "plot_confusion_matrix(cnf_matrix, classes=class_names_str,\n",
    "                      title='Confusion matrix')\n",
    "plt.show()"
   ]
  },
  {
   "cell_type": "markdown",
   "metadata": {},
   "source": [
    "## 3.3 ROC curve\n"
   ]
  },
  {
   "cell_type": "markdown",
   "metadata": {},
   "source": [
    "\n",
    "We have been using Logistic Regression with the default threshold of 0.5 (if probility of \"attack\" is larger than 0.5 then an \"attack\" is predicted; otherwise predict \"normal\"). \n",
    "\n",
    "However, in some cases, shifting this threshold upward or downward can help with reducing the number of false positives and/or false negatvies and therefore, improve the effectiveness of the model.\n",
    "\n",
    "If you try 10 different thresholds, you will get your 1s and 0s identified differently and you will need 10 different confusion matrices and therefore, it will become very difficult to track the effectivness of each option. So, what is the solution? Is there a simpler way to report False positives and False negatives for several thresholds in one graph?\n",
    "\n",
    "The answer is the **Receiver Operator Characteristic (ROC)** graph. ROC graphs provide a simple way to summarize all the confusion matrices for multiple thresholds on one graph.\n",
    "\n",
    "The ROC graph illustrates the True Positive Rate (Sensitivity) to the False Positive Rate (1-Specificty). \n",
    "<ul>\n",
    "<li>The <b>True Positive Rate</b> is defined as <b>True Positives / (True Positives + False Negatives)</b></li> <li>While the <b>False Positive Rate</b> is equal to: <b>False Positives / (False Positives + True Negatives)</b></li>\n",
    "    </ul>\n",
    "\n",
    "\n",
    "<b>The goal in ROC Graphs is try to find the threshold that provides the maximum true positive rate with the least possible false positive rate.</b> Let's plot it in Python.\n"
   ]
  },
  {
   "cell_type": "code",
   "execution_count": 17,
   "metadata": {},
   "outputs": [
    {
     "data": {
      "image/png": "[encoded data removed]",
      "text/plain": [
       "<Figure size 640x480 with 1 Axes>"
      ]
     },
     "metadata": {},
     "output_type": "display_data"
    }
   ],
   "source": [
    "from sklearn.metrics import roc_curve\n",
    "import pyspark.sql.functions as F\n",
    "import pyspark.sql.types as T\n",
    "import numpy\n",
    "\n",
    "pred_prob = predictions.select(\"probability\")\n",
    "to_array = F.udf(lambda v: v.toArray().tolist(), T.ArrayType(T.FloatType()))\n",
    "pred_prob = pred_prob.withColumn('probability', to_array('probability'))\n",
    "pred_prob = pred_prob.toPandas()\n",
    "pred_prob_nparray = np.array(pred_prob['probability'].values.tolist())\n",
    "\n",
    "fpr, tpr, thresholds = roc_curve(outcome_true, pred_prob_nparray[:,1])\n",
    "\n",
    "# plot the roc curve for the model\n",
    "plt.plot(fpr, tpr, linestyle='--', label='Logistic')\n",
    "plt.xlabel('False Positive Rate')\n",
    "plt.ylabel('True Positive Rate')\n",
    "plt.title('ROC Curve')\n",
    "plt.legend()\n",
    "plt.show()"
   ]
  },
  {
   "cell_type": "markdown",
   "metadata": {},
   "source": [
    "Now that you have a way to select the best logistic regression model threshold based on the ROC curve, how would you know if the ROC curve itself is good? Take a look at these ROCs. Which one is the best? \n",
    "\n",
    "\n",
    "<center><figure><img src=\"http://stat.cmu.edu/~mfarag/14810/l16/auc_for_roc.png\"/><figcaption>Results of different ROCs by Several ML Models</figcaption></figure></center>\n",
    "\n",
    "The way to quantify how good an ROC curve is is the **Area Under the Curve (AUC)**. The ML model that has a higher area under the curve is a better model. \n",
    "\n",
    "Let's compute the AUC for our model below. \n"
   ]
  },
  {
   "cell_type": "code",
   "execution_count": 18,
   "metadata": {},
   "outputs": [
    {
     "name": "stdout",
     "output_type": "stream",
     "text": [
      "Area under the curve is:  0.7938127500762046\n"
     ]
    }
   ],
   "source": [
    "from pyspark.ml.evaluation import BinaryClassificationEvaluator\n",
    "\n",
    "evaluator = BinaryClassificationEvaluator(rawPredictionCol='rawPrediction', \n",
    "    labelCol='outcome', metricName='areaUnderROC')\n",
    "print(\"Area under the curve is: \", evaluator.evaluate(predictions))\n"
   ]
  },
  {
   "cell_type": "code",
   "execution_count": null,
   "metadata": {},
   "outputs": [],
   "source": []
  }
 ],
 "metadata": {
  "kernelspec": {
   "display_name": "Python 3 (ipykernel)",
   "language": "python",
   "name": "python3"
  },
  "language_info": {
   "codemirror_mode": {
    "name": "ipython",
    "version": 3
   },
   "file_extension": ".py",
   "mimetype": "text/x-python",
   "name": "python",
   "nbconvert_exporter": "python",
   "pygments_lexer": "ipython3",
   "version": "3.12.5"
  },
  "vscode": {
   "interpreter": {
    "hash": "8276d678390595138ef1424ae828a970263a6f746980760e1cfd17345ae3e994"
   }
  }
 },
 "nbformat": 4,
 "nbformat_minor": 4
}
