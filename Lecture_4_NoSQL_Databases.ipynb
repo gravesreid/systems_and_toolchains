{
 "cells": [
  {
   "cell_type": "markdown",
   "metadata": {
    "slideshow": {
     "slide_type": "slide"
    }
   },
   "source": [
    "<center><h1>NoSQL Databases</h1></center>"
   ]
  },
  {
   "cell_type": "markdown",
   "metadata": {
    "slideshow": {
     "slide_type": "fragment"
    }
   },
   "source": [
    "Before we leave the topic of databases, let's talk about another type of databases; NoSQL databases. Nevertheless of today's discussion, we will continue to use PostgreSQL throughout this semester for academic reasons but keep your knowledge about NoSQL databases in mind for possible future opportunities."
   ]
  },
  {
   "cell_type": "markdown",
   "metadata": {
    "slideshow": {
     "slide_type": "slide"
    }
   },
   "source": [
    "<h2>Lecture Overview</h2>"
   ]
  },
  {
   "cell_type": "markdown",
   "metadata": {
    "slideshow": {
     "slide_type": "fragment"
    }
   },
   "source": [
    "<ul>\n",
    "<li>NoSQL Database History</li>\n",
    "<li>What are NoSQL Databases?</li>\n",
    "<li>Differences between NoSQL Databases and Relational Databases</li>\n",
    "<li>NoSQL Data Models</li>\n",
    "    <li>Run BigTable Locally via Docker</li>\n",
    "</ul>"
   ]
  },
  {
   "cell_type": "markdown",
   "metadata": {
    "slideshow": {
     "slide_type": "slide"
    }
   },
   "source": [
    "<h2>Why NoSQL Databases?</h2>"
   ]
  },
  {
   "cell_type": "markdown",
   "metadata": {
    "slideshow": {
     "slide_type": "fragment"
    }
   },
   "source": [
    "<b>1. Wouldn't be more efficient if you query semi-structured data without having to convert them into structured form?</b>"
   ]
  },
  {
   "cell_type": "markdown",
   "metadata": {
    "slideshow": {
     "slide_type": "fragment"
    }
   },
   "source": [
    "<b>2. Wouldn't be easier to store and query 1,000,000,000 of records without having to buy new database servers?</b>"
   ]
  },
  {
   "cell_type": "markdown",
   "metadata": {
    "slideshow": {
     "slide_type": "slide"
    }
   },
   "source": [
    "<h2>NoSQL History</h2>"
   ]
  },
  {
   "cell_type": "markdown",
   "metadata": {
    "slideshow": {
     "slide_type": "fragment"
    }
   },
   "source": [
    "<ul>\n",
    "<li>The NoSQL term was first widely used in the late 1990s to refer to open-source relational databases that scripts were used to interact with.</li> \n",
    "<li>The modern NoSQL term, referring to a non-relational database management system, started being used in 2009. There are some milestones in the history of NoSQL.</li> \n",
    "<li>In 1998, Carlo Strozzi used that term for the open-source database. In 2000, the Graph database Neo4J began with graph data-models coming in the table.</li> \n",
    "<li>In 2005, CouchDB project started as document data-store while in 2007, MongoDB, project began.</li>\n",
    "</ul>"
   ]
  },
  {
   "cell_type": "raw",
   "metadata": {
    "slideshow": {
     "slide_type": "notes"
    }
   },
   "source": [
    "<p style=\"page-break-after:always;\"></p>"
   ]
  },
  {
   "cell_type": "markdown",
   "metadata": {
    "slideshow": {
     "slide_type": "slide"
    }
   },
   "source": [
    "<h2>What is NoSQL Database/Store?</h2>"
   ]
  },
  {
   "cell_type": "markdown",
   "metadata": {
    "slideshow": {
     "slide_type": "fragment"
    }
   },
   "source": [
    "<ul>\n",
    "<li>There is no standard definition for NoSQL databases/stores. However, definitions boil down to one of two choices: \n",
    "    <ul>\n",
    "    <li>Some say it means Not Only SQL. In other words, you can use SQL, and some other non-SQL functionality, as well.</li>\n",
    "    <li>Other people say it simply means Not SQL.</li>\n",
    "    </ul>\n",
    "<li>At its heart, NoSQL is usually defined as something called <b>Polyglot</b> persistence. Polyglot persistence is defined as using different data stores, in different circumstances. In other words, we have lots of different data models we can work with, and we use different ones in different situations, even within the same solution.</li> \n",
    "<li>NoSQL is a much more flexible, or malleable structure, than relational database management systems.</li>\n",
    "</ul>"
   ]
  },
  {
   "cell_type": "markdown",
   "metadata": {
    "slideshow": {
     "slide_type": "slide"
    }
   },
   "source": [
    "<h2>NoSQL Features</h2>"
   ]
  },
  {
   "cell_type": "markdown",
   "metadata": {
    "slideshow": {
     "slide_type": "fragment"
    }
   },
   "source": [
    "A NoSQL Database contains one, or more, of the following features:\n",
    "<ul>\n",
    "    <li>Non-relational</li>\n",
    "    <li>Distributed</li>\n",
    "    <li>Open-source</li>\n",
    "    <li>horizontally scalable.</li> \n",
    "</ul>\n",
    "\n",
    "Although some people call relational databases as SQL databases, NoSQL databases are <b>NOT</b> the opposite of relational databases. <b>The general theme of NoSQL databases/stores is favoring performance over full consistency.</b>"
   ]
  },
  {
   "cell_type": "markdown",
   "metadata": {
    "slideshow": {
     "slide_type": "slide"
    }
   },
   "source": [
    "<h2>Issues with Relational Databases (e.g. PostgreSQL)</h2>"
   ]
  },
  {
   "cell_type": "markdown",
   "metadata": {
    "slideshow": {
     "slide_type": "fragment"
    }
   },
   "source": [
    "There are two major issues with relational databases; \n",
    "<ul><li>They are not designed to scale (scale-up or scale-out) </li>\n",
    "    <li>They are expensive when used at corporate scale (e.g. Oracle, SQL Server, etc.). </li>\n",
    "</ul>\n",
    "    On the other hand, NoSQL databases/stores are designed for scalability and can handle semi-structured data nicely"
   ]
  },
  {
   "cell_type": "raw",
   "metadata": {
    "slideshow": {
     "slide_type": "notes"
    }
   },
   "source": [
    "<p style=\"page-break-after:always;\"></p>"
   ]
  },
  {
   "cell_type": "markdown",
   "metadata": {
    "slideshow": {
     "slide_type": "slide"
    }
   },
   "source": [
    "<h3>How do NoSQL databases/stores differ from relational databases?</h3>"
   ]
  },
  {
   "cell_type": "markdown",
   "metadata": {
    "slideshow": {
     "slide_type": "fragment"
    }
   },
   "source": [
    "1. NoSQL databases/stores scale-up and scale-out easily since they are not based on the relational data model. There is no standard NoSQL model but the most common ones are <b>document stores, graph stores, column stores, and key-value stores</b>."
   ]
  },
  {
   "cell_type": "markdown",
   "metadata": {
    "slideshow": {
     "slide_type": "slide"
    }
   },
   "source": [
    "2. NoSQL has no schema and often uses aggregates, which increases flexibility."
   ]
  },
  {
   "cell_type": "markdown",
   "metadata": {
    "slideshow": {
     "slide_type": "fragment"
    }
   },
   "source": [
    "3. Most NoSQL solutions are open-source, and are designed to optimize performance rather than consistency."
   ]
  },
  {
   "cell_type": "markdown",
   "metadata": {
    "slideshow": {
     "slide_type": "slide"
    }
   },
   "source": [
    "4. NoSQL databases/stores don't <b>fully</b> support <b>ACID</b> (Atomic, Consistent, Isolated, and Durable) semantics. As mentioned in our first lecture, relational databases support <b>ACID</b> semantics. SQL statements are executed in chunks, called transactions. <ul><li>A transaction is <i>atomic</i> if all of the work in a transaction completes or commits, or none of it completes.</li><li>A transaction is <i>consistent</i> if it transforms the database from one consistent state to another consistent state.</li><li>A transaction is <i>isolated</i> if the results of any changes made during a transaction are not visible until the transaction has committed.</li><li>A transaction is <i>durable</i> if the results of a committed transaction survive failures.</li></ul>"
   ]
  },
  {
   "cell_type": "markdown",
   "metadata": {
    "slideshow": {
     "slide_type": "slide"
    }
   },
   "source": [
    "<h3>SQL Database Consistency</h3>"
   ]
  },
  {
   "cell_type": "markdown",
   "metadata": {
    "slideshow": {
     "slide_type": "fragment"
    }
   },
   "source": [
    "<center><img src=\"https://www.andrew.cmu.edu/user/mfarag/static/strong_consistency.png\"/></center>"
   ]
  },
  {
   "cell_type": "raw",
   "metadata": {
    "slideshow": {
     "slide_type": "notes"
    }
   },
   "source": [
    "<p style=\"page-break-after:always;\"></p>"
   ]
  },
  {
   "cell_type": "markdown",
   "metadata": {
    "slideshow": {
     "slide_type": "slide"
    }
   },
   "source": [
    "The majority of NoSQL databases/stores don't support full consistency. Rather, they support <i>eventual consistency</i>. To be clearer, With NoSQL, <b>inserts and updates are asynchronous.</b> Changes may not be immediately propagated to all nodes and there are no real-time updates. When reading about NoSQL stores, you will see a reference for <b>BASE</b> semantics (instead of ACID). <b>BASE</b> stands for <i>Basically Available, Soft State, and Eventually Consistent.</i> We will talk about BASE semantics later in this lecture."
   ]
  },
  {
   "cell_type": "markdown",
   "metadata": {
    "slideshow": {
     "slide_type": "slide"
    }
   },
   "source": [
    "<h3>BASE Transactions</h3>"
   ]
  },
  {
   "cell_type": "markdown",
   "metadata": {
    "slideshow": {
     "slide_type": "fragment"
    }
   },
   "source": [
    "BASE stands for <b>Basically Available, Soft State, and Eventually Consistent.</b>"
   ]
  },
  {
   "cell_type": "markdown",
   "metadata": {
    "slideshow": {
     "slide_type": "slide"
    }
   },
   "source": [
    "<b>Basically Available</b> data is available on multiple nodes due to data replication. It ensures availability even with multiple failures. Take a distributed system that is composed of multiple machines (or nodes). If one node goes down, we can keep working with the other nodes. So, basically available means the data's available even with multiple failures. I can have more than one node go down, and the data's still available. The only way this can be accomplished is by <b>data replication</b> by duplicating the data across multiple nodes."
   ]
  },
  {
   "cell_type": "markdown",
   "metadata": {
    "slideshow": {
     "slide_type": "slide"
    }
   },
   "source": [
    "<b>Soft state</b> means that I may have 20 nodes, and I may have made a change to one node and that change might not have reached all of the other 19 yet. In other words you, as a data scientist, will have to devise some methodology whereby, when you interact with a specific node of a NoSQL data store, that you're aware of the fact that you might be dealing with stale data.\n"
   ]
  },
  {
   "cell_type": "markdown",
   "metadata": {
    "slideshow": {
     "slide_type": "slide"
    }
   },
   "source": [
    "<b>Eventual consistency</b>. With NoSQL, consistency is not always current. With data propagation, all nodes will contain all data eventually. In other words, if we're going to grab data, we hope it's the most consistent. This means that the query results could be approximate and may not be exact."
   ]
  },
  {
   "cell_type": "raw",
   "metadata": {
    "slideshow": {
     "slide_type": "notes"
    }
   },
   "source": [
    "<p style=\"page-break-after:always;\"></p>"
   ]
  },
  {
   "cell_type": "markdown",
   "metadata": {
    "slideshow": {
     "slide_type": "slide"
    }
   },
   "source": [
    "<h3>Eventual Consistency in Action</h3>"
   ]
  },
  {
   "cell_type": "markdown",
   "metadata": {
    "slideshow": {
     "slide_type": "fragment"
    }
   },
   "source": [
    "<center><img src=\"https://www.andrew.cmu.edu/user/mfarag/static/eventual_consistency.png\"/></center>"
   ]
  },
  {
   "cell_type": "markdown",
   "metadata": {
    "slideshow": {
     "slide_type": "slide"
    }
   },
   "source": [
    "<center><img src=\"https://www.andrew.cmu.edu/user/mfarag/static/base_vs_acid.png\"/></center>"
   ]
  },
  {
   "cell_type": "markdown",
   "metadata": {
    "slideshow": {
     "slide_type": "slide"
    }
   },
   "source": [
    "Now that we talked about some of the differences between relational and NoSQL stores, let's discuss the best applications for NoSQL databases."
   ]
  },
  {
   "cell_type": "raw",
   "metadata": {
    "slideshow": {
     "slide_type": "notes"
    }
   },
   "source": [
    "<p style=\"page-break-after:always;\"></p>"
   ]
  },
  {
   "cell_type": "markdown",
   "metadata": {
    "slideshow": {
     "slide_type": "slide"
    }
   },
   "source": [
    "<h2>When to consider using NoSQL database (NoSQL Store)?</h2>"
   ]
  },
  {
   "cell_type": "markdown",
   "metadata": {
    "slideshow": {
     "slide_type": "slide"
    }
   },
   "source": [
    "<ul><li>NoSQL is suitable for big data, for use in distributed environments such as clusters or clouds, and for data analytics. As of now, anything well in excess of a terabyte or two of data, is usually considered big data. So, if you have a set of data you're working with that's likely to exceed 1 or 2 TB, then it's probably considered big data and NoSQL might be a really good solution for that.</li><li>NoSQL is appropriate when the emphasis is more on querying your data rather than inserting/updating your data. In this case, you may give full consistency up for high-performance queries.</li></ul>"
   ]
  },
  {
   "cell_type": "markdown",
   "metadata": {
    "slideshow": {
     "slide_type": "slide"
    }
   },
   "source": [
    "<ul><li>NoSQL is appropriate if it's acceptable for data to be de-normalized and schema-less, and if the data has a simple structure and low volatility.</li></ul>"
   ]
  },
  {
   "cell_type": "markdown",
   "metadata": {
    "slideshow": {
     "slide_type": "slide"
    }
   },
   "source": [
    "<div style=\"background-color:AliceBlue\"><b>Exercise:</b> Can you think of your course projects that could be implemented using NoSQL store? and two others that relational database management system is the best fit for them?</div>"
   ]
  },
  {
   "cell_type": "markdown",
   "metadata": {
    "slideshow": {
     "slide_type": "slide"
    }
   },
   "source": [
    "At this point, you should have a good theoritical foundation about the basic concepts associated with NoSQL stores. Now, let's explore some common models of NoSQL stores."
   ]
  },
  {
   "cell_type": "raw",
   "metadata": {
    "slideshow": {
     "slide_type": "notes"
    }
   },
   "source": [
    "<p style=\"page-break-after:always;\"></p>"
   ]
  },
  {
   "cell_type": "markdown",
   "metadata": {
    "slideshow": {
     "slide_type": "slide"
    }
   },
   "source": [
    "<h1>Common NoSQL Data Models</h1>"
   ]
  },
  {
   "cell_type": "markdown",
   "metadata": {
    "slideshow": {
     "slide_type": "fragment"
    }
   },
   "source": [
    "The flexibility of NoSQL stores is associated with their various data models. You may combine multiple data models in one NoSQL solution. Common NoSQL data models include column-data, document-based, graph-based, and key-value data models. "
   ]
  },
  {
   "cell_type": "markdown",
   "metadata": {
    "slideshow": {
     "slide_type": "slide"
    }
   },
   "source": [
    "<h2>1. Column-based Data Model</h2>"
   ]
  },
  {
   "cell_type": "markdown",
   "metadata": {
    "slideshow": {
     "slide_type": "fragment"
    }
   },
   "source": [
    "Think about a scenario where you have different measurements for each obersvation in your experiment. If you were to represent this in relational model, you would have to create your dataset into tabular model with irrelevant measurements populated as <b>N/A</b> for corresponding observations. Take a look at the following figures."
   ]
  },
  {
   "cell_type": "markdown",
   "metadata": {
    "slideshow": {
     "slide_type": "slide"
    }
   },
   "source": [
    "<center><img src=\"http://stat.cmu.edu/~mfarag/652/lectures/l8/column-data-model.png\"/></center>"
   ]
  },
  {
   "cell_type": "raw",
   "metadata": {
    "slideshow": {
     "slide_type": "notes"
    }
   },
   "source": [
    "<p style=\"page-break-after:always;\"></p>"
   ]
  },
  {
   "cell_type": "markdown",
   "metadata": {
    "slideshow": {
     "slide_type": "slide"
    }
   },
   "source": [
    "In column-data model, each column is essentially an aggregate of various values. Now because of that, each row does not have to have the same number of columns or even the same column types. <br/>\n",
    "\n",
    "For example, I might have a situation where I'm storing employee data. <b>The first row or the first employee might have an aggregate that includes LinkedIn address. The second employee doesn't have a LinkedIn page so we don't even bother to add that value type to that particular row so that column won't have an aggregate for LinkedIn.</b>"
   ]
  },
  {
   "cell_type": "markdown",
   "metadata": {
    "slideshow": {
     "slide_type": "slide"
    }
   },
   "source": [
    "<b>Examples of data stores that use column-based model include: Accumulo, Cassandra, Druid, Hbase, and BigTable.</b> "
   ]
  },
  {
   "cell_type": "markdown",
   "metadata": {
    "slideshow": {
     "slide_type": "slide"
    }
   },
   "source": [
    "<div style=\"background-color:AliceBlue\">Now, if you look at our NSL-KDD dataset, it's structured dataset and the number of records is manageable so NoSQL won't be best solution for it. So, let's take another example where you have employee information. You have DOB for some of them while others you have only the HomeTown. In this case, you would represent it as column-data model in the following manner: </div>"
   ]
  },
  {
   "cell_type": "markdown",
   "metadata": {
    "slideshow": {
     "slide_type": "slide"
    }
   },
   "source": [
    "<img src=\"http://stat.cmu.edu/~mfarag/652/lectures/l8/column-example.png\"/>"
   ]
  },
  {
   "cell_type": "markdown",
   "metadata": {
    "slideshow": {
     "slide_type": "slide"
    }
   },
   "source": [
    "<div style=\"background-color:AliceBlue\">Creating these records in hbase is as simple as specifying them directly in your insert statement.</div>"
   ]
  },
  {
   "cell_type": "markdown",
   "metadata": {
    "slideshow": {
     "slide_type": "fragment"
    }
   },
   "source": [
    "<img src=\"http://stat.cmu.edu/~mfarag/652/lectures/l8/hbase.png\"/>"
   ]
  },
  {
   "cell_type": "raw",
   "metadata": {
    "slideshow": {
     "slide_type": "notes"
    }
   },
   "source": [
    "<p style=\"page-break-after:always;\"></p>"
   ]
  },
  {
   "cell_type": "markdown",
   "metadata": {
    "slideshow": {
     "slide_type": "slide"
    }
   },
   "source": [
    "<h2>2. Document-based Data Model</h2>"
   ]
  },
  {
   "cell_type": "markdown",
   "metadata": {
    "slideshow": {
     "slide_type": "fragment"
    }
   },
   "source": [
    "A document store actually has some sort of <b>document</b>."
   ]
  },
  {
   "cell_type": "markdown",
   "metadata": {
    "slideshow": {
     "slide_type": "slide"
    }
   },
   "source": [
    "<ul>\n",
    "<li>A document data store could use <b>any document type</b>: PDF, .DOC, HTML, or XML. They can also be data formats, like JSON and BSON. JSON is one of the more common used in document data stores because it so readily integrates with various programming environments so that it's easy to interact with the document.</li>\n",
    "<li><b>For example, if your document data store depends on XML documents, then literally it stores XML files</b>. In addition, the particular implementation may extract metadata about that document and store that as well. </li>\n",
    "<li>Documents have to be addressed in data store via some <b>unique key</b> that represents that document. It can be a string, it can be almost anything, but a common mechanism is a <b>URL</b> that actually points to where the document is at. You will be able to interact with the files via <b>API</b> that each data store provides.</li>\n",
    "</ul>"
   ]
  },
  {
   "cell_type": "markdown",
   "metadata": {
    "slideshow": {
     "slide_type": "slide"
    }
   },
   "source": [
    "Document data stores can help you save effort in creating tables by creating this mongodb insertion that creates towns object and associate it with its mayor and famous sightseeings"
   ]
  },
  {
   "cell_type": "markdown",
   "metadata": {
    "slideshow": {
     "slide_type": "fragment"
    }
   },
   "source": [
    "<img src=\"http://stat.cmu.edu/~mfarag/652/lectures/l8/mongodb.png\"/>"
   ]
  },
  {
   "cell_type": "raw",
   "metadata": {
    "slideshow": {
     "slide_type": "notes"
    }
   },
   "source": [
    "<p style=\"page-break-after:always;\"></p>"
   ]
  },
  {
   "cell_type": "markdown",
   "metadata": {
    "slideshow": {
     "slide_type": "slide"
    }
   },
   "source": [
    "<h3>If we were to store the data from the previous example in a SQL database, we would have needed 3 different tables:<h3>"
   ]
  },
  {
   "cell_type": "markdown",
   "metadata": {
    "slideshow": {
     "slide_type": "fragment"
    }
   },
   "source": [
    "<center><img src=\"http://stat.cmu.edu/~mfarag/652/lectures/l8/mongodb_structured.png\"/></center>"
   ]
  },
  {
   "cell_type": "markdown",
   "metadata": {
    "slideshow": {
     "slide_type": "slide"
    }
   },
   "source": [
    "<b>Examples of document data stores include MongoDB and CouchDB.</b>"
   ]
  },
  {
   "cell_type": "raw",
   "metadata": {
    "slideshow": {
     "slide_type": "notes"
    }
   },
   "source": [
    "<p style=\"page-break-after:always;\"></p>"
   ]
  },
  {
   "cell_type": "markdown",
   "metadata": {
    "slideshow": {
     "slide_type": "slide"
    }
   },
   "source": [
    "<h2>3. Graph-based Data Model</h2>"
   ]
  },
  {
   "cell_type": "markdown",
   "metadata": {
    "slideshow": {
     "slide_type": "fragment"
    }
   },
   "source": [
    "<ul>\n",
    "    <li>Graph-based data models are inspired by the mathematical concept of graph theory.</li> \n",
    "    <li>A <b>node</b> is some sort of entity, something in your database/store. For example, if I have an employee database/store, a specific employee would be a node.</li>\n",
    "    <li>How do these nodes connect to each other? I have lots of employees, how does one employee connect to another? Is employee A, a subordinate of employee B, a supervisor of employee B, or a colleague of employee B? These connections are little lines drawn on a graph.</li>\n",
    "</ul>"
   ]
  },
  {
   "cell_type": "markdown",
   "metadata": {
    "slideshow": {
     "slide_type": "slide"
    }
   },
   "source": [
    "<div style=\"background-color:AliceBlue\">In PostgreSQL (or any other RDBMS), think about a scenario where you would like to simulate the relationship between employees and their supervisors. You would have had to build a complex model that leverages reflexive (or recursive) relationship like this:</div>"
   ]
  },
  {
   "cell_type": "markdown",
   "metadata": {
    "slideshow": {
     "slide_type": "fragment"
    }
   },
   "source": [
    "<center><img src=\"http://stat.cmu.edu/~mfarag/652/lectures/l8/recursive.png\"/></center>"
   ]
  },
  {
   "cell_type": "markdown",
   "metadata": {
    "slideshow": {
     "slide_type": "slide"
    }
   },
   "source": [
    "<div style=\"background-color:AliceBlue\">Now, you could have represented this in graph-based model in much simpler way. Look at the following example:</div>"
   ]
  },
  {
   "cell_type": "markdown",
   "metadata": {
    "slideshow": {
     "slide_type": "fragment"
    }
   },
   "source": [
    "<center><img src=\"http://stat.cmu.edu/~mfarag/652/lectures/l8/graph.png\"/></center>"
   ]
  },
  {
   "cell_type": "raw",
   "metadata": {
    "slideshow": {
     "slide_type": "notes"
    }
   },
   "source": [
    "<p style=\"page-break-after:always;\"></p>"
   ]
  },
  {
   "cell_type": "markdown",
   "metadata": {
    "slideshow": {
     "slide_type": "slide"
    }
   },
   "source": [
    "<h3><div style=\"background-color:AliceBlue\">The previous graph can be implemented in Neo4J using the following script:</div></h3>"
   ]
  },
  {
   "cell_type": "markdown",
   "metadata": {
    "slideshow": {
     "slide_type": "fragment"
    }
   },
   "source": [
    "<img src=\"http://stat.cmu.edu/~mfarag/652/lectures/l8/graph-implementation.png\"/>"
   ]
  },
  {
   "cell_type": "markdown",
   "metadata": {
    "slideshow": {
     "slide_type": "slide"
    }
   },
   "source": [
    "<b>Examples of NoSQL stores that use the graph-based model are Neo4j, FlockDB, Pregel, InfoGrid, and HypergraphDB.</b>"
   ]
  },
  {
   "cell_type": "raw",
   "metadata": {
    "slideshow": {
     "slide_type": "notes"
    }
   },
   "source": [
    "<p style=\"page-break-after:always;\"></p>"
   ]
  },
  {
   "cell_type": "markdown",
   "metadata": {
    "slideshow": {
     "slide_type": "slide"
    }
   },
   "source": [
    "<h2>4. Key-Value Data Model</h2>"
   ]
  },
  {
   "cell_type": "markdown",
   "metadata": {
    "slideshow": {
     "slide_type": "fragment"
    }
   },
   "source": [
    "A key-value data store is simply a hash table where we connect values to a key. It uses an associative array, also known as a map or a dictionary, to connect these keys to the values and each key-value appears, at most, once in a data set.  <br/><b>There are a lot of examples out there including DynamoDB, BerkleyDB, BigTable, and Riak.</b>"
   ]
  },
  {
   "cell_type": "markdown",
   "metadata": {
    "slideshow": {
     "slide_type": "slide"
    }
   },
   "source": [
    "<h3>Example of a Key-Value Store</h3>"
   ]
  },
  {
   "cell_type": "markdown",
   "metadata": {
    "slideshow": {
     "slide_type": "fragment"
    }
   },
   "source": [
    "<center><img src=\"http://stat.cmu.edu/~mfarag/652/lectures/l10/duolingo.png\"/></center>"
   ]
  },
  {
   "cell_type": "raw",
   "metadata": {
    "slideshow": {
     "slide_type": "notes"
    }
   },
   "source": [
    "<p style=\"page-break-after:always;\"></p>"
   ]
  },
  {
   "cell_type": "markdown",
   "metadata": {
    "slideshow": {
     "slide_type": "slide"
    }
   },
   "source": [
    "<center><img src=\"https://www.andrew.cmu.edu/user/mfarag/static/sql_vs_noSQL.png\"/></center>"
   ]
  },
  {
   "cell_type": "markdown",
   "metadata": {
    "slideshow": {
     "slide_type": "slide"
    }
   },
   "source": [
    "<b>In the next lecture, we will talk about Neo4J AuraDB and Google BigTable</b>"
   ]
  },
  {
   "cell_type": "raw",
   "metadata": {
    "slideshow": {
     "slide_type": "notes"
    }
   },
   "source": [
    "<p style=\"page-break-after:always;\"></p>"
   ]
  },
  {
   "cell_type": "markdown",
   "metadata": {
    "slideshow": {
     "slide_type": "slide"
    }
   },
   "source": [
    "<h2><div style=\"background-color:AliceBlue\"><b>Excerise:</b> Install Docker to use Google BigTable.</div></h2>"
   ]
  },
  {
   "cell_type": "markdown",
   "metadata": {
    "slideshow": {
     "slide_type": "slide"
    }
   },
   "source": [
    "<b>What is Docker? and Why?</b>"
   ]
  },
  {
   "cell_type": "markdown",
   "metadata": {
    "slideshow": {
     "slide_type": "fragment"
    }
   },
   "source": [
    "<center><img src=\"http://stat.cmu.edu/~mfarag/652/lectures/l8/why-docker.png\"/></center>"
   ]
  },
  {
   "cell_type": "markdown",
   "metadata": {
    "slideshow": {
     "slide_type": "fragment"
    }
   },
   "source": [
    "You can also explore thousands of applications that you can use via Docker containers rather than installing them on your machine from Docker Hub. Access Docker Hub repositories from <a href=\"https://hub.docker.com/search?q=&type=image\"/>here</a>. "
   ]
  },
  {
   "cell_type": "raw",
   "metadata": {
    "slideshow": {
     "slide_type": "notes"
    }
   },
   "source": [
    "<p style=\"page-break-after:always;\"></p>"
   ]
  },
  {
   "cell_type": "markdown",
   "metadata": {
    "slideshow": {
     "slide_type": "slide"
    }
   },
   "source": [
    "<h2>Run BigTable Locally via Docker</h2>"
   ]
  },
  {
   "cell_type": "markdown",
   "metadata": {
    "slideshow": {
     "slide_type": "fragment"
    }
   },
   "source": [
    "You can run a BigTable emulator Locally. To do so, you need to pull Google Cloud SDK Container and run it. More information can be found <a href=\"https://hub.docker.com/r/google/cloud-sdk\">here</a>\n",
    "\n",
    "<ul>\n",
    "    <li>Set the <b>BIGTABLE_EMULATOR_HOST</b> environment variable to <b>localhost:8086</b>. More information can be found on <a href=\"https://cloud.google.com/bigtable/docs/emulator\">https://cloud.google.com/bigtable/docs/emulator</a></li>\n",
    "    <li>Run the docker pull command for the image: <b>docker pull google/cloud-sdk</b></li>\n",
    "    <li>Execute the docker run command: <b>docker run -p 127.0.0.1:8086:8086 --rm -ti google/cloud-sdk gcloud beta emulators bigtable start --host-port=0.0.0.0:8086</b></li>\n",
    "    <li>In your terminal, run <b>docker container ls</b> or check your docker desktop to see if the container is running</li>\n",
    "</ul>"
   ]
  },
  {
   "cell_type": "markdown",
   "metadata": {
    "slideshow": {
     "slide_type": "slide"
    }
   },
   "source": [
    "<h2>Install Required Packages</h2>"
   ]
  },
  {
   "cell_type": "code",
   "execution_count": null,
   "metadata": {
    "slideshow": {
     "slide_type": "fragment"
    }
   },
   "outputs": [],
   "source": [
    "!pip install google-cloud-bigtable\n",
    "!pip install google-cloud-happybase"
   ]
  },
  {
   "cell_type": "markdown",
   "metadata": {
    "slideshow": {
     "slide_type": "slide"
    }
   },
   "source": [
    "&#9432; Note that you will have to create free account on Docker Hub in order to be able to create custom Docker images - if interested-."
   ]
  },
  {
   "cell_type": "markdown",
   "metadata": {
    "slideshow": {
     "slide_type": "slide"
    }
   },
   "source": [
    "<h2>Readings</h2>\n",
    "<ul>\n",
    "<li>Graph DB vs RDBMS, published on Canvas</li>\n",
    "<li>Application of Graph DB, published on Canvas</li>\n",
    "</ul>"
   ]
  }
 ],
 "metadata": {
  "celltoolbar": "Slideshow",
  "kernelspec": {
   "display_name": "Python 3 (ipykernel)",
   "language": "python",
   "name": "python3"
  },
  "language_info": {
   "codemirror_mode": {
    "name": "ipython",
    "version": 3
   },
   "file_extension": ".py",
   "mimetype": "text/x-python",
   "name": "python",
   "nbconvert_exporter": "python",
   "pygments_lexer": "ipython3",
   "version": "3.9.17"
  }
 },
 "nbformat": 4,
 "nbformat_minor": 4
}
