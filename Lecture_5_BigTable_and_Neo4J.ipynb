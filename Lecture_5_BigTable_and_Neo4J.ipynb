{
 "cells": [
  {
   "cell_type": "markdown",
   "metadata": {
    "slideshow": {
     "slide_type": "slide"
    }
   },
   "source": [
    "<center><h1>NoSQL Database Labs: BigTable and Neo4J</h1></center>"
   ]
  },
  {
   "cell_type": "markdown",
   "metadata": {
    "slideshow": {
     "slide_type": "slide"
    }
   },
   "source": [
    "<h2>Overview</h2>"
   ]
  },
  {
   "cell_type": "markdown",
   "metadata": {
    "slideshow": {
     "slide_type": "fragment"
    }
   },
   "source": [
    "<ul>\n",
    "    <li>What is BigTable?</li>\n",
    "    <li>BigTable Storage Model</li>\n",
    "    <li>Cloud Execution</li>\n",
    "    <li>Neo4J</li>\n",
    "    <li>Neo4J on the Cloud</li>\n",
    "    <li>Cypher Scripts</li>\n",
    "    <li>Neo4J in Python</li>\n",
    "    <li>Readings</li>\n",
    "</ul>"
   ]
  },
  {
   "cell_type": "markdown",
   "metadata": {
    "slideshow": {
     "slide_type": "slide"
    }
   },
   "source": [
    "<h1>Reminder: SQL vs. NoSQL Performance at SELECT Queries</h1>"
   ]
  },
  {
   "cell_type": "markdown",
   "metadata": {
    "slideshow": {
     "slide_type": "fragment"
    }
   },
   "source": [
    "<center><figure><img src=\"https://www.andrew.cmu.edu/user/mfarag/static/sql_no_sql_performance.png\"/><figcaption>Database Comparison from Profil website, accessible from <a href=\"https://profil-software.com/blog/development/database-comparison-sql-vs-nosql-mysql-vs-postgresql-vs-redis-vs-mongodb/\">here</a></figcaption></figure></center>"
   ]
  },
  {
   "cell_type": "raw",
   "metadata": {
    "slideshow": {
     "slide_type": "notes"
    }
   },
   "source": [
    "<p style=\"page-break-after:always;\"></p>"
   ]
  },
  {
   "cell_type": "markdown",
   "metadata": {
    "slideshow": {
     "slide_type": "slide"
    }
   },
   "source": [
    "<h1>MongoDB does not have the best performance!</h1>"
   ]
  },
  {
   "cell_type": "markdown",
   "metadata": {
    "slideshow": {
     "slide_type": "fragment"
    }
   },
   "source": [
    "<center><figure><img src=\"https://www.andrew.cmu.edu/user/mfarag/static/no_sql_performance.jpg\"/><figcaption>NoSQL DB Comparison, featured in the details of this <a href=\"https://www.techniajz.com/blog-detail/comparison-between-databases-hbase-cassandra-and-mongodb\">article</a></figcaption></figure></center>"
   ]
  },
  {
   "cell_type": "markdown",
   "metadata": {
    "slideshow": {
     "slide_type": "slide"
    }
   },
   "source": [
    "<h1>BigTable</h1>"
   ]
  },
  {
   "cell_type": "markdown",
   "metadata": {
    "slideshow": {
     "slide_type": "fragment"
    }
   },
   "source": [
    "<ul>\n",
    "    <li>Bigtable is engineered to handle structured data at a vast scale, managing petabytes across thousands of servers for high-demand applications</li>\n",
    "    <li>Bigtable supports diverse workloads from high-throughput batch processing to real-time, latency-sensitive data serving. This includes 60+ Google products such as Google Analytics and Google Earth</li>\n",
    "    <li>Bigtable clusters vary in size, from a few to thousands of servers, efficiently managing hundreds of terabytes of data to meet the unique needs of each Google service.</li>\n",
    "</ul>"
   ]
  },
  {
   "cell_type": "raw",
   "metadata": {
    "slideshow": {
     "slide_type": "notes"
    }
   },
   "source": [
    "<p style=\"page-break-after:always;\"></p>"
   ]
  },
  {
   "cell_type": "markdown",
   "metadata": {
    "slideshow": {
     "slide_type": "slide"
    }
   },
   "source": [
    "<h2>BigTable Performance Statistics</h2>"
   ]
  },
  {
   "cell_type": "markdown",
   "metadata": {
    "slideshow": {
     "slide_type": "fragment"
    }
   },
   "source": [
    "<center><figure><img src=\"https://www.andrew.cmu.edu/user/mfarag/static/bigtable_performance.jpg\"/><figcaption>BigTable Performance on 8 vCPU Machine, accessible from <a href=\"https://cloudplatform.googleblog.com/2015/05/introducing-Google-Cloud-Bigtable.html\">here</a></figcaption></figure></center>"
   ]
  },
  {
   "cell_type": "markdown",
   "metadata": {
    "slideshow": {
     "slide_type": "slide"
    }
   },
   "source": [
    "<h3>Important Notes</h3>\n",
    "<ul>\n",
    "    <li>Bigtable is suitable for tables with sparse data.</li> \n",
    "    <li>if a column is not used in a particular row, it does not take up any space.</li>\n",
    "</ul>\n"
   ]
  },
  {
   "cell_type": "markdown",
   "metadata": {
    "slideshow": {
     "slide_type": "slide"
    }
   },
   "source": [
    "<h2>BigTable Storage Model</h2>"
   ]
  },
  {
   "cell_type": "markdown",
   "metadata": {
    "slideshow": {
     "slide_type": "fragment"
    }
   },
   "source": [
    "<ul>\n",
    "    <li>Bigtable stores data in massively scalable tables</li> \n",
    "    <li>Each table is a sorted key/value map.</li>\n",
    "    <li>The table is composed of rows, each of which typically describes a single entity, and columns, which contain individual values for each row.</li>\n",
    "    <li>Each row is indexed by a single row key, and columns that are related to one another are typically grouped into a column family.</li>\n",
    "    <li>Each column is identified by a combination of the column family and a column qualifier, which is a unique name within the column family.</li>\n",
    "    </ul>"
   ]
  },
  {
   "cell_type": "markdown",
   "metadata": {
    "slideshow": {
     "slide_type": "slide"
    }
   },
   "source": [
    "<ul>\n",
    "<li>Each row/column intersection can contain multiple cells.</li>\n",
    "    <li>Each cell contains a unique timestamped version of the data for that row and column.</li>\n",
    "        <li>Storing multiple cells in a column provides a record of how the stored data for that row and column have changed over time.</li>\n",
    "    </ul>"
   ]
  },
  {
   "cell_type": "markdown",
   "metadata": {
    "slideshow": {
     "slide_type": "fragment"
    }
   },
   "source": [
    "<center><img src=\"https://www.andrew.cmu.edu/user/mfarag/static/bigtable-model.png\"/></center>"
   ]
  },
  {
   "cell_type": "markdown",
   "metadata": {
    "slideshow": {
     "slide_type": "slide"
    }
   },
   "source": [
    "<h2>BigTable Performance Statistics</h2>"
   ]
  },
  {
   "cell_type": "markdown",
   "metadata": {
    "slideshow": {
     "slide_type": "fragment"
    }
   },
   "source": [
    "<center><figure><img src=\"https://www.andrew.cmu.edu/user/mfarag/static/bigtable_performance.jpg\"/><figcaption>BigTable Performance on 8 vCPU Machine, accessible from <a href=\"https://cloudplatform.googleblog.com/2015/05/introducing-Google-Cloud-Bigtable.html\">here</a></figcaption></figure></center>"
   ]
  },
  {
   "cell_type": "markdown",
   "metadata": {
    "slideshow": {
     "slide_type": "slide"
    }
   },
   "source": [
    "<h2>Run BigTable Locally via Docker</h2>"
   ]
  },
  {
   "cell_type": "markdown",
   "metadata": {
    "slideshow": {
     "slide_type": "fragment"
    }
   },
   "source": [
    "You can run a BigTable emulator Locally. To do so, you need to pull Google Cloud SDK Container and run it. More information can be found <a href=\"https://hub.docker.com/r/google/cloud-sdk\">here</a>\n",
    "\n",
    "<ul>\n",
    "    <li>Set the <b>BIGTABLE_EMULATOR_HOST</b> environment variable to <b>localhost:8086</b>. More information can be found on <a href=\"https://cloud.google.com/bigtable/docs/emulator\">https://cloud.google.com/bigtable/docs/emulator</a></li>\n",
    "    <li>Run the docker pull command for the image: <b>docker pull google/cloud-sdk</b></li>\n",
    "    <li>Execute the docker run command: <b>docker run -p 127.0.0.1:8086:8086 --rm -ti google/cloud-sdk gcloud beta emulators bigtable start --host-port=0.0.0.0:8086</b></li>\n",
    "    <li>In your terminal, run <b>docker container ls</b> or check your docker desktop to see if the container is running</li>\n",
    "</ul>"
   ]
  },
  {
   "cell_type": "markdown",
   "metadata": {
    "slideshow": {
     "slide_type": "slide"
    }
   },
   "source": [
    "<h3>Install Required Packages</h3>"
   ]
  },
  {
   "cell_type": "code",
   "execution_count": null,
   "metadata": {
    "slideshow": {
     "slide_type": "fragment"
    }
   },
   "outputs": [],
   "source": [
    "!pip install google-cloud-bigtable\n",
    "!pip install google-cloud-happybase"
   ]
  },
  {
   "cell_type": "raw",
   "metadata": {
    "slideshow": {
     "slide_type": "notes"
    }
   },
   "source": [
    "<p style=\"page-break-after:always;\"></p>"
   ]
  },
  {
   "cell_type": "markdown",
   "metadata": {
    "slideshow": {
     "slide_type": "slide"
    }
   },
   "source": [
    "<h3>Initialize the Application</h3>"
   ]
  },
  {
   "cell_type": "code",
   "execution_count": 1,
   "metadata": {
    "slideshow": {
     "slide_type": "fragment"
    }
   },
   "outputs": [],
   "source": [
    "from google.cloud import bigtable\n",
    "from google.cloud import happybase\n",
    "from google.cloud.bigtable import column_family\n",
    "\n",
    "#Populate project_id and instance_id if you are running on the cloud\n",
    "project_id = \"cmu-class\"\n",
    "instance_id = \"toolchains\"\n",
    "\n",
    "client = bigtable.Client(project=project_id, admin=True)\n",
    "instance = client.instance(instance_id)\n"
   ]
  },
  {
   "cell_type": "markdown",
   "metadata": {
    "slideshow": {
     "slide_type": "slide"
    }
   },
   "source": [
    "<h3>Create Tables</h3>"
   ]
  },
  {
   "cell_type": "code",
   "execution_count": null,
   "metadata": {
    "slideshow": {
     "slide_type": "fragment"
    }
   },
   "outputs": [],
   "source": [
    "table_id = 'test'\n",
    "print(\"Creating the {} table.\".format(table_id))\n",
    "table = instance.table(table_id)\n",
    "\n",
    "print(\"Creating column family cf1 with Max Version GC rule...\")\n",
    "# Create a column family with GC policy : most recent N versions\n",
    "# Define the GC policy to retain only the most recent 2 versions\n",
    "max_versions_rule = column_family.MaxVersionsGCRule(2)\n",
    "column_family_id = \"cf1\"\n",
    "column_families = {column_family_id: max_versions_rule}\n",
    "if not table.exists():\n",
    "    table.create(column_families=column_families)\n",
    "else:\n",
    "    print(\"Table {} already exists.\".format(table_id))\n"
   ]
  },
  {
   "cell_type": "markdown",
   "metadata": {
    "slideshow": {
     "slide_type": "slide"
    }
   },
   "source": [
    "<h3>Insert Rows into Tables</h3>"
   ]
  },
  {
   "cell_type": "code",
   "execution_count": 16,
   "metadata": {
    "slideshow": {
     "slide_type": "fragment"
    }
   },
   "outputs": [
    {
     "name": "stdout",
     "output_type": "stream",
     "text": [
      "Writing some greetings to the table.\n"
     ]
    },
    {
     "data": {
      "text/plain": [
       "[, , ]"
      ]
     },
     "execution_count": 16,
     "metadata": {},
     "output_type": "execute_result"
    }
   ],
   "source": [
    "import datetime\n",
    "\n",
    "print(\"Writing some greetings to the table.\")\n",
    "greetings = [\"Hello World!\", \"Hello Cloud Bigtable!\", \"Hello Python!\"]\n",
    "rows = []\n",
    "column = \"greeting\".encode()\n",
    "for i, value in enumerate(greetings):\n",
    "    # Note: This example uses sequential numeric IDs for simplicity,\n",
    "    # but this can result in poor performance in a production\n",
    "    # application.  Since rows are stored in sorted order by key,\n",
    "    # sequential keys can result in poor distribution of operations\n",
    "    # across nodes.\n",
    "    #\n",
    "    # For more information about how to design a Bigtable schema for\n",
    "    # the best performance, see the documentation:\n",
    "    #\n",
    "    #     https://cloud.google.com/bigtable/docs/schema-design\n",
    "    row_key = \"greeting{}\".format(i).encode()\n",
    "    row = table.direct_row(row_key)\n",
    "    row.set_cell(\n",
    "        column_family_id, column, value, timestamp=datetime.datetime.utcnow()\n",
    "    )\n",
    "    rows.append(row)\n",
    "table.mutate_rows(rows)"
   ]
  },
  {
   "cell_type": "raw",
   "metadata": {
    "slideshow": {
     "slide_type": "notes"
    }
   },
   "source": [
    "<p style=\"page-break-after:always;\"></p>"
   ]
  },
  {
   "cell_type": "markdown",
   "metadata": {
    "slideshow": {
     "slide_type": "slide"
    }
   },
   "source": [
    "<h3>Retrieve All Rows in BigTable Table!</h3>"
   ]
  },
  {
   "cell_type": "code",
   "execution_count": 17,
   "metadata": {
    "slideshow": {
     "slide_type": "fragment"
    }
   },
   "outputs": [
    {
     "name": "stdout",
     "output_type": "stream",
     "text": [
      "Scanning for all greetings:\n",
      "Hello World!\n",
      "Hello Cloud Bigtable!\n",
      "Hello Python!\n"
     ]
    }
   ],
   "source": [
    "print(\"Scanning for all greetings:\")\n",
    "partial_rows = table.read_rows()\n",
    "\n",
    "for row in partial_rows:\n",
    "    cell = row.cells[column_family_id][column][0]\n",
    "    print(cell.value.decode(\"utf-8\"))"
   ]
  },
  {
   "cell_type": "markdown",
   "metadata": {
    "slideshow": {
     "slide_type": "slide"
    }
   },
   "source": [
    "<h3>Delete Tables</h3>"
   ]
  },
  {
   "cell_type": "code",
   "execution_count": 18,
   "metadata": {
    "slideshow": {
     "slide_type": "fragment"
    }
   },
   "outputs": [
    {
     "name": "stdout",
     "output_type": "stream",
     "text": [
      "Deleting the test table.\n"
     ]
    }
   ],
   "source": [
    "print(\"Deleting the {} table.\".format(table_id))\n",
    "table.delete()"
   ]
  },
  {
   "cell_type": "markdown",
   "metadata": {
    "slideshow": {
     "slide_type": "slide"
    }
   },
   "source": [
    "<h2>Take Home Excercise</h2>"
   ]
  },
  {
   "cell_type": "markdown",
   "metadata": {
    "slideshow": {
     "slide_type": "fragment"
    }
   },
   "source": [
    "<h3>Read the Example for More Inforamtion <a href=\"https://cloud.google.com/bigtable/docs/samples-python-hello\">https://cloud.google.com/bigtable/docs/samples-python-hello</a></h3>"
   ]
  },
  {
   "cell_type": "markdown",
   "metadata": {
    "slideshow": {
     "slide_type": "slide"
    }
   },
   "source": [
    "<h2>BigTable Cloud Execution</h2>"
   ]
  },
  {
   "cell_type": "markdown",
   "metadata": {
    "slideshow": {
     "slide_type": "fragment"
    }
   },
   "source": [
    "To create Google BigTable instance on GCP, conduct the following activities:\n",
    "<ul>\n",
    "<li>1. Download and Configure Google Cloud SDK from this URL: <a href=\"https://cloud.google.com/sdk/docs/install\">https://cloud.google.com/sdk/docs/install</a></li>\n",
    "<li>2. Enable the Billing on Your GCP Account</li>\n",
    "<li>3. Ensure you have a project created</li>\n",
    "<li>4. Enable the BigTable API and Create a BigTable Instance from <a href=\"https://console.cloud.google.com/bigtable/instances\">https://console.cloud.google.com/bigtable/instances</a></li>\n",
    " <li>5. Update your project ID and Instance ID in the code.</li>\n",
    "     </ul>"
   ]
  },
  {
   "cell_type": "markdown",
   "metadata": {
    "slideshow": {
     "slide_type": "slide"
    }
   },
   "source": [
    "<h3>If authorization is not configured on your local machine, generate Key JSON file for Your Service Account from GCP and Add it at the same folder next to your Jupyter Notebook. Delete your BIGTABLE_EMULATOR_HOST variable and restart your Jupyter terminal before running the following snippet</h3>"
   ]
  },
  {
   "cell_type": "code",
   "execution_count": 3,
   "metadata": {
    "slideshow": {
     "slide_type": "fragment"
    }
   },
   "outputs": [],
   "source": [
    "import os\n",
    "#Use the correct filename\n",
    "os.environ[\"GOOGLE_APPLICATION_CREDENTIALS\"] = \"./cmu-class.json\""
   ]
  },
  {
   "cell_type": "raw",
   "metadata": {
    "slideshow": {
     "slide_type": "notes"
    }
   },
   "source": [
    "<p style=\"page-break-after:always;\"></p>"
   ]
  },
  {
   "cell_type": "markdown",
   "metadata": {
    "slideshow": {
     "slide_type": "slide"
    }
   },
   "source": [
    "<h1>Graph Databases</h1>"
   ]
  },
  {
   "cell_type": "markdown",
   "metadata": {
    "slideshow": {
     "slide_type": "slide"
    }
   },
   "source": [
    "<h2>Why Graph Databases/Stores?!</h2>"
   ]
  },
  {
   "cell_type": "markdown",
   "metadata": {
    "slideshow": {
     "slide_type": "fragment"
    }
   },
   "source": [
    "<ul>\n",
    "<li>Graph databases/Stores naturally represent entities and relationships, reducing <b>impedance mismatch</b> compared to relational databases.</li>\n",
    "<li>Graph DBs  align closely with how applications and humans view data, making it easier to model real-world domains.</li>\n",
    "<li>No need for complex joins to reconstruct relationships, improving performance and simplicity.</li>\n",
    "</ul>"
   ]
  },
  {
   "cell_type": "markdown",
   "metadata": {
    "slideshow": {
     "slide_type": "slide"
    }
   },
   "source": [
    "<h2>Graph DB Use Cases</h2>"
   ]
  },
  {
   "cell_type": "markdown",
   "metadata": {
    "slideshow": {
     "slide_type": "fragment"
    }
   },
   "source": [
    "<ul>\n",
    "<li>Cybercrime Networks: Graph databases map relationships in cybercrime activity, supporting investigators in analyzing attack patterns and identifying threats.</li>\n",
    "<li>Recommendation Engines: Graph databases excel in constructing recommendation systems by modeling intricate relationships between users, products, and preferences. This facilitates the discovery of complex patterns, such as \"customers who purchased X also tend to purchase Y,\" enabling more refined and personalized recommendations.</li>\n",
    "<li>Fraud Detection: By mapping and analyzing the complex web of relationships between transactions, accounts, and entities, graph databases can detect sophisticated fraud patterns.</li>\n",
    "</ul>"
   ]
  },
  {
   "cell_type": "markdown",
   "metadata": {
    "slideshow": {
     "slide_type": "slide"
    }
   },
   "source": [
    "<h1>Neo4J</h1>"
   ]
  },
  {
   "cell_type": "markdown",
   "metadata": {
    "slideshow": {
     "slide_type": "fragment"
    }
   },
   "source": [
    "<ul>\n",
    "<li>Founded in 2000.</li>\n",
    "<li>Available in open-source and commercial editions.</li>\n",
    "<li>Highly scalable.</li>\n",
    "<li>Uses a powerful query lanaguage named Cypher which aids in traversing graphs smoothly.</li>\n",
    "</ul>"
   ]
  },
  {
   "cell_type": "raw",
   "metadata": {
    "slideshow": {
     "slide_type": "notes"
    }
   },
   "source": [
    "<p style=\"page-break-after:always;\"></p>"
   ]
  },
  {
   "cell_type": "markdown",
   "metadata": {
    "slideshow": {
     "slide_type": "slide"
    }
   },
   "source": [
    "<h2>Neo4J Performance Statistics</h2>"
   ]
  },
  {
   "cell_type": "markdown",
   "metadata": {
    "slideshow": {
     "slide_type": "fragment"
    }
   },
   "source": [
    "<center><figure><img src=\"https://www.andrew.cmu.edu/user/mfarag/static/neo4j_oracle_performance_comparison.png\"/><figcaption>Oracle vs. Neo4J Query Performance for Finding all of a plant's ancestors at Monsanto, accessible from <a href=\"https://neo4j.com/blog/oracle-rdbms-neo4j-fully-sync-data/\">here</a></figcaption></figure></center>"
   ]
  },
  {
   "cell_type": "markdown",
   "metadata": {
    "slideshow": {
     "slide_type": "slide"
    }
   },
   "source": [
    "<h2>Neo4J on the Cloud</h2>\n",
    "We will use AuraDB which offers Free Tier option"
   ]
  },
  {
   "cell_type": "markdown",
   "metadata": {
    "slideshow": {
     "slide_type": "fragment"
    }
   },
   "source": [
    "<ul>\n",
    "    <li>Register for a new Neo4J account via this URL: <a href=\"https://neo4j.com/product/auradb/\">https://neo4j.com/product/auradb/</a></li>\n",
    "<li>Verify Your Email. Upon verifying your email (on the same tab of email verification), navigate to the console page, accept the privacy policy, and sign up for a free tier.</li>\n",
    "<li>Download the Instance Password as a text file to your machine.</li>\n",
    "<li>Open the Instance.</li>\n",
    "<li>Click Connect (and save the connection URI).</li>\n",
    "</ul>"
   ]
  },
  {
   "cell_type": "markdown",
   "metadata": {
    "slideshow": {
     "slide_type": "slide"
    }
   },
   "source": [
    "<h2>Cypher</h2>"
   ]
  },
  {
   "cell_type": "markdown",
   "metadata": {
    "slideshow": {
     "slide_type": "fragment"
    }
   },
   "source": [
    "<ul>\n",
    "<li>Cypher streamlines querying by focusing on what to retrieve or create, abstracting the how for seamless interaction with the graph.</li>\n",
    "<li>Cypher uses intuitive symbols—parentheses for nodes and arrows for relationships—offering a clear, visual representation of graph structures</li>\n",
    "    <li>Check Cypher documentation <a href=\"https://neo4j.com/docs/cypher-manual/current/introduction/\">here</a></li>\n",
    "</ul>"
   ]
  },
  {
   "cell_type": "raw",
   "metadata": {
    "slideshow": {
     "slide_type": "notes"
    }
   },
   "source": [
    "<p style=\"page-break-after:always;\"></p>"
   ]
  },
  {
   "cell_type": "markdown",
   "metadata": {
    "slideshow": {
     "slide_type": "slide"
    }
   },
   "source": [
    "<h3>Example: Track Inter-relationships between Select Persons</h3>"
   ]
  },
  {
   "cell_type": "markdown",
   "metadata": {
    "slideshow": {
     "slide_type": "fragment"
    }
   },
   "source": [
    "<center><figure><img src=\"https://www.andrew.cmu.edu/user/mfarag/static/graph_example.png\"/><figcaption>Graph diagram for the target entities and inter-relationships</figcaption></figure></center>"
   ]
  },
  {
   "cell_type": "markdown",
   "metadata": {
    "slideshow": {
     "slide_type": "slide"
    }
   },
   "source": [
    "<h3>Create a new Graph</h3>"
   ]
  },
  {
   "cell_type": "code",
   "execution_count": null,
   "metadata": {
    "slideshow": {
     "slide_type": "fragment"
    }
   },
   "outputs": [],
   "source": [
    "CREATE (einstein:Person {name: \"Albert Einstein\", birthYear: 1879, famousFor: \"Physics\"}),\n",
    "       (bohr:Person {name: \"Niels Bohr\", birthYear: 1885, famousFor: \"QuantumMechanics\"}),\n",
    "       (heisenberg:Person {name: \"Werner Heisenberg\", birthYear: 1901}),\n",
    "       (shchrodinger:Person {name: \"Erwin Schrodinger\", birthYear: 1887}),\n",
    "       (curie:Person {name: \"Marie Curie\", birthYear: 1867, famousFor: \"Radiation\"}),\n",
    "\n",
    "       (einstein)-[:COLLABORATED_WITH {domain:\"QuantumMechanics\"}]-> (bohr),\n",
    "       (bohr)-[:MENTORED]-> (heisenberg),\n",
    "       (heisenberg)-[:COLLABORATED_WITH]-> (shchrodinger),\n",
    "       (shchrodinger)-[:AWARDED_LIKE]-> (curie);"
   ]
  },
  {
   "cell_type": "markdown",
   "metadata": {
    "slideshow": {
     "slide_type": "slide"
    }
   },
   "source": [
    "<h3>Display All Nodes in a Graph</h3>"
   ]
  },
  {
   "cell_type": "code",
   "execution_count": null,
   "metadata": {
    "slideshow": {
     "slide_type": "fragment"
    }
   },
   "outputs": [],
   "source": [
    "MATCH (n)\n",
    "RETURN n;"
   ]
  },
  {
   "cell_type": "markdown",
   "metadata": {
    "slideshow": {
     "slide_type": "slide"
    }
   },
   "source": [
    "<h3>Filter by the Existence of an Attribute</h3>\n",
    "Display Famous Persons"
   ]
  },
  {
   "cell_type": "code",
   "execution_count": null,
   "metadata": {
    "slideshow": {
     "slide_type": "fragment"
    }
   },
   "outputs": [],
   "source": [
    "MATCH (n:Person)\n",
    "WHERE (n.famousFor IS NOT NULL)\n",
    "RETURN n;"
   ]
  },
  {
   "cell_type": "raw",
   "metadata": {
    "slideshow": {
     "slide_type": "notes"
    }
   },
   "source": [
    "<p style=\"page-break-after:always;\"></p>"
   ]
  },
  {
   "cell_type": "markdown",
   "metadata": {
    "slideshow": {
     "slide_type": "slide"
    }
   },
   "source": [
    "<h3>Retrieve an Attribute for a Matching Node</h3>\n",
    "Find The Birth Year for Albert Einstein"
   ]
  },
  {
   "cell_type": "code",
   "execution_count": null,
   "metadata": {
    "slideshow": {
     "slide_type": "fragment"
    }
   },
   "outputs": [],
   "source": [
    "MATCH (n:Person {name: \"Albert Einstein\"})\n",
    "RETURN n.birthYear;"
   ]
  },
  {
   "cell_type": "markdown",
   "metadata": {
    "slideshow": {
     "slide_type": "slide"
    }
   },
   "source": [
    "<h3>Find the Nodes with a Specific Relationship</h3>\n",
    "Find all the mentors in our Graph"
   ]
  },
  {
   "cell_type": "code",
   "execution_count": null,
   "metadata": {
    "slideshow": {
     "slide_type": "fragment"
    }
   },
   "outputs": [],
   "source": [
    "MATCH (n:Person) -[:MENTORED]-> (m:Person)\n",
    "Return n"
   ]
  },
  {
   "cell_type": "markdown",
   "metadata": {
    "slideshow": {
     "slide_type": "slide"
    }
   },
   "source": [
    "<h3>Filter Nodes Based on Relationship Attributes</h3>\n",
    "Find all the collaborators in the Quantum Mechanics Domain"
   ]
  },
  {
   "cell_type": "code",
   "execution_count": null,
   "metadata": {
    "slideshow": {
     "slide_type": "fragment"
    }
   },
   "outputs": [],
   "source": [
    "MATCH (n:Person) -[collaboration:COLLABORATED_WITH]-> (m:Person)\n",
    "WHERE collaboration.domain = \"QuantumMechanics\"\n",
    "Return n,m"
   ]
  },
  {
   "cell_type": "markdown",
   "metadata": {
    "slideshow": {
     "slide_type": "slide"
    }
   },
   "source": [
    "<h3>Insert a new Relationship in a Graph</h3>\n",
    "Add New Relationships between Curie and Einstein"
   ]
  },
  {
   "cell_type": "code",
   "execution_count": null,
   "metadata": {
    "slideshow": {
     "slide_type": "fragment"
    }
   },
   "outputs": [],
   "source": [
    "MATCH (n1:Person {name: \"Marie Curie\"}), (n2:Person {name: \"Albert Einstein\"})\n",
    "CREATE (n1)-[:AWARDED_LIKE]->(n2);"
   ]
  },
  {
   "cell_type": "markdown",
   "metadata": {
    "slideshow": {
     "slide_type": "slide"
    }
   },
   "source": [
    "<h3>Delete all the Nodes in a Graph</h3>"
   ]
  },
  {
   "cell_type": "code",
   "execution_count": null,
   "metadata": {},
   "outputs": [],
   "source": [
    "MATCH (n)\n",
    "DETACH DELETE n;"
   ]
  },
  {
   "cell_type": "raw",
   "metadata": {
    "slideshow": {
     "slide_type": "notes"
    }
   },
   "source": [
    "<p style=\"page-break-after:always;\"></p>"
   ]
  },
  {
   "cell_type": "markdown",
   "metadata": {
    "slideshow": {
     "slide_type": "slide"
    }
   },
   "source": [
    "<h2>Neo4J in Python</h2>\n",
    "Install Dependencies"
   ]
  },
  {
   "cell_type": "code",
   "execution_count": null,
   "metadata": {
    "slideshow": {
     "slide_type": "fragment"
    }
   },
   "outputs": [],
   "source": [
    "!pip install neo4j"
   ]
  },
  {
   "cell_type": "code",
   "execution_count": 5,
   "metadata": {
    "slideshow": {
     "slide_type": "slide"
    }
   },
   "outputs": [],
   "source": [
    "from neo4j import GraphDatabase\n",
    "\n",
    "class Neo4JConnection:\n",
    "    def __init__(self, uri, user, password):\n",
    "        \"\"\"Initialize the Neo4j connection with URI, username, and password.\"\"\"\n",
    "        self.driver = GraphDatabase.driver(uri, auth=(user, password))\n",
    "\n",
    "    def close(self):\n",
    "        \"\"\"Close the Neo4j connection.\"\"\"\n",
    "        if self.driver:\n",
    "            self.driver.close()\n",
    "\n",
    "    def execute_query(self, query, parameters=None):\n",
    "        \"\"\"Execute a Cypher query and return the result.\"\"\"\n",
    "        with self.driver.session() as session:\n",
    "            result = session.run(query, parameters)\n",
    "            return result.data()"
   ]
  },
  {
   "cell_type": "code",
   "execution_count": 6,
   "metadata": {
    "slideshow": {
     "slide_type": "slide"
    }
   },
   "outputs": [],
   "source": [
    "# Function to create nodes and relationships as per Query 1\n",
    "def create_nodes_and_relationships(connection):\n",
    "    query = \"\"\"\n",
    "    CREATE (einstein:Person {name: \"Albert Einstein\", birthYear: 1879, famousFor: \"Physics\"}),\n",
    "           (bohr:Person {name: \"Niels Bohr\", birthYear: 1885, famousFor: \"QuantumMechanics\"}),\n",
    "           (heisenberg:Person {name: \"Werner Heisenberg\", birthYear: 1901}),\n",
    "           (shchrodinger:Person {name: \"Erwin Schrodinger\", birthYear: 1887}),\n",
    "           (curie:Person {name: \"Marie Curie\", birthYear: 1867, famousFor: \"Radiation\"}),\n",
    "           \n",
    "           (einstein)-[:COLLABORATED_WITH {domain:\"QuantumMechanics\"}]-> (bohr),\n",
    "           (bohr)-[:MENTORED]-> (heisenberg),\n",
    "           (heisenberg)-[:COLLABORATED_WITH]-> (shchrodinger),\n",
    "           (shchrodinger)-[:AWARDED_LIKE]-> (curie);\n",
    "    \"\"\"\n",
    "    connection.execute_query(query)\n",
    "    print(\"Nodes and relationships created.\")\n",
    "\n",
    "\n"
   ]
  },
  {
   "cell_type": "code",
   "execution_count": 7,
   "metadata": {
    "slideshow": {
     "slide_type": "slide"
    }
   },
   "outputs": [],
   "source": [
    "# Function for adding a new relationship between Marie Curie and Albert Einstein\n",
    "def add_awarded_like_relationship(connection):\n",
    "    query = \"\"\"\n",
    "    MATCH (n1:Person {name: \"Marie Curie\"}), (n2:Person {name: \"Albert Einstein\"})\n",
    "    CREATE (n1)-[:AWARDED_LIKE]->(n2);\n",
    "    \"\"\"\n",
    "    connection.execute_query(query)\n",
    "    print(\"AWARDED_LIKE relationship created between Marie Curie and Albert Einstein.\")\n"
   ]
  },
  {
   "cell_type": "raw",
   "metadata": {
    "slideshow": {
     "slide_type": "notes"
    }
   },
   "source": [
    "<p style=\"page-break-after:always;\"></p>"
   ]
  },
  {
   "cell_type": "code",
   "execution_count": 8,
   "metadata": {
    "slideshow": {
     "slide_type": "fragment"
    }
   },
   "outputs": [],
   "source": [
    "# Function for returning people who mentored others\n",
    "def get_mentors(connection):\n",
    "    query = \"\"\"\n",
    "    MATCH (n:Person) -[:MENTORED]-> (m:Person)\n",
    "    RETURN n;\n",
    "    \"\"\"\n",
    "    result = connection.execute_query(query)\n",
    "    for record in result:\n",
    "        print(record)\n",
    "\n"
   ]
  },
  {
   "cell_type": "code",
   "execution_count": 9,
   "metadata": {
    "slideshow": {
     "slide_type": "slide"
    }
   },
   "outputs": [],
   "source": [
    "# Function for deleting all nodes\n",
    "def delete_all_nodes(connection):\n",
    "    query = \"\"\"\n",
    "    MATCH (n)\n",
    "    DETACH DELETE n;\n",
    "    \"\"\"\n",
    "    connection.execute_query(query)\n",
    "    print(\"All nodes deleted.\")"
   ]
  },
  {
   "cell_type": "code",
   "execution_count": 10,
   "metadata": {
    "slideshow": {
     "slide_type": "slide"
    }
   },
   "outputs": [
    {
     "name": "stdout",
     "output_type": "stream",
     "text": [
      "All nodes deleted.\n",
      "Nodes and relationships created.\n",
      "AWARDED_LIKE relationship created between Marie Curie and Albert Einstein.\n",
      "{'n': {'famousFor': 'QuantumMechanics', 'birthYear': 1885, 'name': 'Niels Bohr'}}\n",
      "All nodes deleted.\n"
     ]
    }
   ],
   "source": [
    "def main():\n",
    "    # Replace with your actual Neo4j AuraDB credentials\n",
    "    uri = \"neo4j+s://a3349088.databases.neo4j.io\"\n",
    "    user = \"neo4j\"\n",
    "    password = \"DNmGymR3u9A9Z95wu0-739aoziP8Qqb5i-r-7apmAM4\"\n",
    "\n",
    "    # Initialize Neo4j connection\n",
    "    neo4j_conn = Neo4JConnection(uri, user, password)\n",
    "\n",
    "    try:\n",
    "        # Execute the queries\n",
    "        delete_all_nodes(neo4j_conn)\n",
    "        create_nodes_and_relationships(neo4j_conn)\n",
    "        add_awarded_like_relationship(neo4j_conn)\n",
    "        get_mentors(neo4j_conn)\n",
    "        delete_all_nodes(neo4j_conn)\n",
    "    finally:\n",
    "        # Close the connection when done\n",
    "        neo4j_conn.close()\n",
    "\n",
    "\n",
    "if __name__ == \"__main__\":\n",
    "    main()"
   ]
  },
  {
   "cell_type": "markdown",
   "metadata": {
    "slideshow": {
     "slide_type": "slide"
    }
   },
   "source": [
    "<h2>Readings</h2>"
   ]
  },
  {
   "cell_type": "markdown",
   "metadata": {
    "slideshow": {
     "slide_type": "fragment"
    }
   },
   "source": [
    "<ul>\n",
    "<li>Usefule Tools for Neo4J: <a href=\"https://neo4j.com/docs/tools/\">https://neo4j.com/docs/tools/</a></li>\n",
    "    <li>More on Creating Nodes from <a href=\"https://www.tutorialspoint.com/neo4j/neo4j_cql_creating_nodes.htm\">here</a></li>\n",
    "</ul>"
   ]
  }
 ],
 "metadata": {
  "celltoolbar": "Slideshow",
  "kernelspec": {
   "display_name": "Python 3 (ipykernel)",
   "language": "python",
   "name": "python3"
  },
  "language_info": {
   "codemirror_mode": {
    "name": "ipython",
    "version": 3
   },
   "file_extension": ".py",
   "mimetype": "text/x-python",
   "name": "python",
   "nbconvert_exporter": "python",
   "pygments_lexer": "ipython3",
   "version": "3.9.17"
  }
 },
 "nbformat": 4,
 "nbformat_minor": 4
}
