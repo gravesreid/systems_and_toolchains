{
 "cells": [
  {
   "cell_type": "markdown",
   "metadata": {
    "slideshow": {
     "slide_type": "slide"
    }
   },
   "source": [
    "<center><h2>SparkML: Machine Learning Models</h2></center>"
   ]
  },
  {
   "cell_type": "markdown",
   "metadata": {
    "slideshow": {
     "slide_type": "slide"
    }
   },
   "source": [
    "# 1. Data Ingestion, Preprocessing, and Tuning for Logistic Regression\n"
   ]
  },
  {
   "cell_type": "code",
   "execution_count": 3,
   "metadata": {},
   "outputs": [],
   "source": [
    "import pyspark\n",
    "from pyspark.sql import SparkSession, SQLContext\n",
    "from pyspark.ml import Pipeline,Transformer\n",
    "from pyspark.ml.feature import Imputer,StandardScaler,StringIndexer,OneHotEncoder, VectorAssembler\n",
    "\n",
    "from pyspark.sql.functions import *\n",
    "from pyspark.sql.types import *\n",
    "import numpy as np\n",
    "\n",
    "col_names = [\"duration\",\"protocol_type\",\"service\",\"flag\",\"src_bytes\",\n",
    "\"dst_bytes\",\"land\",\"wrong_fragment\",\"urgent\",\"hot\",\"num_failed_logins\",\n",
    "\"logged_in\",\"num_compromised\",\"root_shell\",\"su_attempted\",\"num_root\",\n",
    "\"num_file_creations\",\"num_shells\",\"num_access_files\",\"num_outbound_cmds\",\n",
    "\"is_host_login\",\"is_guest_login\",\"count\",\"srv_count\",\"serror_rate\",\n",
    "\"srv_serror_rate\",\"rerror_rate\",\"srv_rerror_rate\",\"same_srv_rate\",\n",
    "\"diff_srv_rate\",\"srv_diff_host_rate\",\"dst_host_count\",\"dst_host_srv_count\",\n",
    "\"dst_host_same_srv_rate\",\"dst_host_diff_srv_rate\",\"dst_host_same_src_port_rate\",\n",
    "\"dst_host_srv_diff_host_rate\",\"dst_host_serror_rate\",\"dst_host_srv_serror_rate\",\n",
    "\"dst_host_rerror_rate\",\"dst_host_srv_rerror_rate\",\"class\",\"difficulty\"]\n",
    "\n",
    "nominal_cols = ['protocol_type','service','flag']\n",
    "binary_cols = ['land', 'logged_in', 'root_shell', 'su_attempted', 'is_host_login',\n",
    "'is_guest_login']\n",
    "continuous_cols = ['duration' ,'src_bytes', 'dst_bytes', 'wrong_fragment' ,'urgent', 'hot',\n",
    "'num_failed_logins', 'num_compromised', 'num_root' ,'num_file_creations',\n",
    "'num_shells', 'num_access_files', 'num_outbound_cmds', 'count' ,'srv_count',\n",
    "'serror_rate', 'srv_serror_rate' ,'rerror_rate' ,'srv_rerror_rate',\n",
    "'same_srv_rate', 'diff_srv_rate', 'srv_diff_host_rate' ,'dst_host_count',\n",
    "'dst_host_srv_count' ,'dst_host_same_srv_rate' ,'dst_host_diff_srv_rate',\n",
    "'dst_host_same_src_port_rate' ,'dst_host_srv_diff_host_rate',\n",
    "'dst_host_serror_rate' ,'dst_host_srv_serror_rate', 'dst_host_rerror_rate',\n",
    "'dst_host_srv_rerror_rate']\n",
    "\n",
    "class OutcomeCreater(Transformer): # this defines a transformer that creates the outcome column\n",
    "    \n",
    "    def __init__(self):\n",
    "        super().__init__()\n",
    "\n",
    "    def _transform(self, dataset):\n",
    "        label_to_binary = udf(lambda name: 0.0 if name == 'normal' else 1.0)\n",
    "        output_df = dataset.withColumn('outcome', label_to_binary(col('class'))).drop(\"class\")  \n",
    "        output_df = output_df.withColumn('outcome', col('outcome').cast(DoubleType()))\n",
    "        output_df = output_df.drop('difficulty')\n",
    "        return output_df\n",
    "\n",
    "class FeatureTypeCaster(Transformer): # this transformer will cast the columns as appropriate types  \n",
    "    def __init__(self):\n",
    "        super().__init__()\n",
    "\n",
    "    def _transform(self, dataset):\n",
    "        output_df = dataset\n",
    "        for col_name in binary_cols + continuous_cols:\n",
    "            output_df = output_df.withColumn(col_name,col(col_name).cast(DoubleType()))\n",
    "\n",
    "        return output_df\n",
    "class ColumnDropper(Transformer): # this transformer drops unnecessary columns\n",
    "    def __init__(self, columns_to_drop = None):\n",
    "        super().__init__()\n",
    "        self.columns_to_drop=columns_to_drop\n",
    "    def _transform(self, dataset):\n",
    "        output_df = dataset\n",
    "        for col_name in self.columns_to_drop:\n",
    "            output_df = output_df.drop(col_name)\n",
    "        return output_df\n",
    "\n",
    "def get_preprocess_pipeline():\n",
    "    # Stage where columns are casted as appropriate types\n",
    "    stage_typecaster = FeatureTypeCaster()\n",
    "\n",
    "    # Stage where nominal columns are transformed to index columns using StringIndexer\n",
    "    nominal_id_cols = [x+\"_index\" for x in nominal_cols]\n",
    "    nominal_onehot_cols = [x+\"_encoded\" for x in nominal_cols]\n",
    "    stage_nominal_indexer = StringIndexer(inputCols = nominal_cols, outputCols = nominal_id_cols )\n",
    "\n",
    "    # Stage where the index columns are further transformed using OneHotEncoder\n",
    "    stage_nominal_onehot_encoder = OneHotEncoder(inputCols=nominal_id_cols, outputCols=nominal_onehot_cols)\n",
    "\n",
    "    # Stage where all relevant features are assembled into a vector (and dropping a few)\n",
    "    feature_cols = continuous_cols+binary_cols+nominal_onehot_cols\n",
    "    corelated_cols_to_remove = [\"dst_host_serror_rate\",\"srv_serror_rate\",\"dst_host_srv_serror_rate\",\n",
    "                     \"srv_rerror_rate\",\"dst_host_rerror_rate\",\"dst_host_srv_rerror_rate\"]\n",
    "    for col_name in corelated_cols_to_remove:\n",
    "        feature_cols.remove(col_name)\n",
    "    stage_vector_assembler = VectorAssembler(inputCols=feature_cols, outputCol=\"vectorized_features\")\n",
    "\n",
    "    # Stage where we scale the columns\n",
    "    stage_scaler = StandardScaler(inputCol= 'vectorized_features', outputCol= 'features')\n",
    "    \n",
    "\n",
    "    # Stage for creating the outcome column representing whether there is attack \n",
    "    stage_outcome = OutcomeCreater()\n",
    "\n",
    "    # Removing all unnecessary columbs, only keeping the 'features' and 'outcome' columns\n",
    "    stage_column_dropper = ColumnDropper(columns_to_drop = nominal_cols+nominal_id_cols+\n",
    "        nominal_onehot_cols+ binary_cols + continuous_cols + ['vectorized_features'])\n",
    "    # Connect the columns into a pipeline\n",
    "    pipeline = Pipeline(stages=[stage_typecaster,stage_nominal_indexer,stage_nominal_onehot_encoder,\n",
    "        stage_vector_assembler,stage_scaler,stage_outcome,stage_column_dropper])\n",
    "    return pipeline "
   ]
  },
  {
   "cell_type": "code",
   "execution_count": 5,
   "metadata": {},
   "outputs": [
    {
     "name": "stderr",
     "output_type": "stream",
     "text": [
      "24/10/02 15:47:10 WARN package: Truncated the string representation of a plan since it was too large. This behavior can be adjusted by setting 'spark.sql.debug.maxToStringFields'.\n"
     ]
    },
    {
     "data": {
      "text/plain": [
       "DataFrame[features: vector, outcome: double]"
      ]
     },
     "execution_count": 5,
     "metadata": {},
     "output_type": "execute_result"
    }
   ],
   "source": [
    "# if you installed Spark on windows, \n",
    "# you may need findspark and need to initialize it prior to being able to use pyspark\n",
    "# Also, you may need to initialize SparkContext yourself.\n",
    "# Uncomment the following lines if you are using Windows!\n",
    "#import findspark\n",
    "#findspark.init()\n",
    "#findspark.find()\n",
    "\n",
    "spark = SparkSession.builder \\\n",
    "    .master(\"local[*]\") \\\n",
    "    .appName(\"GenericAppName\") \\\n",
    "    .getOrCreate()\n",
    "\n",
    "nslkdd_raw = spark.read.csv('/home/reid/Projects/systems_and_toolchains/NSL-KDD/KDDTrain+.txt',header=False).toDF(*col_names)\n",
    "nslkdd_test_raw = spark.read.csv('/home/reid/Projects/systems_and_toolchains/NSL-KDD/KDDTest+.txt',header=False).toDF(*col_names)\n",
    "\n",
    "preprocess_pipeline = get_preprocess_pipeline()\n",
    "preprocess_pipeline_model = preprocess_pipeline.fit(nslkdd_raw)\n",
    "\n",
    "nslkdd_df = preprocess_pipeline_model.transform(nslkdd_raw)\n",
    "nslkdd_df_test = preprocess_pipeline_model.transform(nslkdd_test_raw)\n",
    "\n",
    "\n",
    "nslkdd_df.cache()\n",
    "nslkdd_df_test.cache()"
   ]
  },
  {
   "cell_type": "markdown",
   "metadata": {},
   "source": [
    "Let's also rerun the tuning for cross validation as we will do comparisons with logistic regression later. \n"
   ]
  },
  {
   "cell_type": "code",
   "execution_count": 6,
   "metadata": {},
   "outputs": [
    {
     "name": "stderr",
     "output_type": "stream",
     "text": [
      "24/10/02 15:47:21 WARN InstanceBuilder: Failed to load implementation from:dev.ludovic.netlib.blas.JNIBLAS\n"
     ]
    }
   ],
   "source": [
    "from pyspark.ml.classification import LogisticRegression\n",
    "from pyspark.ml.tuning import ParamGridBuilder, CrossValidator\n",
    "from pyspark.ml.evaluation import BinaryClassificationEvaluator\n",
    "\n",
    "from sklearn.metrics import roc_curve\n",
    "import pyspark.sql.functions as F\n",
    "import pyspark.sql.types as T\n",
    "import numpy\n",
    "from matplotlib import pyplot as plt\n",
    "\n",
    "# Estimator\n",
    "lr = LogisticRegression(featuresCol = 'features', labelCol = 'outcome')\n",
    "\n",
    "# ParameterGrid\n",
    "lr_paramGrid = (ParamGridBuilder()\n",
    "             .addGrid(lr.regParam, [0.01, 0.5, 2.0])\n",
    "             .addGrid(lr.maxIter, [1, 5, 10])\n",
    "             .build())\n",
    "\n",
    "# Evaluator\n",
    "evaluator = BinaryClassificationEvaluator(rawPredictionCol='rawPrediction', \n",
    "    labelCol='outcome', metricName='areaUnderROC')\n",
    "\n",
    "# CrossValidator\n",
    "lr_cv = CrossValidator(estimator=lr, estimatorParamMaps=lr_paramGrid, \n",
    "                    evaluator=evaluator, numFolds=5)\n",
    "\n",
    "# Hyper Parameter Tuning via cross validation\n",
    "lr_cv_model = lr_cv.fit(nslkdd_df)\n",
    "\n",
    "# Make predictions on the test data set and compute the fpr, tpr, and AUC\n",
    "lr_cv_prediction_test = lr_cv_model.transform(nslkdd_df_test)\n",
    "outcome_true = lr_cv_prediction_test.select('outcome').toPandas() # the true outcome label as Pandas df\n",
    "\n",
    "to_array = F.udf(lambda v: v.toArray().tolist(), T.ArrayType(T.FloatType()))\n",
    "\n",
    "lr_cv_pred_prob = (lr_cv_prediction_test.select(\"probability\").\n",
    "        withColumn('probability', to_array('probability')).toPandas())\n",
    "lr_cv_pred_prob = np.array(lr_cv_pred_prob['probability'].values.tolist())\n",
    "\n",
    "lr_cv_fpr, lr_cv_tpr, lr_cv_thresholds = roc_curve(outcome_true, lr_cv_pred_prob[:,1])\n",
    "\n",
    "lr_cv_auc = evaluator.evaluate(lr_cv_prediction_test)"
   ]
  },
  {
   "cell_type": "markdown",
   "metadata": {},
   "source": [
    "# 2. Support Vector Machine\n"
   ]
  },
  {
   "cell_type": "markdown",
   "metadata": {},
   "source": [
    "\n",
    "So far we have trained, tuned and evaluated the **logistic regression** model for classification. Logistic regression is perhaps one of the simpliest models for classification and is a good starting point, but their performance is usually not the best because of the linear relationshiop between the feature and the score. \n",
    "\n",
    "We now will go through a range of other modern ML models that are commonly used in the industry.\n",
    "\n",
    "\n",
    "- Support vector machine (SVM)\n",
    "\n",
    "- Tree-like models, including decision tree, random forest. \n",
    "\n",
    "- Naive Bayes\n",
    "\n",
    "Let's start with SVM. The pros and cons of SVM are summarized as follows. \n",
    "\n",
    "**Pros of SVM**\n",
    "\n",
    "- SVM is not sensitive to (some) outliers. Only the points at the boundary will determine the decision boundary. Outlier points, as long as they do not affect the boundary, will be \"ignored\". \n",
    "\n",
    "- SVM also enjoys certain computational/memory benefits as only \"boundary\" points are used to compute the decision boundary. \n",
    "\n",
    "- Another advantage of SVM is the ''kernel trick'' that allows nonlinear decision boundaries. Unfortunately this feature is not supported by SparkML right now. \n",
    "\n",
    "**Cons of SVM**\n",
    "\n",
    "- Does not provide a probability estimate, only rawPredictions. \n",
    "\n",
    "- Works less well when the two classes are \"overlapping\", i.e. the boundary is not clearly defined. \n",
    "\n",
    "\n",
    "Let's implement SVM using SparkML. The process is very similar to logistic regression. "
   ]
  },
  {
   "cell_type": "code",
   "execution_count": 7,
   "metadata": {},
   "outputs": [],
   "source": [
    "# The implementation of SVM on spark ML is pretty straightforward - just find the right class from the sparkml library\n",
    "\n",
    "from pyspark.ml.classification import LinearSVC\n",
    "\n",
    "svm = LinearSVC(featuresCol=\"features\",labelCol = \"outcome\")\n",
    "\n",
    "svm_model = svm.fit(nslkdd_df)\n",
    "\n"
   ]
  },
  {
   "cell_type": "code",
   "execution_count": 8,
   "metadata": {},
   "outputs": [
    {
     "name": "stdout",
     "output_type": "stream",
     "text": [
      "Train accuracy = 97.5%\n",
      "Test accuracy = 75.39%\n",
      "AUC = 0.82\n"
     ]
    }
   ],
   "source": [
    "\n",
    "# make predictions on training dataset and test data set\n",
    "svm_prediction_train = svm_model.transform(nslkdd_df)\n",
    "svm_prediction_test = svm_model.transform(nslkdd_df_test)\n",
    "\n",
    "# calculate train and test accuracy\n",
    "svm_accuracy_train = (svm_prediction_train.filter(\n",
    "    svm_prediction_train.outcome == svm_prediction_train.prediction).count() / \n",
    "    float(svm_prediction_train.count()))\n",
    "svm_accuracy_test = (svm_prediction_test.filter(\n",
    "    svm_prediction_test.outcome == svm_prediction_test.prediction).count()\n",
    "    / float(svm_prediction_test.count()))\n",
    "    \n",
    "# calculate AUC\n",
    "svm_auc = evaluator.evaluate(svm_prediction_test)\n",
    "\n",
    "print(f\"Train accuracy = {np.round(svm_accuracy_train*100,2)}%\")\n",
    "print(f\"Test accuracy = {np.round(svm_accuracy_test*100,2)}%\")\n",
    "print(f\"AUC = {np.round(svm_auc,2)}\")"
   ]
  },
  {
   "cell_type": "markdown",
   "metadata": {},
   "source": [
    "We will also tune the hyper-parameters (maxIter, regParam) for SVM. Their meanings are quite similar as in the case of logistic regression. \n"
   ]
  },
  {
   "cell_type": "code",
   "execution_count": 9,
   "metadata": {},
   "outputs": [
    {
     "name": "stderr",
     "output_type": "stream",
     "text": [
      "24/10/02 15:52:25 WARN BlockManager: Asked to remove block broadcast_6924, which does not exist\n"
     ]
    }
   ],
   "source": [
    "from pyspark.ml.tuning import ParamGridBuilder, CrossValidator\n",
    "from pyspark.ml.evaluation import BinaryClassificationEvaluator\n",
    "\n",
    "svm = LinearSVC(featuresCol=\"features\",labelCol = \"outcome\")\n",
    "\n",
    "svm_paramGrid = (ParamGridBuilder()\n",
    "             .addGrid(svm.regParam, [0.01, 0.5, 2.0])# regularization parameter\n",
    "             .addGrid(svm.maxIter, [10, 50, 100])#Number of iterations\n",
    "             .build())\n",
    "\n",
    "evaluator = BinaryClassificationEvaluator(rawPredictionCol='rawPrediction', \n",
    "    labelCol='outcome', metricName='areaUnderROC')\n",
    "\n",
    "svm_cv = CrossValidator(estimator=svm, estimatorParamMaps=svm_paramGrid, \n",
    "                    evaluator=evaluator, numFolds=5)\n",
    "\n",
    "svm_cv_model = svm_cv.fit(nslkdd_df)\n"
   ]
  },
  {
   "cell_type": "markdown",
   "metadata": {},
   "source": [
    "Let's evaluate the performance of the tuned SVM and compare it with logistic regression. "
   ]
  },
  {
   "cell_type": "code",
   "execution_count": 10,
   "metadata": {},
   "outputs": [
    {
     "name": "stdout",
     "output_type": "stream",
     "text": [
      "Before cross-validation and parameter tuning, AUC=0.82\n",
      "After cross-validation and parameter tuning, AUC=0.83\n"
     ]
    }
   ],
   "source": [
    "svm_cv_prediction_test = svm_cv_model.transform(nslkdd_df_test)\n",
    "\n",
    "svm_cv_auc = evaluator.evaluate(svm_cv_prediction_test)\n",
    "\n",
    "print(f\"Before cross-validation and parameter tuning, AUC={np.round(svm_auc,2)}\")\n",
    "print(f\"After cross-validation and parameter tuning, AUC={np.round(svm_cv_auc,2)}\")\n"
   ]
  },
  {
   "cell_type": "code",
   "execution_count": 11,
   "metadata": {},
   "outputs": [
    {
     "data": {
      "text/plain": [
       "<matplotlib.legend.Legend at 0x7ffb57883f50>"
      ]
     },
     "execution_count": 11,
     "metadata": {},
     "output_type": "execute_result"
    },
    {
     "data": {
      "image/png": "[encoded data removed]",
      "text/plain": [
       "<Figure size 640x480 with 1 Axes>"
      ]
     },
     "metadata": {},
     "output_type": "display_data"
    }
   ],
   "source": [
    "\n",
    "svm_cv_prediction_raw = np.array(\n",
    "    svm_cv_prediction_test.select(\"rawPrediction\").toPandas().values.tolist()).squeeze()\n",
    "\n",
    "svm_cv_fpr, svm_cv_tpr,_ = roc_curve(outcome_true,svm_cv_prediction_raw[:,1])\n",
    "\n",
    "plt.figure()\n",
    "plt.plot(lr_cv_fpr,lr_cv_tpr,label='Logistic Regression')\n",
    "plt.plot(svm_cv_fpr,svm_cv_tpr,label='SVM')\n",
    "plt.title('ROC Comparison after Tuning')\n",
    "plt.legend()\n"
   ]
  },
  {
   "cell_type": "markdown",
   "metadata": {},
   "source": [
    "# 3. Tree Like Models"
   ]
  },
  {
   "cell_type": "markdown",
   "metadata": {},
   "source": [
    "## 3.1 Decision Tree\n",
    "\n",
    "A decision tree builds upon iteratively asking questions to partition data. It is easier to conceptualize the partitioning data with a visual representation of a decision tree.\n",
    "\n",
    "<center><figure><img src=\"http://stat.cmu.edu/~mfarag/14810/l17/decision_tree.png\"/><figcaption>Image taken from <a href=\"https://jakevdp.github.io/PythonDataScienceHandbook/06.00-figure-code.html#Decision-Tree-Example\">here</a></figcaption></figure></center>"
   ]
  },
  {
   "cell_type": "markdown",
   "metadata": {},
   "source": [
    "## 3.2 Random Forest\n",
    "\n",
    "One decision tree is prone to overfitting. To reduce the risk of overfitting, models that combine many decision trees are preferred. These combined models also have better performance. Random forests use a method called bagging to combine many decision trees to create an ensemble. Bagging simply means combining in parallel. Random forest also uses other tricks to reduce overfitting, including bootstrap sampling, and feature subsampling. \n",
    "\n",
    "The implementation of random forest in sparkML is very straightforward. "
   ]
  },
  {
   "cell_type": "code",
   "execution_count": 12,
   "metadata": {},
   "outputs": [],
   "source": [
    "from pyspark.ml.classification import RandomForestClassifier\n",
    "\n",
    "rf = RandomForestClassifier(featuresCol = 'features', labelCol = 'outcome')\n",
    "rf_model = rf.fit(nslkdd_df)\n",
    "\n"
   ]
  },
  {
   "cell_type": "markdown",
   "metadata": {},
   "source": [
    "As usual, `rf_model` is now a Transformer and we now use it to make predictions on both the training dataset and the test dataset. We also calculate the train and test accuracy as well as the AUC. "
   ]
  },
  {
   "cell_type": "code",
   "execution_count": 13,
   "metadata": {},
   "outputs": [
    {
     "name": "stdout",
     "output_type": "stream",
     "text": [
      "Train accuracy = 97.71%, test accuracy = 74.64%, AUC = 0.95\n"
     ]
    }
   ],
   "source": [
    "rf_prediction_train = rf_model.transform(nslkdd_df)\n",
    "rf_prediction_test = rf_model.transform(nslkdd_df_test)\n",
    "\n",
    "rf_accuracy_train = (rf_prediction_train.filter(rf_prediction_train.outcome == rf_prediction_train.prediction)\n",
    "    .count()/ float(rf_prediction_train.count()))\n",
    "rf_accuracy_test = (rf_prediction_test.filter(rf_prediction_test.outcome == rf_prediction_test.prediction)\n",
    "    .count() / float(rf_prediction_test.count()))\n",
    "\n",
    "rf_auc = evaluator.evaluate(rf_prediction_test)\n",
    "\n",
    "print(f\"Train accuracy = {np.round(rf_accuracy_train*100,2)}%, test accuracy = {np.round(rf_accuracy_test*100,2)}%, AUC = {np.round(rf_auc,2)}\")"
   ]
  },
  {
   "cell_type": "markdown",
   "metadata": {},
   "source": [
    "### Hyper-Parameter Tuning for Random Forest\n",
    "\n",
    "Two key parameters for random forest is maxDepth (maximum allowed depth in each tree), and numTrees (the number of trees). Let's tune the two parameters with cross-validation. "
   ]
  },
  {
   "cell_type": "code",
   "execution_count": 14,
   "metadata": {},
   "outputs": [
    {
     "name": "stderr",
     "output_type": "stream",
     "text": [
      "24/10/02 16:07:51 WARN DAGScheduler: Broadcasting large task binary with size 1139.8 KiB\n",
      "24/10/02 16:07:51 WARN DAGScheduler: Broadcasting large task binary with size 1420.3 KiB\n",
      "24/10/02 16:07:55 WARN DAGScheduler: Broadcasting large task binary with size 1083.5 KiB\n",
      "24/10/02 16:07:55 WARN DAGScheduler: Broadcasting large task binary with size 1216.6 KiB\n",
      "24/10/02 16:07:55 WARN DAGScheduler: Broadcasting large task binary with size 1336.3 KiB\n",
      "24/10/02 16:07:55 WARN DAGScheduler: Broadcasting large task binary with size 1437.7 KiB\n",
      "24/10/02 16:07:58 WARN DAGScheduler: Broadcasting large task binary with size 1139.8 KiB\n",
      "24/10/02 16:07:58 WARN DAGScheduler: Broadcasting large task binary with size 1420.3 KiB\n",
      "24/10/02 16:07:58 WARN DAGScheduler: Broadcasting large task binary with size 1704.4 KiB\n",
      "24/10/02 16:07:58 WARN DAGScheduler: Broadcasting large task binary with size 1968.1 KiB\n",
      "24/10/02 16:07:59 WARN DAGScheduler: Broadcasting large task binary with size 2.2 MiB\n",
      "24/10/02 16:07:59 WARN DAGScheduler: Broadcasting large task binary with size 2.4 MiB\n",
      "24/10/02 16:07:59 WARN DAGScheduler: Broadcasting large task binary with size 2.6 MiB\n",
      "24/10/02 16:08:00 WARN DAGScheduler: Broadcasting large task binary with size 1525.5 KiB\n",
      "24/10/02 16:08:08 WARN DAGScheduler: Broadcasting large task binary with size 1124.1 KiB\n",
      "24/10/02 16:08:09 WARN DAGScheduler: Broadcasting large task binary with size 1403.3 KiB\n",
      "24/10/02 16:08:13 WARN DAGScheduler: Broadcasting large task binary with size 1092.0 KiB\n",
      "24/10/02 16:08:13 WARN DAGScheduler: Broadcasting large task binary with size 1230.4 KiB\n",
      "24/10/02 16:08:13 WARN DAGScheduler: Broadcasting large task binary with size 1355.4 KiB\n",
      "24/10/02 16:08:13 WARN DAGScheduler: Broadcasting large task binary with size 1465.4 KiB\n",
      "24/10/02 16:08:15 WARN DAGScheduler: Broadcasting large task binary with size 1124.1 KiB\n",
      "24/10/02 16:08:16 WARN DAGScheduler: Broadcasting large task binary with size 1403.3 KiB\n",
      "24/10/02 16:08:16 WARN DAGScheduler: Broadcasting large task binary with size 1691.6 KiB\n",
      "24/10/02 16:08:16 WARN DAGScheduler: Broadcasting large task binary with size 1975.2 KiB\n",
      "24/10/02 16:08:17 WARN DAGScheduler: Broadcasting large task binary with size 2.2 MiB\n",
      "24/10/02 16:08:17 WARN DAGScheduler: Broadcasting large task binary with size 2.4 MiB\n",
      "24/10/02 16:08:17 WARN DAGScheduler: Broadcasting large task binary with size 2.6 MiB\n",
      "24/10/02 16:08:18 WARN DAGScheduler: Broadcasting large task binary with size 1556.8 KiB\n",
      "24/10/02 16:08:26 WARN DAGScheduler: Broadcasting large task binary with size 1142.3 KiB\n",
      "24/10/02 16:08:26 WARN DAGScheduler: Broadcasting large task binary with size 1429.6 KiB\n",
      "24/10/02 16:08:30 WARN DAGScheduler: Broadcasting large task binary with size 1103.2 KiB\n",
      "24/10/02 16:08:31 WARN DAGScheduler: Broadcasting large task binary with size 1240.4 KiB\n",
      "24/10/02 16:08:31 WARN DAGScheduler: Broadcasting large task binary with size 1361.2 KiB\n",
      "24/10/02 16:08:31 WARN DAGScheduler: Broadcasting large task binary with size 1471.5 KiB\n",
      "24/10/02 16:08:33 WARN DAGScheduler: Broadcasting large task binary with size 1142.3 KiB\n",
      "24/10/02 16:08:33 WARN DAGScheduler: Broadcasting large task binary with size 1429.6 KiB\n",
      "24/10/02 16:08:34 WARN DAGScheduler: Broadcasting large task binary with size 1726.9 KiB\n",
      "24/10/02 16:08:34 WARN DAGScheduler: Broadcasting large task binary with size 2017.0 KiB\n",
      "24/10/02 16:08:34 WARN DAGScheduler: Broadcasting large task binary with size 2.2 MiB\n",
      "24/10/02 16:08:35 WARN DAGScheduler: Broadcasting large task binary with size 2.5 MiB\n",
      "24/10/02 16:08:35 WARN DAGScheduler: Broadcasting large task binary with size 2.7 MiB\n",
      "24/10/02 16:08:36 WARN DAGScheduler: Broadcasting large task binary with size 1561.6 KiB\n",
      "24/10/02 16:08:44 WARN DAGScheduler: Broadcasting large task binary with size 1108.5 KiB\n",
      "24/10/02 16:08:44 WARN DAGScheduler: Broadcasting large task binary with size 1383.0 KiB\n",
      "24/10/02 16:08:48 WARN DAGScheduler: Broadcasting large task binary with size 1107.4 KiB\n",
      "24/10/02 16:08:48 WARN DAGScheduler: Broadcasting large task binary with size 1247.2 KiB\n",
      "24/10/02 16:08:48 WARN DAGScheduler: Broadcasting large task binary with size 1375.1 KiB\n",
      "24/10/02 16:08:48 WARN DAGScheduler: Broadcasting large task binary with size 1487.9 KiB\n",
      "24/10/02 16:08:50 WARN DAGScheduler: Broadcasting large task binary with size 1108.5 KiB\n",
      "24/10/02 16:08:51 WARN DAGScheduler: Broadcasting large task binary with size 1383.0 KiB\n",
      "24/10/02 16:08:51 WARN DAGScheduler: Broadcasting large task binary with size 1656.5 KiB\n",
      "24/10/02 16:08:51 WARN DAGScheduler: Broadcasting large task binary with size 1923.9 KiB\n",
      "24/10/02 16:08:52 WARN DAGScheduler: Broadcasting large task binary with size 2.1 MiB\n",
      "24/10/02 16:08:52 WARN DAGScheduler: Broadcasting large task binary with size 2.3 MiB\n",
      "24/10/02 16:08:52 WARN DAGScheduler: Broadcasting large task binary with size 2.5 MiB\n",
      "24/10/02 16:08:53 WARN DAGScheduler: Broadcasting large task binary with size 1484.9 KiB\n",
      "24/10/02 16:09:01 WARN DAGScheduler: Broadcasting large task binary with size 1109.8 KiB\n",
      "24/10/02 16:09:01 WARN DAGScheduler: Broadcasting large task binary with size 1384.7 KiB\n",
      "24/10/02 16:09:05 WARN DAGScheduler: Broadcasting large task binary with size 1063.6 KiB\n",
      "24/10/02 16:09:05 WARN DAGScheduler: Broadcasting large task binary with size 1180.9 KiB\n",
      "24/10/02 16:09:05 WARN DAGScheduler: Broadcasting large task binary with size 1290.5 KiB\n",
      "24/10/02 16:09:05 WARN DAGScheduler: Broadcasting large task binary with size 1386.0 KiB\n",
      "24/10/02 16:09:07 WARN DAGScheduler: Broadcasting large task binary with size 1109.8 KiB\n",
      "24/10/02 16:09:08 WARN DAGScheduler: Broadcasting large task binary with size 1384.7 KiB\n",
      "24/10/02 16:09:08 WARN DAGScheduler: Broadcasting large task binary with size 1664.7 KiB\n",
      "24/10/02 16:09:08 WARN DAGScheduler: Broadcasting large task binary with size 1933.7 KiB\n",
      "24/10/02 16:09:09 WARN DAGScheduler: Broadcasting large task binary with size 2.1 MiB\n",
      "24/10/02 16:09:09 WARN DAGScheduler: Broadcasting large task binary with size 2.3 MiB\n",
      "24/10/02 16:09:09 WARN DAGScheduler: Broadcasting large task binary with size 2.5 MiB\n",
      "24/10/02 16:09:10 WARN DAGScheduler: Broadcasting large task binary with size 1511.3 KiB\n",
      "24/10/02 16:09:12 WARN DAGScheduler: Broadcasting large task binary with size 1138.9 KiB\n",
      "24/10/02 16:09:12 WARN DAGScheduler: Broadcasting large task binary with size 1432.8 KiB\n",
      "24/10/02 16:09:13 WARN DAGScheduler: Broadcasting large task binary with size 1742.4 KiB\n",
      "24/10/02 16:09:13 WARN DAGScheduler: Broadcasting large task binary with size 2045.1 KiB\n",
      "24/10/02 16:09:14 WARN DAGScheduler: Broadcasting large task binary with size 2.3 MiB\n",
      "24/10/02 16:09:14 WARN DAGScheduler: Broadcasting large task binary with size 2.5 MiB\n",
      "24/10/02 16:09:14 WARN DAGScheduler: Broadcasting large task binary with size 2.7 MiB\n",
      "24/10/02 16:09:15 WARN DAGScheduler: Broadcasting large task binary with size 1605.7 KiB\n"
     ]
    }
   ],
   "source": [
    "rf_paramGrid = (ParamGridBuilder()\n",
    "             .addGrid(rf.maxDepth, [5, 10, 15])# maximum depth for each tree\n",
    "             .addGrid(rf.numTrees,[10, 20, 40])# number of trues\n",
    "             .build())\n",
    "\n",
    "rf_cv = CrossValidator(estimator=rf, estimatorParamMaps=rf_paramGrid, \n",
    "                    evaluator=evaluator, numFolds=5)\n",
    "\n",
    "rf_cv_model = rf_cv.fit(nslkdd_df)\n",
    "\n",
    "rf_cv_prediction_test = rf_cv_model.transform(nslkdd_df_test)\n",
    "rf_cv_auc = evaluator.evaluate(rf_cv_prediction_test)\n",
    "\n",
    "\n",
    "\n"
   ]
  },
  {
   "cell_type": "code",
   "execution_count": 15,
   "metadata": {},
   "outputs": [
    {
     "name": "stdout",
     "output_type": "stream",
     "text": [
      "Before cross-validation and parameter tuning, AUC=0.95\n",
      "After cross-validation and parameter tuning, AUC=0.97\n"
     ]
    }
   ],
   "source": [
    "print(f\"Before cross-validation and parameter tuning, AUC={np.round(rf_auc,2)}\")\n",
    "print(f\"After cross-validation and parameter tuning, AUC={np.round(rf_cv_auc,2)}\")\n"
   ]
  },
  {
   "cell_type": "code",
   "execution_count": 16,
   "metadata": {},
   "outputs": [
    {
     "name": "stderr",
     "output_type": "stream",
     "text": [
      "24/10/02 16:09:52 WARN DAGScheduler: Broadcasting large task binary with size 1598.2 KiB\n"
     ]
    },
    {
     "data": {
      "text/plain": [
       "<matplotlib.legend.Legend at 0x7ffb577cdb80>"
      ]
     },
     "execution_count": 16,
     "metadata": {},
     "output_type": "execute_result"
    },
    {
     "data": {
      "image/png": "[encoded data removed]",
      "text/plain": [
       "<Figure size 640x480 with 1 Axes>"
      ]
     },
     "metadata": {},
     "output_type": "display_data"
    }
   ],
   "source": [
    "rf_prediction_score = np.array(rf_cv_prediction_test.select(\"rawPrediction\").toPandas().values.tolist()).squeeze()\n",
    "rf_cv_fpr, rf_cv_tpr,_ = roc_curve(outcome_true,rf_prediction_score[:,1])\n",
    "\n",
    "plt.figure()\n",
    "plt.plot(lr_cv_fpr,lr_cv_tpr,label = 'Logistic Regression')\n",
    "plt.plot(svm_cv_fpr,svm_cv_tpr,label='SVM')\n",
    "plt.plot(rf_cv_fpr,rf_cv_tpr,label='Random Forest')\n",
    "\n",
    "plt.legend()"
   ]
  },
  {
   "cell_type": "markdown",
   "metadata": {},
   "source": [
    "# 4. Naive Bayes \n"
   ]
  },
  {
   "cell_type": "markdown",
   "metadata": {},
   "source": [
    "\n",
    "Naive bayes is a generative probability model used for classification problems. It is the prime model used for text classifications, where the number of features is very large. It is extensively used for sentiment analysis, spam filtering etc.\n",
    "\n",
    "This model is based on the Bayes Rule which can be stated as the following:\n",
    "\n",
    "<center><figure><img src=\"http://stat.cmu.edu/~mfarag/14810/l17/bayes_rule.png\"/><figcaption></figcaption></figure></center>\n",
    "<ul>\n",
    "<li>P(A|B) : (posterior probability) probability of event A to happen when event B is true.</li>\n",
    "<li>P(A) ,P(B) : probability of event A and event B to happen.</li>\n",
    "    <li>P(B|A) : (likelihood) probability of event B to happen when event A is true.</li>\n",
    "    </ul>\n",
    "\n",
    "The basic logic is to derive the probability of output label $Y = C_i$ given the input $x$ , from individual probabilities of features($x_i$) given output label as $Y = C_i$ (which can be infered from the training data).\n",
    "\n",
    "<center><figure><img src=\"http://stat.cmu.edu/~mfarag/14810/l17/naive_bayes.png\"/><figcaption></figcaption></figure></center>\n",
    "\n",
    "The major assumption of naive bayes is that all features tend to be mutually independent. It sometimes does not work well as not all data satisfy this assumption. However, it does have several advantages:\n",
    "<ul>\n",
    "    <li>It works well with less training data.</li>\n",
    "    <li>Handles irrelevant features.</li>\n",
    "    <li>Supports binary and multi-class classification problems.</li>\n",
    "    </ul>\n",
    "    \n",
    " Now, let's look at the code. The first step is to create the Estimator `NaiveBayes` and the run the `fit` method. "
   ]
  },
  {
   "cell_type": "code",
   "execution_count": 17,
   "metadata": {},
   "outputs": [],
   "source": [
    "from pyspark.ml.classification import NaiveBayes\n",
    "\n",
    "nb = NaiveBayes(featuresCol = 'features', labelCol = 'outcome', modelType = \"gaussian\" )\n",
    "nb_model = nb.fit(nslkdd_df)\n",
    "\n"
   ]
  },
  {
   "cell_type": "markdown",
   "metadata": {},
   "source": [
    "Then, we use the fitted model to transform both the training and the test dataset, and calculate the train/test accuracy and the AUC. "
   ]
  },
  {
   "cell_type": "code",
   "execution_count": 18,
   "metadata": {},
   "outputs": [
    {
     "name": "stdout",
     "output_type": "stream",
     "text": [
      "Train accuracy = 70.98%, test accuracy = 51.23%, AUC = 0.6\n"
     ]
    }
   ],
   "source": [
    "nb_prediction_train = nb_model.transform(nslkdd_df)\n",
    "nb_prediction_test = nb_model.transform(nslkdd_df_test)\n",
    "\n",
    "nb_accuracy_train = (nb_prediction_train.filter(nb_prediction_train.outcome == nb_prediction_train.prediction)\n",
    "    .count() / float(nb_prediction_train.count()))\n",
    "nb_accuracy_test = (nb_prediction_test.filter(nb_prediction_test.outcome == nb_prediction_test.prediction)\n",
    "    .count() / float(nb_prediction_test.count()))\n",
    "nb_auc = evaluator.evaluate(nb_prediction_test)\n",
    "\n",
    "print(f\"Train accuracy = {np.round(nb_accuracy_train*100,2)}%, test accuracy = {np.round(nb_accuracy_test*100,2)}%, AUC = {np.round(nb_auc,2)}\")\n"
   ]
  },
  {
   "cell_type": "markdown",
   "metadata": {},
   "source": [
    "Finally, let's compare the ROC curve of all the tuned models we have tried so far. "
   ]
  },
  {
   "cell_type": "code",
   "execution_count": 19,
   "metadata": {},
   "outputs": [
    {
     "data": {
      "text/plain": [
       "<matplotlib.legend.Legend at 0x7ffb57854a40>"
      ]
     },
     "execution_count": 19,
     "metadata": {},
     "output_type": "execute_result"
    },
    {
     "data": {
      "image/png": "[encoded data removed]",
      "text/plain": [
       "<Figure size 640x480 with 1 Axes>"
      ]
     },
     "metadata": {},
     "output_type": "display_data"
    }
   ],
   "source": [
    "nb_prediction_score = np.array(nb_prediction_test.select(\"rawPrediction\").toPandas().values.tolist()).squeeze()\n",
    "\n",
    "nb_cv_fpr, nb_cv_tpr,_ = roc_curve(outcome_true,nb_prediction_score[:,1])\n",
    "\n",
    "\n",
    "plt.figure()\n",
    "plt.plot(lr_cv_fpr,lr_cv_tpr,label = 'Logistic Regression')\n",
    "plt.plot(svm_cv_fpr,svm_cv_tpr,label='SVM')\n",
    "plt.plot(rf_cv_fpr,rf_cv_tpr,label='Random Forest')\n",
    "plt.plot(nb_cv_fpr,nb_cv_tpr,label='Naive Bayes')\n",
    "\n",
    "plt.legend()"
   ]
  },
  {
   "cell_type": "code",
   "execution_count": null,
   "metadata": {},
   "outputs": [],
   "source": []
  }
 ],
 "metadata": {
  "celltoolbar": "Slideshow",
  "kernelspec": {
   "display_name": "Python 3 (ipykernel)",
   "language": "python",
   "name": "python3"
  },
  "language_info": {
   "codemirror_mode": {
    "name": "ipython",
    "version": 3
   },
   "file_extension": ".py",
   "mimetype": "text/x-python",
   "name": "python",
   "nbconvert_exporter": "python",
   "pygments_lexer": "ipython3",
   "version": "3.12.5"
  },
  "vscode": {
   "interpreter": {
    "hash": "8276d678390595138ef1424ae828a970263a6f746980760e1cfd17345ae3e994"
   }
  }
 },
 "nbformat": 4,
 "nbformat_minor": 4
}
